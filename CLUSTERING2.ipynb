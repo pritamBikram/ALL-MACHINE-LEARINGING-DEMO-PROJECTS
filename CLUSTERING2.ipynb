{
 "cells": [
  {
   "cell_type": "code",
   "execution_count": 1,
   "metadata": {},
   "outputs": [],
   "source": [
    "import pandas as pd\n",
    "import matplotlib.pyplot as plt\n",
    "%matplotlib inline\n",
    "import numpy as np\n",
    "from sklearn.cluster import KMeans\n",
    "from sklearn.metrics import silhouette_score,silhouette_samples\n",
    "import matplotlib.cm as cm"
   ]
  },
  {
   "cell_type": "code",
   "execution_count": 2,
   "metadata": {},
   "outputs": [],
   "source": [
    "df=pd.read_csv('dow_jones_index.data',sep=',')"
   ]
  },
  {
   "cell_type": "code",
   "execution_count": 3,
   "metadata": {},
   "outputs": [
    {
     "name": "stdout",
     "output_type": "stream",
     "text": [
      "   quarter stock       date    open    high     low   close     volume  \\\n",
      "0        1    AA   1/7/2011  $15.82  $16.72  $15.78  $16.42  239655616   \n",
      "1        1    AA  1/14/2011  $16.71  $16.71  $15.64  $15.97  242963398   \n",
      "2        1    AA  1/21/2011  $16.19  $16.38  $15.60  $15.79  138428495   \n",
      "3        1    AA  1/28/2011  $15.87  $16.63  $15.82  $16.13  151379173   \n",
      "4        1    AA   2/4/2011  $16.18  $17.39  $16.18  $17.14  154387761   \n",
      "\n",
      "   percent_change_price  percent_change_volume_over_last_wk  \\\n",
      "0               3.79267                                 NaN   \n",
      "1              -4.42849                            1.380223   \n",
      "2              -2.47066                          -43.024959   \n",
      "3               1.63831                            9.355500   \n",
      "4               5.93325                            1.987452   \n",
      "\n",
      "   previous_weeks_volume next_weeks_open next_weeks_close  \\\n",
      "0                    NaN          $16.71           $15.97   \n",
      "1            239655616.0          $16.19           $15.79   \n",
      "2            242963398.0          $15.87           $16.13   \n",
      "3            138428495.0          $16.18           $17.14   \n",
      "4            151379173.0          $17.33           $17.37   \n",
      "\n",
      "   percent_change_next_weeks_price  days_to_next_dividend  \\\n",
      "0                        -4.428490                     26   \n",
      "1                        -2.470660                     19   \n",
      "2                         1.638310                     12   \n",
      "3                         5.933250                      5   \n",
      "4                         0.230814                     97   \n",
      "\n",
      "   percent_return_next_dividend  \n",
      "0                      0.182704  \n",
      "1                      0.187852  \n",
      "2                      0.189994  \n",
      "3                      0.185989  \n",
      "4                      0.175029  \n"
     ]
    }
   ],
   "source": [
    "print(df.head())"
   ]
  },
  {
   "cell_type": "markdown",
   "metadata": {},
   "source": [
    "## MISSING VALUES"
   ]
  },
  {
   "cell_type": "code",
   "execution_count": 4,
   "metadata": {},
   "outputs": [
    {
     "name": "stdout",
     "output_type": "stream",
     "text": [
      "quarter:0\n",
      "stock:0\n",
      "date:0\n",
      "open:0\n",
      "high:0\n",
      "low:0\n",
      "close:0\n",
      "volume:0\n",
      "percent_change_price:0\n",
      "percent_change_volume_over_last_wk:30\n",
      "previous_weeks_volume:30\n",
      "next_weeks_open:0\n",
      "next_weeks_close:0\n",
      "percent_change_next_weeks_price:0\n",
      "days_to_next_dividend:0\n",
      "percent_return_next_dividend:0\n"
     ]
    }
   ],
   "source": [
    "for i in df.columns:\n",
    "    print(f\"{i}:{df[i].isnull().sum()}\")"
   ]
  },
  {
   "cell_type": "code",
   "execution_count": 5,
   "metadata": {},
   "outputs": [],
   "source": [
    "## TRACK THE FEATURES WHICH HAS NAN VALUES:"
   ]
  },
  {
   "cell_type": "code",
   "execution_count": 6,
   "metadata": {},
   "outputs": [],
   "source": [
    "features_nan=[features for features in df.columns if(df[features].isnull().sum()>0)]"
   ]
  },
  {
   "cell_type": "code",
   "execution_count": 7,
   "metadata": {},
   "outputs": [
    {
     "data": {
      "text/plain": [
       "['percent_change_volume_over_last_wk', 'previous_weeks_volume']"
      ]
     },
     "execution_count": 7,
     "metadata": {},
     "output_type": "execute_result"
    }
   ],
   "source": [
    "features_nan"
   ]
  },
  {
   "cell_type": "markdown",
   "metadata": {},
   "source": [
    "# lets see the distribution "
   ]
  },
  {
   "cell_type": "code",
   "execution_count": 8,
   "metadata": {},
   "outputs": [
    {
     "data": {
      "image/png": "[encoded data removed]",
      "text/plain": [
       "<Figure size 432x288 with 1 Axes>"
      ]
     },
     "metadata": {
      "needs_background": "light"
     },
     "output_type": "display_data"
    },
    {
     "data": {
      "image/png": "[encoded data removed]",
      "text/plain": [
       "<Figure size 432x288 with 1 Axes>"
      ]
     },
     "metadata": {
      "needs_background": "light"
     },
     "output_type": "display_data"
    }
   ],
   "source": [
    "for features in features_nan:\n",
    "    df[features].hist()\n",
    "    plt.xlabel(features)\n",
    "    plt.ylabel(\"count\")\n",
    "    plt.title(features)\n",
    "    plt.show()\n",
    "    "
   ]
  },
  {
   "cell_type": "markdown",
   "metadata": {},
   "source": [
    "## NUMERICAL VARIABLES"
   ]
  },
  {
   "cell_type": "code",
   "execution_count": 9,
   "metadata": {},
   "outputs": [],
   "source": [
    "numerical_features=[features for features in df.columns if(df[features].dtypes!='O')]"
   ]
  },
  {
   "cell_type": "code",
   "execution_count": 10,
   "metadata": {},
   "outputs": [
    {
     "data": {
      "text/plain": [
       "['quarter',\n",
       " 'volume',\n",
       " 'percent_change_price',\n",
       " 'percent_change_volume_over_last_wk',\n",
       " 'previous_weeks_volume',\n",
       " 'percent_change_next_weeks_price',\n",
       " 'days_to_next_dividend',\n",
       " 'percent_return_next_dividend']"
      ]
     },
     "execution_count": 10,
     "metadata": {},
     "output_type": "execute_result"
    }
   ],
   "source": [
    "numerical_features"
   ]
  },
  {
   "cell_type": "code",
   "execution_count": 11,
   "metadata": {},
   "outputs": [
    {
     "name": "stdout",
     "output_type": "stream",
     "text": [
      "Number of numerical variables: 8\n"
     ]
    }
   ],
   "source": [
    "print(\"Number of numerical variables:\",len(numerical_features))"
   ]
  },
  {
   "cell_type": "code",
   "execution_count": 12,
   "metadata": {},
   "outputs": [
    {
     "data": {
      "text/html": [
       "<div>\n",
       "<style scoped>\n",
       "    .dataframe tbody tr th:only-of-type {\n",
       "        vertical-align: middle;\n",
       "    }\n",
       "\n",
       "    .dataframe tbody tr th {\n",
       "        vertical-align: top;\n",
       "    }\n",
       "\n",
       "    .dataframe thead th {\n",
       "        text-align: right;\n",
       "    }\n",
       "</style>\n",
       "<table border=\"1\" class=\"dataframe\">\n",
       "  <thead>\n",
       "    <tr style=\"text-align: right;\">\n",
       "      <th></th>\n",
       "      <th>quarter</th>\n",
       "      <th>volume</th>\n",
       "      <th>percent_change_price</th>\n",
       "      <th>percent_change_volume_over_last_wk</th>\n",
       "      <th>previous_weeks_volume</th>\n",
       "      <th>percent_change_next_weeks_price</th>\n",
       "      <th>days_to_next_dividend</th>\n",
       "      <th>percent_return_next_dividend</th>\n",
       "    </tr>\n",
       "  </thead>\n",
       "  <tbody>\n",
       "    <tr>\n",
       "      <th>0</th>\n",
       "      <td>1</td>\n",
       "      <td>239655616</td>\n",
       "      <td>3.79267</td>\n",
       "      <td>NaN</td>\n",
       "      <td>NaN</td>\n",
       "      <td>-4.428490</td>\n",
       "      <td>26</td>\n",
       "      <td>0.182704</td>\n",
       "    </tr>\n",
       "    <tr>\n",
       "      <th>1</th>\n",
       "      <td>1</td>\n",
       "      <td>242963398</td>\n",
       "      <td>-4.42849</td>\n",
       "      <td>1.380223</td>\n",
       "      <td>239655616.0</td>\n",
       "      <td>-2.470660</td>\n",
       "      <td>19</td>\n",
       "      <td>0.187852</td>\n",
       "    </tr>\n",
       "    <tr>\n",
       "      <th>2</th>\n",
       "      <td>1</td>\n",
       "      <td>138428495</td>\n",
       "      <td>-2.47066</td>\n",
       "      <td>-43.024959</td>\n",
       "      <td>242963398.0</td>\n",
       "      <td>1.638310</td>\n",
       "      <td>12</td>\n",
       "      <td>0.189994</td>\n",
       "    </tr>\n",
       "    <tr>\n",
       "      <th>3</th>\n",
       "      <td>1</td>\n",
       "      <td>151379173</td>\n",
       "      <td>1.63831</td>\n",
       "      <td>9.355500</td>\n",
       "      <td>138428495.0</td>\n",
       "      <td>5.933250</td>\n",
       "      <td>5</td>\n",
       "      <td>0.185989</td>\n",
       "    </tr>\n",
       "    <tr>\n",
       "      <th>4</th>\n",
       "      <td>1</td>\n",
       "      <td>154387761</td>\n",
       "      <td>5.93325</td>\n",
       "      <td>1.987452</td>\n",
       "      <td>151379173.0</td>\n",
       "      <td>0.230814</td>\n",
       "      <td>97</td>\n",
       "      <td>0.175029</td>\n",
       "    </tr>\n",
       "  </tbody>\n",
       "</table>\n",
       "</div>"
      ],
      "text/plain": [
       "   quarter     volume  percent_change_price  \\\n",
       "0        1  239655616               3.79267   \n",
       "1        1  242963398              -4.42849   \n",
       "2        1  138428495              -2.47066   \n",
       "3        1  151379173               1.63831   \n",
       "4        1  154387761               5.93325   \n",
       "\n",
       "   percent_change_volume_over_last_wk  previous_weeks_volume  \\\n",
       "0                                 NaN                    NaN   \n",
       "1                            1.380223            239655616.0   \n",
       "2                          -43.024959            242963398.0   \n",
       "3                            9.355500            138428495.0   \n",
       "4                            1.987452            151379173.0   \n",
       "\n",
       "   percent_change_next_weeks_price  days_to_next_dividend  \\\n",
       "0                        -4.428490                     26   \n",
       "1                        -2.470660                     19   \n",
       "2                         1.638310                     12   \n",
       "3                         5.933250                      5   \n",
       "4                         0.230814                     97   \n",
       "\n",
       "   percent_return_next_dividend  \n",
       "0                      0.182704  \n",
       "1                      0.187852  \n",
       "2                      0.189994  \n",
       "3                      0.185989  \n",
       "4                      0.175029  "
      ]
     },
     "execution_count": 12,
     "metadata": {},
     "output_type": "execute_result"
    }
   ],
   "source": [
    "df[numerical_features].head()"
   ]
  },
  {
   "cell_type": "code",
   "execution_count": 13,
   "metadata": {},
   "outputs": [],
   "source": [
    "## DISCRETE FEATURES:"
   ]
  },
  {
   "cell_type": "code",
   "execution_count": 14,
   "metadata": {},
   "outputs": [],
   "source": [
    "discrete_features=[features for features in numerical_features if(len(df[features].unique())<25)]"
   ]
  },
  {
   "cell_type": "code",
   "execution_count": 15,
   "metadata": {},
   "outputs": [
    {
     "data": {
      "text/plain": [
       "['quarter']"
      ]
     },
     "execution_count": 15,
     "metadata": {},
     "output_type": "execute_result"
    }
   ],
   "source": [
    "discrete_features"
   ]
  },
  {
   "cell_type": "markdown",
   "metadata": {},
   "source": [
    "# lets see the distribution"
   ]
  },
  {
   "cell_type": "code",
   "execution_count": 16,
   "metadata": {},
   "outputs": [
    {
     "data": {
      "text/plain": [
       "<matplotlib.axes._subplots.AxesSubplot at 0x1355a310>"
      ]
     },
     "execution_count": 16,
     "metadata": {},
     "output_type": "execute_result"
    },
    {
     "data": {
      "image/png": "[encoded data removed]",
      "text/plain": [
       "<Figure size 432x288 with 1 Axes>"
      ]
     },
     "metadata": {
      "needs_background": "light"
     },
     "output_type": "display_data"
    }
   ],
   "source": [
    "df['quarter'].hist(bins=50)"
   ]
  },
  {
   "cell_type": "markdown",
   "metadata": {},
   "source": [
    "## CONTINUOUS VARIABLES "
   ]
  },
  {
   "cell_type": "code",
   "execution_count": 17,
   "metadata": {},
   "outputs": [],
   "source": [
    "continuous_variables=[features for features in numerical_features if features not in discrete_features]"
   ]
  },
  {
   "cell_type": "code",
   "execution_count": 18,
   "metadata": {},
   "outputs": [
    {
     "data": {
      "text/plain": [
       "['volume',\n",
       " 'percent_change_price',\n",
       " 'percent_change_volume_over_last_wk',\n",
       " 'previous_weeks_volume',\n",
       " 'percent_change_next_weeks_price',\n",
       " 'days_to_next_dividend',\n",
       " 'percent_return_next_dividend']"
      ]
     },
     "execution_count": 18,
     "metadata": {},
     "output_type": "execute_result"
    }
   ],
   "source": [
    "continuous_variables"
   ]
  },
  {
   "cell_type": "code",
   "execution_count": 19,
   "metadata": {},
   "outputs": [],
   "source": [
    "# lets see the distrubution of continuous features "
   ]
  },
  {
   "cell_type": "code",
   "execution_count": 20,
   "metadata": {},
   "outputs": [
    {
     "data": {
      "image/png": "[encoded data removed]",
      "text/plain": [
       "<Figure size 432x288 with 1 Axes>"
      ]
     },
     "metadata": {
      "needs_background": "light"
     },
     "output_type": "display_data"
    },
    {
     "data": {
      "image/png": "[encoded data removed]",
      "text/plain": [
       "<Figure size 432x288 with 1 Axes>"
      ]
     },
     "metadata": {
      "needs_background": "light"
     },
     "output_type": "display_data"
    },
    {
     "data": {
      "image/png": "[encoded data removed]",
      "text/plain": [
       "<Figure size 432x288 with 1 Axes>"
      ]
     },
     "metadata": {
      "needs_background": "light"
     },
     "output_type": "display_data"
    },
    {
     "data": {
      "image/png": "[encoded data removed]",
      "text/plain": [
       "<Figure size 432x288 with 1 Axes>"
      ]
     },
     "metadata": {
      "needs_background": "light"
     },
     "output_type": "display_data"
    },
    {
     "data": {
      "image/png": "[encoded data removed]",
      "text/plain": [
       "<Figure size 432x288 with 1 Axes>"
      ]
     },
     "metadata": {
      "needs_background": "light"
     },
     "output_type": "display_data"
    },
    {
     "data": {
      "image/png": "[encoded data removed]",
      "text/plain": [
       "<Figure size 432x288 with 1 Axes>"
      ]
     },
     "metadata": {
      "needs_background": "light"
     },
     "output_type": "display_data"
    },
    {
     "data": {
      "image/png": "[encoded data removed]",
      "text/plain": [
       "<Figure size 432x288 with 1 Axes>"
      ]
     },
     "metadata": {
      "needs_background": "light"
     },
     "output_type": "display_data"
    }
   ],
   "source": [
    "for features in continuous_variables:\n",
    "    df[features].hist()\n",
    "    plt.xlabel(features)\n",
    "    plt.ylabel(\"count\")\n",
    "    plt.title(features)\n",
    "    plt.show()"
   ]
  },
  {
   "cell_type": "markdown",
   "metadata": {},
   "source": [
    "## OUTLIERS"
   ]
  },
  {
   "cell_type": "code",
   "execution_count": 21,
   "metadata": {},
   "outputs": [
    {
     "data": {
      "image/png": "[encoded data removed]",
      "text/plain": [
       "<Figure size 432x288 with 1 Axes>"
      ]
     },
     "metadata": {
      "needs_background": "light"
     },
     "output_type": "display_data"
    },
    {
     "name": "stderr",
     "output_type": "stream",
     "text": [
      "c:\\users\\hp\\appdata\\local\\programs\\python\\python38-32\\lib\\site-packages\\pandas\\core\\series.py:679: RuntimeWarning: invalid value encountered in log\n",
      "  result = getattr(ufunc, method)(*inputs, **kwargs)\n"
     ]
    },
    {
     "data": {
      "image/png": "[encoded data removed]",
      "text/plain": [
       "<Figure size 432x288 with 1 Axes>"
      ]
     },
     "metadata": {
      "needs_background": "light"
     },
     "output_type": "display_data"
    },
    {
     "data": {
      "image/png": "[encoded data removed]",
      "text/plain": [
       "<Figure size 432x288 with 1 Axes>"
      ]
     },
     "metadata": {
      "needs_background": "light"
     },
     "output_type": "display_data"
    },
    {
     "data": {
      "image/png": "[encoded data removed]",
      "text/plain": [
       "<Figure size 432x288 with 1 Axes>"
      ]
     },
     "metadata": {
      "needs_background": "light"
     },
     "output_type": "display_data"
    }
   ],
   "source": [
    "for feature in continuous_variables:\n",
    "    data=df.copy()\n",
    "    if 0 in data[feature].unique():\n",
    "        pass\n",
    "    else:\n",
    "        data[feature]=np.log(data[feature])\n",
    "        data.boxplot(column=feature)\n",
    "        plt.ylabel(feature)\n",
    "        plt.title(feature)\n",
    "        plt.show()"
   ]
  },
  {
   "cell_type": "markdown",
   "metadata": {},
   "source": [
    "## CATEGORICAL VARIABLES"
   ]
  },
  {
   "cell_type": "code",
   "execution_count": 22,
   "metadata": {},
   "outputs": [],
   "source": [
    "catagorical_features=[features for features in df.columns if(df[features].dtypes=='O')]"
   ]
  },
  {
   "cell_type": "code",
   "execution_count": 23,
   "metadata": {},
   "outputs": [
    {
     "data": {
      "text/plain": [
       "['stock',\n",
       " 'date',\n",
       " 'open',\n",
       " 'high',\n",
       " 'low',\n",
       " 'close',\n",
       " 'next_weeks_open',\n",
       " 'next_weeks_close']"
      ]
     },
     "execution_count": 23,
     "metadata": {},
     "output_type": "execute_result"
    }
   ],
   "source": [
    "catagorical_features"
   ]
  },
  {
   "cell_type": "markdown",
   "metadata": {},
   "source": [
    "## CARDINALITY of categorical features"
   ]
  },
  {
   "cell_type": "code",
   "execution_count": 24,
   "metadata": {},
   "outputs": [
    {
     "name": "stdout",
     "output_type": "stream",
     "text": [
      "stock has 30 unique values\n",
      "date has 25 unique values\n",
      "open has 722 unique values\n",
      "high has 713 unique values\n",
      "low has 711 unique values\n",
      "close has 711 unique values\n",
      "next_weeks_open has 720 unique values\n",
      "next_weeks_close has 715 unique values\n"
     ]
    }
   ],
   "source": [
    "for features in catagorical_features:\n",
    "    print(f\"{features} has {len(df[features].unique())} unique values\")"
   ]
  },
  {
   "cell_type": "code",
   "execution_count": 25,
   "metadata": {},
   "outputs": [
    {
     "data": {
      "text/plain": [
       "(750, 16)"
      ]
     },
     "execution_count": 25,
     "metadata": {},
     "output_type": "execute_result"
    }
   ],
   "source": [
    "df.shape"
   ]
  },
  {
   "cell_type": "markdown",
   "metadata": {},
   "source": [
    "## FEATURE ENGINEERING"
   ]
  },
  {
   "cell_type": "code",
   "execution_count": 26,
   "metadata": {},
   "outputs": [],
   "source": [
    "## HANDLING THE MISSING VALUES"
   ]
  },
  {
   "cell_type": "code",
   "execution_count": 27,
   "metadata": {},
   "outputs": [
    {
     "data": {
      "text/plain": [
       "['percent_change_volume_over_last_wk', 'previous_weeks_volume']"
      ]
     },
     "execution_count": 27,
     "metadata": {},
     "output_type": "execute_result"
    }
   ],
   "source": [
    "features_nan"
   ]
  },
  {
   "cell_type": "code",
   "execution_count": 28,
   "metadata": {},
   "outputs": [],
   "source": [
    "## percent_change_volume_over_last_wk'"
   ]
  },
  {
   "cell_type": "code",
   "execution_count": 29,
   "metadata": {},
   "outputs": [],
   "source": [
    "df['percent_change_volume_over_last_wk_Nan']=np.where(df['percent_change_volume_over_last_wk'].isnull(),1,0)"
   ]
  },
  {
   "cell_type": "code",
   "execution_count": 30,
   "metadata": {},
   "outputs": [],
   "source": [
    "df['percent_change_volume_over_last_wk'].fillna(df['percent_change_volume_over_last_wk'].median(),inplace=True)"
   ]
  },
  {
   "cell_type": "code",
   "execution_count": 31,
   "metadata": {},
   "outputs": [],
   "source": [
    "# previous_weeks_volume"
   ]
  },
  {
   "cell_type": "code",
   "execution_count": 32,
   "metadata": {},
   "outputs": [],
   "source": [
    "df['previous_weeks_volume_nan']=np.where(df['previous_weeks_volume'].isnull(),1,0)"
   ]
  },
  {
   "cell_type": "code",
   "execution_count": 33,
   "metadata": {},
   "outputs": [],
   "source": [
    "df['previous_weeks_volume'].fillna(df['previous_weeks_volume'].median(),inplace=True)"
   ]
  },
  {
   "cell_type": "code",
   "execution_count": 34,
   "metadata": {},
   "outputs": [
    {
     "data": {
      "text/plain": [
       "percent_change_volume_over_last_wk    0\n",
       "previous_weeks_volume                 0\n",
       "dtype: int64"
      ]
     },
     "execution_count": 34,
     "metadata": {},
     "output_type": "execute_result"
    }
   ],
   "source": [
    "df[features_nan].isnull().sum()"
   ]
  },
  {
   "cell_type": "code",
   "execution_count": 35,
   "metadata": {},
   "outputs": [
    {
     "name": "stdout",
     "output_type": "stream",
     "text": [
      "<class 'pandas.core.frame.DataFrame'>\n",
      "RangeIndex: 750 entries, 0 to 749\n",
      "Data columns (total 18 columns):\n",
      " #   Column                                  Non-Null Count  Dtype  \n",
      "---  ------                                  --------------  -----  \n",
      " 0   quarter                                 750 non-null    int64  \n",
      " 1   stock                                   750 non-null    object \n",
      " 2   date                                    750 non-null    object \n",
      " 3   open                                    750 non-null    object \n",
      " 4   high                                    750 non-null    object \n",
      " 5   low                                     750 non-null    object \n",
      " 6   close                                   750 non-null    object \n",
      " 7   volume                                  750 non-null    int64  \n",
      " 8   percent_change_price                    750 non-null    float64\n",
      " 9   percent_change_volume_over_last_wk      750 non-null    float64\n",
      " 10  previous_weeks_volume                   750 non-null    float64\n",
      " 11  next_weeks_open                         750 non-null    object \n",
      " 12  next_weeks_close                        750 non-null    object \n",
      " 13  percent_change_next_weeks_price         750 non-null    float64\n",
      " 14  days_to_next_dividend                   750 non-null    int64  \n",
      " 15  percent_return_next_dividend            750 non-null    float64\n",
      " 16  percent_change_volume_over_last_wk_Nan  750 non-null    int32  \n",
      " 17  previous_weeks_volume_nan               750 non-null    int32  \n",
      "dtypes: float64(5), int32(2), int64(3), object(8)\n",
      "memory usage: 76.2+ KB\n"
     ]
    }
   ],
   "source": [
    "df.info()"
   ]
  },
  {
   "cell_type": "code",
   "execution_count": 36,
   "metadata": {},
   "outputs": [
    {
     "data": {
      "text/html": [
       "<div>\n",
       "<style scoped>\n",
       "    .dataframe tbody tr th:only-of-type {\n",
       "        vertical-align: middle;\n",
       "    }\n",
       "\n",
       "    .dataframe tbody tr th {\n",
       "        vertical-align: top;\n",
       "    }\n",
       "\n",
       "    .dataframe thead th {\n",
       "        text-align: right;\n",
       "    }\n",
       "</style>\n",
       "<table border=\"1\" class=\"dataframe\">\n",
       "  <thead>\n",
       "    <tr style=\"text-align: right;\">\n",
       "      <th></th>\n",
       "      <th>quarter</th>\n",
       "      <th>stock</th>\n",
       "      <th>date</th>\n",
       "      <th>open</th>\n",
       "      <th>high</th>\n",
       "      <th>low</th>\n",
       "      <th>close</th>\n",
       "      <th>volume</th>\n",
       "      <th>percent_change_price</th>\n",
       "      <th>percent_change_volume_over_last_wk</th>\n",
       "      <th>previous_weeks_volume</th>\n",
       "      <th>next_weeks_open</th>\n",
       "      <th>next_weeks_close</th>\n",
       "      <th>percent_change_next_weeks_price</th>\n",
       "      <th>days_to_next_dividend</th>\n",
       "      <th>percent_return_next_dividend</th>\n",
       "      <th>percent_change_volume_over_last_wk_Nan</th>\n",
       "      <th>previous_weeks_volume_nan</th>\n",
       "    </tr>\n",
       "  </thead>\n",
       "  <tbody>\n",
       "    <tr>\n",
       "      <th>0</th>\n",
       "      <td>1</td>\n",
       "      <td>AA</td>\n",
       "      <td>1/7/2011</td>\n",
       "      <td>$15.82</td>\n",
       "      <td>$16.72</td>\n",
       "      <td>$15.78</td>\n",
       "      <td>$16.42</td>\n",
       "      <td>239655616</td>\n",
       "      <td>3.79267</td>\n",
       "      <td>0.512586</td>\n",
       "      <td>52945558.0</td>\n",
       "      <td>$16.71</td>\n",
       "      <td>$15.97</td>\n",
       "      <td>-4.428490</td>\n",
       "      <td>26</td>\n",
       "      <td>0.182704</td>\n",
       "      <td>1</td>\n",
       "      <td>1</td>\n",
       "    </tr>\n",
       "    <tr>\n",
       "      <th>1</th>\n",
       "      <td>1</td>\n",
       "      <td>AA</td>\n",
       "      <td>1/14/2011</td>\n",
       "      <td>$16.71</td>\n",
       "      <td>$16.71</td>\n",
       "      <td>$15.64</td>\n",
       "      <td>$15.97</td>\n",
       "      <td>242963398</td>\n",
       "      <td>-4.42849</td>\n",
       "      <td>1.380223</td>\n",
       "      <td>239655616.0</td>\n",
       "      <td>$16.19</td>\n",
       "      <td>$15.79</td>\n",
       "      <td>-2.470660</td>\n",
       "      <td>19</td>\n",
       "      <td>0.187852</td>\n",
       "      <td>0</td>\n",
       "      <td>0</td>\n",
       "    </tr>\n",
       "    <tr>\n",
       "      <th>2</th>\n",
       "      <td>1</td>\n",
       "      <td>AA</td>\n",
       "      <td>1/21/2011</td>\n",
       "      <td>$16.19</td>\n",
       "      <td>$16.38</td>\n",
       "      <td>$15.60</td>\n",
       "      <td>$15.79</td>\n",
       "      <td>138428495</td>\n",
       "      <td>-2.47066</td>\n",
       "      <td>-43.024959</td>\n",
       "      <td>242963398.0</td>\n",
       "      <td>$15.87</td>\n",
       "      <td>$16.13</td>\n",
       "      <td>1.638310</td>\n",
       "      <td>12</td>\n",
       "      <td>0.189994</td>\n",
       "      <td>0</td>\n",
       "      <td>0</td>\n",
       "    </tr>\n",
       "    <tr>\n",
       "      <th>3</th>\n",
       "      <td>1</td>\n",
       "      <td>AA</td>\n",
       "      <td>1/28/2011</td>\n",
       "      <td>$15.87</td>\n",
       "      <td>$16.63</td>\n",
       "      <td>$15.82</td>\n",
       "      <td>$16.13</td>\n",
       "      <td>151379173</td>\n",
       "      <td>1.63831</td>\n",
       "      <td>9.355500</td>\n",
       "      <td>138428495.0</td>\n",
       "      <td>$16.18</td>\n",
       "      <td>$17.14</td>\n",
       "      <td>5.933250</td>\n",
       "      <td>5</td>\n",
       "      <td>0.185989</td>\n",
       "      <td>0</td>\n",
       "      <td>0</td>\n",
       "    </tr>\n",
       "    <tr>\n",
       "      <th>4</th>\n",
       "      <td>1</td>\n",
       "      <td>AA</td>\n",
       "      <td>2/4/2011</td>\n",
       "      <td>$16.18</td>\n",
       "      <td>$17.39</td>\n",
       "      <td>$16.18</td>\n",
       "      <td>$17.14</td>\n",
       "      <td>154387761</td>\n",
       "      <td>5.93325</td>\n",
       "      <td>1.987452</td>\n",
       "      <td>151379173.0</td>\n",
       "      <td>$17.33</td>\n",
       "      <td>$17.37</td>\n",
       "      <td>0.230814</td>\n",
       "      <td>97</td>\n",
       "      <td>0.175029</td>\n",
       "      <td>0</td>\n",
       "      <td>0</td>\n",
       "    </tr>\n",
       "  </tbody>\n",
       "</table>\n",
       "</div>"
      ],
      "text/plain": [
       "   quarter stock       date    open    high     low   close     volume  \\\n",
       "0        1    AA   1/7/2011  $15.82  $16.72  $15.78  $16.42  239655616   \n",
       "1        1    AA  1/14/2011  $16.71  $16.71  $15.64  $15.97  242963398   \n",
       "2        1    AA  1/21/2011  $16.19  $16.38  $15.60  $15.79  138428495   \n",
       "3        1    AA  1/28/2011  $15.87  $16.63  $15.82  $16.13  151379173   \n",
       "4        1    AA   2/4/2011  $16.18  $17.39  $16.18  $17.14  154387761   \n",
       "\n",
       "   percent_change_price  percent_change_volume_over_last_wk  \\\n",
       "0               3.79267                            0.512586   \n",
       "1              -4.42849                            1.380223   \n",
       "2              -2.47066                          -43.024959   \n",
       "3               1.63831                            9.355500   \n",
       "4               5.93325                            1.987452   \n",
       "\n",
       "   previous_weeks_volume next_weeks_open next_weeks_close  \\\n",
       "0             52945558.0          $16.71           $15.97   \n",
       "1            239655616.0          $16.19           $15.79   \n",
       "2            242963398.0          $15.87           $16.13   \n",
       "3            138428495.0          $16.18           $17.14   \n",
       "4            151379173.0          $17.33           $17.37   \n",
       "\n",
       "   percent_change_next_weeks_price  days_to_next_dividend  \\\n",
       "0                        -4.428490                     26   \n",
       "1                        -2.470660                     19   \n",
       "2                         1.638310                     12   \n",
       "3                         5.933250                      5   \n",
       "4                         0.230814                     97   \n",
       "\n",
       "   percent_return_next_dividend  percent_change_volume_over_last_wk_Nan  \\\n",
       "0                      0.182704                                       1   \n",
       "1                      0.187852                                       0   \n",
       "2                      0.189994                                       0   \n",
       "3                      0.185989                                       0   \n",
       "4                      0.175029                                       0   \n",
       "\n",
       "   previous_weeks_volume_nan  \n",
       "0                          1  \n",
       "1                          0  \n",
       "2                          0  \n",
       "3                          0  \n",
       "4                          0  "
      ]
     },
     "execution_count": 36,
     "metadata": {},
     "output_type": "execute_result"
    }
   ],
   "source": [
    "df.head()"
   ]
  },
  {
   "cell_type": "markdown",
   "metadata": {},
   "source": [
    "## encoding techniques"
   ]
  },
  {
   "cell_type": "code",
   "execution_count": 37,
   "metadata": {},
   "outputs": [],
   "source": [
    "## HANDLING RARE CATEGORY"
   ]
  },
  {
   "cell_type": "code",
   "execution_count": 38,
   "metadata": {},
   "outputs": [
    {
     "data": {
      "text/plain": [
       "['stock',\n",
       " 'date',\n",
       " 'open',\n",
       " 'high',\n",
       " 'low',\n",
       " 'close',\n",
       " 'next_weeks_open',\n",
       " 'next_weeks_close']"
      ]
     },
     "execution_count": 38,
     "metadata": {},
     "output_type": "execute_result"
    }
   ],
   "source": [
    "catagorical_features"
   ]
  },
  {
   "cell_type": "code",
   "execution_count": 39,
   "metadata": {},
   "outputs": [],
   "source": [
    "## 'stock'"
   ]
  },
  {
   "cell_type": "code",
   "execution_count": 40,
   "metadata": {},
   "outputs": [
    {
     "data": {
      "text/plain": [
       "30"
      ]
     },
     "execution_count": 40,
     "metadata": {},
     "output_type": "execute_result"
    }
   ],
   "source": [
    "len(df['stock'].unique())"
   ]
  },
  {
   "cell_type": "code",
   "execution_count": 41,
   "metadata": {},
   "outputs": [],
   "source": [
    "d=dict(df['stock'].value_counts())"
   ]
  },
  {
   "cell_type": "code",
   "execution_count": 42,
   "metadata": {},
   "outputs": [],
   "source": [
    "df['stock'].replace(d,inplace=True)"
   ]
  },
  {
   "cell_type": "code",
   "execution_count": 43,
   "metadata": {},
   "outputs": [
    {
     "data": {
      "text/plain": [
       "0      25\n",
       "1      25\n",
       "2      25\n",
       "3      25\n",
       "4      25\n",
       "       ..\n",
       "745    25\n",
       "746    25\n",
       "747    25\n",
       "748    25\n",
       "749    25\n",
       "Name: stock, Length: 750, dtype: int64"
      ]
     },
     "execution_count": 43,
     "metadata": {},
     "output_type": "execute_result"
    }
   ],
   "source": [
    "df['stock']"
   ]
  },
  {
   "cell_type": "code",
   "execution_count": 44,
   "metadata": {},
   "outputs": [],
   "source": [
    "##  'date'"
   ]
  },
  {
   "cell_type": "code",
   "execution_count": 45,
   "metadata": {},
   "outputs": [
    {
     "data": {
      "text/plain": [
       "25"
      ]
     },
     "execution_count": 45,
     "metadata": {},
     "output_type": "execute_result"
    }
   ],
   "source": [
    "len(df['date'].unique())"
   ]
  },
  {
   "cell_type": "code",
   "execution_count": 46,
   "metadata": {},
   "outputs": [],
   "source": [
    "d=dict(df['date'].value_counts())"
   ]
  },
  {
   "cell_type": "code",
   "execution_count": 47,
   "metadata": {},
   "outputs": [],
   "source": [
    "df['date'].replace(d,inplace=True)"
   ]
  },
  {
   "cell_type": "code",
   "execution_count": 48,
   "metadata": {},
   "outputs": [
    {
     "data": {
      "text/plain": [
       "0      30\n",
       "1      30\n",
       "2      30\n",
       "3      30\n",
       "4      30\n",
       "       ..\n",
       "745    30\n",
       "746    30\n",
       "747    30\n",
       "748    30\n",
       "749    30\n",
       "Name: date, Length: 750, dtype: int64"
      ]
     },
     "execution_count": 48,
     "metadata": {},
     "output_type": "execute_result"
    }
   ],
   "source": [
    "df['date']"
   ]
  },
  {
   "cell_type": "code",
   "execution_count": 49,
   "metadata": {},
   "outputs": [],
   "source": [
    "#' open'"
   ]
  },
  {
   "cell_type": "code",
   "execution_count": 50,
   "metadata": {},
   "outputs": [
    {
     "data": {
      "text/plain": [
       "722"
      ]
     },
     "execution_count": 50,
     "metadata": {},
     "output_type": "execute_result"
    }
   ],
   "source": [
    "len(df['open'].unique())"
   ]
  },
  {
   "cell_type": "code",
   "execution_count": 51,
   "metadata": {},
   "outputs": [
    {
     "data": {
      "text/plain": [
       "15.82"
      ]
     },
     "execution_count": 51,
     "metadata": {},
     "output_type": "execute_result"
    }
   ],
   "source": [
    "float(df['open'].unique()[0][1:])"
   ]
  },
  {
   "cell_type": "code",
   "execution_count": 52,
   "metadata": {},
   "outputs": [],
   "source": [
    "for category in range(len(df['open'].unique())):\n",
    "    df['open'].replace(df['open'].unique()[category],float(df['open'].unique()[category][1:]),inplace=True)"
   ]
  },
  {
   "cell_type": "code",
   "execution_count": 53,
   "metadata": {},
   "outputs": [
    {
     "data": {
      "text/plain": [
       "0      15.82\n",
       "1      16.71\n",
       "2      16.19\n",
       "3      15.87\n",
       "4      16.18\n",
       "       ...  \n",
       "745    80.22\n",
       "746    83.28\n",
       "747    80.93\n",
       "748    80.00\n",
       "749    78.65\n",
       "Name: open, Length: 750, dtype: float64"
      ]
     },
     "execution_count": 53,
     "metadata": {},
     "output_type": "execute_result"
    }
   ],
   "source": [
    "df['open']"
   ]
  },
  {
   "cell_type": "code",
   "execution_count": 54,
   "metadata": {},
   "outputs": [],
   "source": [
    "## 'high'"
   ]
  },
  {
   "cell_type": "code",
   "execution_count": 55,
   "metadata": {},
   "outputs": [
    {
     "data": {
      "text/plain": [
       "array(['$16.72', '$16.71', '$16.38', '$16.63', '$17.39', '$17.48',\n",
       "       '$17.68', '$17.15', '$16.94', '$16.75', '$16.33', '$17.24',\n",
       "       '$45.60', '$46.25', '$46.71', '$46.27', '$44.23', '$46.79',\n",
       "       '$46.93', '$45.12', '$44.68', '$45.54', '$44.47', '$45.61',\n",
       "       '$70.10', '$70.50', '$72.99', '$72.82', '$71.64', '$73.04',\n",
       "       '$74.29', '$72.90', '$72.50', '$71.23', '$73.50', '$14.69',\n",
       "       '$15.25', '$15.16', '$14.26', '$14.47', '$14.87', '$14.95',\n",
       "       '$14.52', '$14.48', '$14.70', '$14.35', '$14.22', '$94.81',\n",
       "       '$94.70', '$96.80', '$97.79', '$99.72', '$103.55', '$105.86',\n",
       "       '$105.30', '$104.43', '$104.45', '$105.64', '$110.15', '$21.00',\n",
       "       '$21.23', '$21.33', '$21.61', '$22.15', '$22.34', '$18.95',\n",
       "       '$18.74', '$18.79', '$18.37', '$17.88', '$17.64', '$92.48',\n",
       "       '$92.85', '$93.94', '$94.97', '$97.44', '$98.23', '$98.72',\n",
       "       '$103.94', '$104.99', '$104.77', '$103.97', '$107.01', '$50.54',\n",
       "       '$49.80', '$50.14', '$50.66', '$52.63', '$54.75', '$55.98',\n",
       "       '$55.30', '$54.95', '$54.49', '$53.50', '$54.64', '$40.00',\n",
       "       '$39.81', '$39.94', '$39.95', '$40.77', '$44.05', '$43.90',\n",
       "       '$43.28', '$44.34', '$43.61', '$42.67', '$43.24', '$18.72',\n",
       "       '$18.82', '$19.97', '$20.74', '$20.96', '$21.44', '$21.65',\n",
       "       '$21.21', '$21.17', '$20.79', '$20.09', '$19.93', '$35.57',\n",
       "       '$35.89', '$36.99', '$38.12', '$37.18', '$37.48', '$38.48',\n",
       "       '$39.38', '$37.86', '$37.78', '$36.94', '$37.82', '$45.39',\n",
       "       '$47.64', '$47.83', '$47.52', '$49.39', '$49.12', '$48.55',\n",
       "       '$43.85', '$43.05', '$42.15', '$148.86', '$150.00', '$156.78',\n",
       "       '$164.35', '$164.20', '$166.25', '$164.84', '$164.26', '$164.31',\n",
       "       '$167.72', '$161.98', '$162.74', '$21.20', '$21.94', '$21.71',\n",
       "       '$21.86', '$22.14', '$22.19', '$22.08', '$21.74', '$20.88',\n",
       "       '$20.60', '$63.54', '$62.98', '$63.25', '$62.72', '$60.99',\n",
       "       '$61.17', '$61.11', '$61.08', '$61.50', '$61.10', '$59.49',\n",
       "       '$59.16', '$44.95', '$44.97', '$45.88', '$46.00', '$46.89',\n",
       "       '$48.00', '$47.27', '$47.18', '$47.10', '$46.18', '$46.38',\n",
       "       '$31.76', '$31.72', '$31.52', '$31.77', '$31.22', '$31.25',\n",
       "       '$30.93', '$32.20', '$31.88', '$31.79', '$31.60', '$31.49',\n",
       "       '$65.88', '$63.86', '$63.92', '$63.31', '$63.48', '$64.75',\n",
       "       '$64.72', '$64.40', '$65.87', '$65.84', '$64.61', '$65.39',\n",
       "       '$77.59', '$74.49', '$75.75', '$75.85', '$74.50', '$76.32',\n",
       "       '$76.45', '$76.63', '$77.25', '$76.41', '$87.90', '$88.80',\n",
       "       '$89.39', '$90.50', '$88.45', '$91.95', '$92.96', '$93.65',\n",
       "       '$93.40', '$94.16', '$91.21', '$92.98', '$37.35', '$37.61',\n",
       "       '$34.30', '$33.99', '$34.04', '$33.30', '$33.19', '$32.80',\n",
       "       '$33.36', '$33.48', '$32.60', '$32.90', '$28.85', '$28.50',\n",
       "       '$28.74', '$29.46', '$28.11', '$28.34', '$27.37', '$27.10',\n",
       "       '$26.86', '$26.27', '$25.76', '$25.95', '$18.38', '$18.48',\n",
       "       '$18.49', '$18.76', '$19.39', '$19.30', '$19.13', '$19.90',\n",
       "       '$19.75', '$20.29', '$20.50', '$65.08', '$65.53', '$65.95',\n",
       "       '$66.95', '$64.36', '$64.97', '$64.80', '$63.65', '$62.30',\n",
       "       '$61.39', '$61.52', '$30.10', '$28.61', '$28.59', '$28.95',\n",
       "       '$28.06', '$28.57', '$28.42', '$28.53', '$28.89', '$29.10',\n",
       "       '$56.34', '$54.84', '$55.24', '$57.78', '$57.52', '$59.12',\n",
       "       '$60.92', '$61.15', '$60.02', '$59.72', '$59.51', '$59.28',\n",
       "       '$79.75', '$79.90', '$80.50', '$83.08', '$82.60', '$85.46',\n",
       "       '$85.44', '$84.69', '$84.24', '$84.05', '$81.23', '$83.59',\n",
       "       '$37.70', '$36.58', '$35.51', '$36.59', '$36.48', '$36.77',\n",
       "       '$36.62', '$36.32', '$36.65', '$35.84', '$37.32', '$55.07',\n",
       "       '$55.36', '$56.27', '$57.90', '$56.58', '$56.73', '$55.38',\n",
       "       '$54.01', '$52.60', '$53.88', '$52.52', '$52.95', '$75.90',\n",
       "       '$77.84', '$79.10', '$79.98', '$83.98', '$84.00', '$85.10',\n",
       "       '$88.23', '$86.56', '$86.08', '$82.64', '$83.93', '$17.80',\n",
       "       '$18.47', '$18.19', '$16.97', '$17.96', '$17.62', '$17.29',\n",
       "       '$16.48', '$16.83', '$16.03', '$15.50', '$15.60', '$46.29',\n",
       "       '$46.49', '$46.95', '$47.48', '$49.15', '$50.47', '$50.46',\n",
       "       '$51.97', '$51.38', '$51.70', '$49.38', '$49.14', '$50.15',\n",
       "       '$74.85', '$74.28', '$75.44', '$80.34', '$80.65', '$80.42',\n",
       "       '$78.81', '$76.99', '$78.35', '$75.27', '$75.51', '$75.02',\n",
       "       '$13.61', '$13.88', '$13.64', '$12.60', '$12.71', '$12.43',\n",
       "       '$12.11', '$11.69', '$11.92', '$11.20', '$11.12', '$10.94',\n",
       "       '$113.59', '$113.93', '$110.30', '$109.42', '$116.25', '$116.55',\n",
       "       '$112.97', '$108.27', '$104.60', '$106.60', '$101.61', '$98.45',\n",
       "       '$102.50', '$17.60', '$18.29', '$17.76', '$16.96', '$17.70',\n",
       "       '$17.99', '$16.87', '$16.46', '$16.82', '$16.17', '$15.28',\n",
       "       '$15.64', '$109.65', '$109.94', '$109.90', '$108.34', '$109.60',\n",
       "       '$109.57', '$104.95', '$104.53', '$103.86', '$105.21', '$101.87',\n",
       "       '$101.29', '$102.46', '$55.80', '$56.52', '$55.81', '$56.00',\n",
       "       '$56.88', '$57.00', '$56.13', '$54.00', '$52.56', '$53.39',\n",
       "       '$50.90', '$50.63', '$51.98', '$43.48', '$42.02', '$42.46',\n",
       "       '$43.35', '$43.79', '$44.12', '$41.84', '$41.52', '$41.99',\n",
       "       '$39.88', '$38.86', '$38.89', '$20.75', '$20.37', '$20.54',\n",
       "       '$20.85', '$20.71', '$20.42', '$20.05', '$19.52', '$19.72',\n",
       "       '$18.80', '$18.90', '$18.94', '$37.87', '$37.96', '$38.40',\n",
       "       '$38.50', '$37.71', '$37.67', '$37.43', '$37.94', '$37.00',\n",
       "       '$36.28', '$35.02', '$34.93', '$35.69', '$42.83', '$41.80',\n",
       "       '$41.55', '$41.19', '$41.30', '$41.74', '$40.34', '$36.96',\n",
       "       '$37.52', '$36.24', '$35.32', '$35.65', '$164.42', '$164.75',\n",
       "       '$166.34', '$168.28', '$173.00', '$173.54', '$172.77', '$171.41',\n",
       "       '$168.60', '$169.89', '$165.96', '$165.10', '$166.81', '$20.66',\n",
       "       '$20.20', '$21.46', '$23.19', '$23.86', '$23.83', '$23.96',\n",
       "       '$23.03', '$22.64', '$22.44', '$26.78', '$59.73', '$60.18',\n",
       "       '$60.95', '$64.54', '$65.98', '$66.46', '$67.37', '$66.79',\n",
       "       '$66.77', '$67.34', '$67.28', '$67.36', '$66.75', '$46.88',\n",
       "       '$47.80', '$47.37', '$46.02', '$46.07', '$45.50', '$44.35',\n",
       "       '$42.92', '$43.38', '$41.50', '$42.44', '$41.53', '$31.70',\n",
       "       '$33.54', '$33.67', '$33.90', '$34.49', '$35.10', '$35.44',\n",
       "       '$35.06', '$35.00', '$34.39', '$34.72', '$34.98', '$67.48',\n",
       "       '$67.82', '$68.47', '$68.05', '$67.98', '$67.93', '$68.77',\n",
       "       '$68.70', '$67.90', '$67.24', '$66.23', '$66.82', '$76.50',\n",
       "       '$76.91', '$77.54', '$78.41', '$78.59', '$79.37', '$80.91',\n",
       "       '$82.85', '$82.25', '$82.23', '$82.72', '$83.09', '$94.33',\n",
       "       '$94.10', '$94.64', '$94.42', '$97.50', '$97.95', '$97.18',\n",
       "       '$96.23', '$93.47', '$94.68', '$92.43', '$92.99', '$93.92',\n",
       "       '$33.70', '$34.97', '$34.29', '$36.25', '$36.75', '$37.30',\n",
       "       '$37.65', '$37.04', '$36.76', '$36.38', '$35.88', '$35.97',\n",
       "       '$25.72', '$26.31', '$26.25', '$26.00', '$26.87', '$25.96',\n",
       "       '$25.07', '$25.03', '$25.10', '$24.25', '$29.05', '$24.86',\n",
       "       '$20.57', '$20.61', '$21.06', '$20.99', '$21.28', '$20.98',\n",
       "       '$21.45', '$20.97', '$20.73', '$62.33', '$64.21', '$64.34',\n",
       "       '$65.10', '$66.50', '$67.31', '$67.72', '$67.20', '$67.00',\n",
       "       '$65.64', '$65.22', '$65.29', '$30.97', '$31.00', '$30.84',\n",
       "       '$30.68', '$31.82', '$31.94', '$31.30', '$31.65', '$30.61',\n",
       "       '$30.95', '$31.33', '$60.01', '$60.00', '$60.85', '$61.32',\n",
       "       '$63.37', '$64.17', '$64.09', '$63.11', '$62.00', '$62.25',\n",
       "       '$61.68', '$59.32', '$58.28', '$85.95', '$86.00', '$85.56',\n",
       "       '$87.10', '$89.80', '$90.67', '$90.18', '$89.25', '$86.72',\n",
       "       '$87.79', '$84.52', '$85.26', '$86.21', '$38.95', '$38.70',\n",
       "       '$38.00', '$38.42', '$38.33', '$37.68', '$37.41', '$37.03',\n",
       "       '$36.14', '$35.92', '$36.17', '$52.74', '$53.24', '$53.96',\n",
       "       '$53.95', '$55.16', '$55.79', '$56.03', '$56.47', '$55.50',\n",
       "       '$55.22', '$54.30', '$53.29', '$53.70', '$84.94', '$86.22',\n",
       "       '$86.15', '$86.36', '$88.00', '$88.13', '$83.76', '$82.58',\n",
       "       '$82.63', '$83.75', '$81.87', '$80.82', '$81.12'], dtype=object)"
      ]
     },
     "execution_count": 55,
     "metadata": {},
     "output_type": "execute_result"
    }
   ],
   "source": [
    "df['high'].unique()"
   ]
  },
  {
   "cell_type": "code",
   "execution_count": 56,
   "metadata": {},
   "outputs": [],
   "source": [
    "for category in range(len(df['high'].unique())):\n",
    "    df['high'].replace(df['high'].unique()[category],float(df['high'].unique()[category][1:]),inplace=True)"
   ]
  },
  {
   "cell_type": "code",
   "execution_count": 57,
   "metadata": {},
   "outputs": [
    {
     "data": {
      "text/plain": [
       "0      16.72\n",
       "1      16.71\n",
       "2      16.38\n",
       "3      16.63\n",
       "4      17.39\n",
       "       ...  \n",
       "745    82.63\n",
       "746    83.75\n",
       "747    81.87\n",
       "748    80.82\n",
       "749    81.12\n",
       "Name: high, Length: 750, dtype: float64"
      ]
     },
     "execution_count": 57,
     "metadata": {},
     "output_type": "execute_result"
    }
   ],
   "source": [
    "df['high']"
   ]
  },
  {
   "cell_type": "code",
   "execution_count": 58,
   "metadata": {},
   "outputs": [],
   "source": [
    "## 'low'"
   ]
  },
  {
   "cell_type": "code",
   "execution_count": 59,
   "metadata": {},
   "outputs": [
    {
     "data": {
      "text/plain": [
       "array(['$15.78', '$15.64', '$15.60', '$15.82', '$16.18', '$16.97',\n",
       "       '$17.28', '$15.96', '$16.13', '$15.42', '$15.43', '$16.26',\n",
       "       '$43.11', '$44.01', '$44.71', '$43.42', '$43.15', '$43.88',\n",
       "       '$45.53', '$43.01', '$42.75', '$43.53', '$42.19', '$44.10',\n",
       "       '$66.00', '$68.35', '$70.23', '$69.00', '$69.12', '$71.15',\n",
       "       '$71.09', '$70.00', '$68.60', '$69.91', '$67.34', '$70.03',\n",
       "       '$13.80', '$14.09', '$13.94', '$13.40', '$13.64', '$14.35',\n",
       "       '$14.69', '$13.79', '$13.81', '$13.92', '$13.66', '$13.32',\n",
       "       '$92.30', '$92.51', '$92.37', '$95.85', '$98.75', '$102.01',\n",
       "       '$98.03', '$99.35', '$97.01', '$98.55', '$105.64', '$20.38',\n",
       "       '$20.70', '$20.50', '$20.73', '$20.71', '$18.61', '$18.56',\n",
       "       '$18.23', '$18.31', '$17.76', '$17.20', '$90.27', '$90.12',\n",
       "       '$91.58', '$92.93', '$93.37', '$95.70', '$95.50', '$99.23',\n",
       "       '$102.18', '$97.60', '$97.98', '$103.20', '$49.28', '$47.20',\n",
       "       '$47.65', '$48.26', '$50.09', '$52.51', '$53.80', '$52.36',\n",
       "       '$52.76', '$51.82', '$51.10', '$52.89', '$37.62', '$38.92',\n",
       "       '$38.51', '$38.65', '$38.64', '$40.71', '$42.98', '$41.60',\n",
       "       '$42.97', '$42.16', '$40.42', '$40.87', '$18.12', '$18.46',\n",
       "       '$18.17', '$19.74', '$20.10', '$21.24', '$20.08', '$20.16',\n",
       "       '$19.94', '$18.60', '$19.25', '$34.18', '$34.07', '$35.48',\n",
       "       '$36.30', '$36.38', '$36.41', '$37.27', '$36.78', '$36.33',\n",
       "       '$36.54', '$35.43', '$36.03', '$42.22', '$44.57', '$45.76',\n",
       "       '$45.36', '$45.13', '$47.61', '$47.54', '$42.08', '$42.06',\n",
       "       '$41.26', '$40.10', '$41.35', '$146.64', '$146.00', '$149.38',\n",
       "       '$155.33', '$158.68', '$163.18', '$162.52', '$159.03', '$159.41',\n",
       "       '$158.85', '$151.71', '$157.07', '$20.27', '$20.57', '$20.62',\n",
       "       '$20.93', '$21.03', '$21.35', '$21.28', '$21.01', '$20.61',\n",
       "       '$19.71', '$19.88', '$62.53', '$62.00', '$62.01', '$60.00',\n",
       "       '$59.69', '$60.42', '$60.33', '$59.36', '$59.77', '$59.11',\n",
       "       '$57.50', '$58.50', '$42.64', '$43.00', '$43.60', '$44.26',\n",
       "       '$44.30', '$44.65', '$46.00', '$45.21', '$45.07', '$44.76',\n",
       "       '$43.40', '$44.77', '$31.14', '$30.89', '$30.50', '$30.21',\n",
       "       '$30.24', '$30.26', '$30.66', '$31.28', '$31.18', '$30.45',\n",
       "       '$30.43', '$62.56', '$62.72', '$62.14', '$61.89', '$62.32',\n",
       "       '$62.55', '$63.33', '$63.86', '$64.47', '$61.29', '$63.05',\n",
       "       '$73.59', '$72.46', '$74.31', '$73.05', '$73.08', '$73.30',\n",
       "       '$75.70', '$74.42', '$73.64', '$74.97', '$72.89', '$73.38',\n",
       "       '$85.63', '$85.70', '$87.25', '$87.20', '$87.31', '$87.81',\n",
       "       '$91.00', '$89.27', '$90.24', '$89.71', '$86.91', '$90.17',\n",
       "       '$35.85', '$34.23', '$33.48', '$33.00', '$32.51', '$32.74',\n",
       "       '$32.65', '$31.85', '$32.19', '$32.45', '$31.06', '$32.04',\n",
       "       '$27.77', '$28.00', '$28.02', '$27.45', '$27.42', '$27.07',\n",
       "       '$26.60', '$26.43', '$25.80', '$25.35', '$24.68', '$25.15',\n",
       "       '$17.62', '$18.13', '$18.02', '$18.14', '$18.16', '$18.62',\n",
       "       '$18.72', '$18.67', '$18.90', '$19.30', '$19.15', '$64.00',\n",
       "       '$63.40', '$65.05', '$63.14', '$62.30', '$63.80', '$61.56',\n",
       "       '$61.12', '$59.70', '$60.54', '$28.66', '$27.71', '$28.15',\n",
       "       '$27.41', '$27.20', '$27.63', '$27.61', '$27.79', '$27.73',\n",
       "       '$27.27', '$27.95', '$52.88', '$52.96', '$54.07', '$54.97',\n",
       "       '$55.81', '$56.97', '$58.53', '$59.05', '$57.88', '$57.51',\n",
       "       '$57.99', '$78.40', '$77.81', '$78.98', '$80.26', '$80.66',\n",
       "       '$82.73', '$84.25', '$81.81', '$81.42', '$77.05', '$80.57',\n",
       "       '$35.41', '$34.98', '$34.35', '$34.88', '$35.38', '$35.77',\n",
       "       '$35.66', '$35.34', '$35.65', '$33.36', '$36.37', '$53.76',\n",
       "       '$53.54', '$54.71', '$55.30', '$55.39', '$54.35', '$51.52',\n",
       "       '$51.68', '$51.75', '$50.97', '$51.38', '$74.58', '$76.77',\n",
       "       '$77.93', '$79.01', '$81.61', '$81.80', '$84.73', '$83.55',\n",
       "       '$80.10', '$78.80', '$81.86', '$17.02', '$17.42', '$16.38',\n",
       "       '$15.88', '$16.66', '$16.83', '$16.75', '$15.83', '$15.77',\n",
       "       '$15.17', '$14.59', '$14.56', '$45.11', '$45.10', '$45.60',\n",
       "       '$45.27', '$46.77', '$49.08', '$49.22', '$49.17', '$49.79',\n",
       "       '$49.04', '$47.33', '$46.92', '$48.15', '$73.03', '$72.71',\n",
       "       '$70.88', '$71.75', '$74.68', '$78.09', '$78.48', '$75.83',\n",
       "       '$75.13', '$74.09', '$72.61', '$72.69', '$70.29', '$13.16',\n",
       "       '$13.37', '$12.82', '$12.15', '$12.23', '$12.20', '$11.91',\n",
       "       '$11.53', '$11.29', '$11.08', '$10.41', '$10.40', '$10.48',\n",
       "       '$108.61', '$108.88', '$105.35', '$102.16', '$107.95', '$108.39',\n",
       "       '$106.02', '$101.47', '$100.30', '$99.15', '$96.42', '$94.20',\n",
       "       '$96.05', '$16.99', '$17.00', '$16.52', '$16.90', '$16.64',\n",
       "       '$16.34', '$16.11', '$15.98', '$15.01', '$14.78', '$14.92',\n",
       "       '$105.52', '$107.51', '$103.13', '$103.04', '$106.68', '$101.11',\n",
       "       '$100.41', '$99.61', '$100.70', '$99.57', '$98.98', '$97.71',\n",
       "       '$97.00', '$53.70', '$55.00', '$53.17', '$53.19', '$54.54',\n",
       "       '$53.59', '$52.55', '$51.92', '$50.50', '$50.11', '$49.52',\n",
       "       '$48.64', '$49.46', '$42.36', '$41.40', '$40.84', '$40.45',\n",
       "       '$41.71', '$42.30', '$40.94', '$40.68', '$40.55', '$39.17',\n",
       "       '$38.42', '$37.77', '$37.19', '$19.53', '$20.07', '$19.60',\n",
       "       '$19.51', '$19.89', '$19.81', '$19.76', '$19.41', '$18.97',\n",
       "       '$18.75', '$18.20', '$17.97', '$36.62', '$37.21', '$37.17',\n",
       "       '$37.20', '$36.94', '$36.77', '$36.70', '$36.55', '$36.00',\n",
       "       '$34.43', '$33.42', '$33.41', '$34.28', '$37.60', '$40.20',\n",
       "       '$40.12', '$39.16', '$39.99', '$39.80', '$40.22', '$35.91',\n",
       "       '$35.44', '$35.14', '$33.95', '$34.55', '$161.12', '$163.16',\n",
       "       '$162.30', '$162.19', '$167.23', '$167.50', '$167.82', '$166.53',\n",
       "       '$165.90', '$164.13', '$162.87', '$161.52', '$163.59', '$19.56',\n",
       "       '$19.36', '$19.45', '$21.33', '$22.67', '$22.65', '$23.08',\n",
       "       '$22.21', '$21.67', '$21.26', '$21.07', '$21.06', '$58.93',\n",
       "       '$59.25', '$59.49', '$60.10', '$64.80', '$65.07', '$65.28',\n",
       "       '$65.08', '$65.80', '$65.18', '$65.47', '$64.69', '$45.51',\n",
       "       '$46.05', '$44.83', '$44.38', '$42.65', '$41.69', '$40.83',\n",
       "       '$39.70', '$39.44', '$31.35', '$31.69', '$32.70', '$33.22',\n",
       "       '$33.80', '$34.48', '$34.05', '$24.30', '$33.76', '$33.87',\n",
       "       '$65.03', '$66.86', '$66.41', '$66.64', '$65.81', '$66.40',\n",
       "       '$66.83', '$67.50', '$66.30', '$65.21', '$64.64', '$64.43',\n",
       "       '$74.87', '$75.66', '$76.40', '$76.54', '$78.20', '$79.08',\n",
       "       '$80.44', '$81.49', '$80.01', '$80.00', '$80.39', '$81.40',\n",
       "       '$91.90', '$92.60', '$91.75', '$90.58', '$93.27', '$94.40',\n",
       "       '$94.44', '$92.75', '$91.38', '$90.19', '$90.68', '$32.39',\n",
       "       '$33.01', '$33.27', '$33.51', '$33.63', '$35.95', '$36.10',\n",
       "       '$36.69', '$35.76', '$35.36', '$34.99', '$34.50', '$25.30',\n",
       "       '$25.41', '$25.09', '$24.72', '$25.34', '$25.48', '$24.95',\n",
       "       '$24.25', '$24.03', '$23.84', '$23.69', '$23.65', '$24.16',\n",
       "       '$20.11', '$20.15', '$20.33', '$19.79', '$19.90', '$20.45',\n",
       "       '$20.68', '$20.35', '$20.66', '$20.04', '$20.03', '$60.61',\n",
       "       '$61.47', '$61.90', '$63.27', '$62.60', '$64.90', '$64.86',\n",
       "       '$66.51', '$65.70', '$56.57', '$64.65', '$62.44', '$28.90',\n",
       "       '$29.99', '$30.01', '$29.91', '$31.03', '$31.05', '$30.90',\n",
       "       '$30.92', '$30.52', '$30.11', '$30.17', '$30.29', '$58.37',\n",
       "       '$59.00', '$58.07', '$60.91', '$62.85', '$62.18', '$62.13',\n",
       "       '$60.36', '$60.59', '$58.71', '$57.36', '$56.12', '$83.26',\n",
       "       '$84.18', '$82.70', '$81.10', '$86.29', '$85.80', '$88.35',\n",
       "       '$86.65', '$85.21', '$82.43', '$82.60', '$82.52', '$83.69',\n",
       "       '$37.42', '$37.26', '$37.34', '$36.91', '$36.82', '$36.90',\n",
       "       '$36.95', '$36.80', '$36.24', '$35.60', '$35.16', '$34.94',\n",
       "       '$35.20', '$51.89', '$52.06', '$52.40', '$52.91', '$53.23',\n",
       "       '$53.20', '$54.70', '$54.95', '$54.10', '$53.04', '$52.69',\n",
       "       '$51.79', '$52.35', '$82.61', '$84.07', '$82.38', '$82.44',\n",
       "       '$85.89', '$81.59', '$79.42', '$79.60', '$80.07', '$80.18',\n",
       "       '$79.72', '$78.33', '$76.78'], dtype=object)"
      ]
     },
     "execution_count": 59,
     "metadata": {},
     "output_type": "execute_result"
    }
   ],
   "source": [
    "df['low'].unique()"
   ]
  },
  {
   "cell_type": "code",
   "execution_count": 60,
   "metadata": {},
   "outputs": [],
   "source": [
    "for category in range(len(df['low'].unique())):\n",
    "    df['low'].replace(df['low'].unique()[category],float(df['low'].unique()[category][1:]),inplace=True)"
   ]
  },
  {
   "cell_type": "code",
   "execution_count": 61,
   "metadata": {},
   "outputs": [
    {
     "data": {
      "text/plain": [
       "0      15.78\n",
       "1      15.64\n",
       "2      15.60\n",
       "3      15.82\n",
       "4      16.18\n",
       "       ...  \n",
       "745    80.07\n",
       "746    80.18\n",
       "747    79.72\n",
       "748    78.33\n",
       "749    76.78\n",
       "Name: low, Length: 750, dtype: float64"
      ]
     },
     "execution_count": 61,
     "metadata": {},
     "output_type": "execute_result"
    }
   ],
   "source": [
    "df['low']"
   ]
  },
  {
   "cell_type": "code",
   "execution_count": 62,
   "metadata": {},
   "outputs": [],
   "source": [
    "### 'close'"
   ]
  },
  {
   "cell_type": "code",
   "execution_count": 63,
   "metadata": {},
   "outputs": [
    {
     "data": {
      "text/plain": [
       "array(['$16.42', '$15.97', '$15.79', '$16.13', '$17.14', '$17.37',\n",
       "       '$17.28', '$16.68', '$16.58', '$16.03', '$16.11', '$17.09',\n",
       "       '$44.36', '$46.25', '$46.00', '$43.86', '$43.82', '$46.75',\n",
       "       '$45.53', '$43.53', '$43.72', '$44.28', '$44.17', '$45.59',\n",
       "       '$69.38', '$70.07', '$71.68', '$69.23', '$71.38', '$72.14',\n",
       "       '$73.04', '$72.30', '$71.80', '$71.64', '$69.10', '$73.34',\n",
       "       '$14.25', '$15.25', '$13.60', '$14.29', '$14.77', '$14.75',\n",
       "       '$14.20', '$14.12', '$14.38', '$14.04', '$13.34', '$93.73',\n",
       "       '$94.01', '$92.75', '$95.68', '$99.59', '$103.54', '$105.86',\n",
       "       '$102.00', '$103.04', '$100.02', '$105.06', '$109.09', '$20.97',\n",
       "       '$21.21', '$20.72', '$20.93', '$22.05', '$18.70', '$18.85',\n",
       "       '$18.64', '$18.40', '$17.95', '$91.19', '$92.83', '$93.78',\n",
       "       '$93.37', '$97.11', '$96.45', '$98.72', '$102.10', '$103.75',\n",
       "       '$99.93', '$102.80', '$106.78', '$49.76', '$49.80', '$48.35',\n",
       "       '$50.29', '$52.53', '$54.58', '$55.98', '$54.07', '$53.87',\n",
       "       '$52.90', '$52.99', '$54.10', '$39.45', '$39.29', '$39.74',\n",
       "       '$38.85', '$40.71', '$43.41', '$43.56', '$42.95', '$43.55',\n",
       "       '$42.93', '$41.23', '$42.97', '$18.43', '$18.82', '$19.74',\n",
       "       '$20.20', '$20.56', '$21.33', '$21.44', '$20.82', '$20.37',\n",
       "       '$20.36', '$19.25', '$19.75', '$34.38', '$35.89', '$36.51',\n",
       "       '$36.70', '$36.80', '$37.48', '$38.48', '$37.08', '$37.22',\n",
       "       '$37.14', '$36.00', '$37.42', '$45.09', '$47.23', '$45.51',\n",
       "       '$47.43', '$48.64', '$48.67', '$42.68', '$42.61', '$41.73',\n",
       "       '$41.32', '$42.53', '$147.93', '$150.00', '$155.50', '$159.21',\n",
       "       '$164.00', '$163.85', '$164.84', '$162.28', '$161.83', '$162.43',\n",
       "       '$155.89', '$162.18', '$20.66', '$21.08', '$21.46', '$21.68',\n",
       "       '$21.76', '$22.14', '$21.86', '$21.56', '$20.87', '$19.93',\n",
       "       '$62.60', '$62.55', '$62.66', '$60.01', '$60.84', '$60.70',\n",
       "       '$61.11', '$59.64', '$61.06', '$59.69', '$58.57', '$58.98',\n",
       "       '$43.64', '$44.91', '$45.29', '$44.54', '$44.59', '$46.57',\n",
       "       '$48.00', '$46.68', '$45.52', '$45.74', '$45.86', '$31.19',\n",
       "       '$31.34', '$31.35', '$30.53', '$30.66', '$30.91', '$31.71',\n",
       "       '$31.58', '$31.70', '$30.99', '$31.26', '$62.92', '$63.13',\n",
       "       '$62.77', '$62.21', '$62.56', '$63.57', '$64.55', '$64.31',\n",
       "       '$65.21', '$64.81', '$62.70', '$65.22', '$74.37', '$74.06',\n",
       "       '$75.01', '$73.28', '$74.05', '$76.14', '$76.13', '$74.44',\n",
       "       '$76.03', '$76.73', '$72.99', '$75.25', '$86.23', '$88.10',\n",
       "       '$89.29', '$87.44', '$88.29', '$91.80', '$92.96', '$90.25',\n",
       "       '$92.19', '$91.61', '$88.98', '$92.27', '$37.35', '$34.23',\n",
       "       '$33.90', '$33.07', '$32.89', '$32.85', '$32.19', '$33.06',\n",
       "       '$32.73', '$31.91', '$32.57', '$28.60', '$28.30', '$28.02',\n",
       "       '$27.75', '$27.77', '$27.25', '$27.06', '$26.55', '$25.95',\n",
       "       '$25.68', '$24.80', '$25.62', '$18.34', '$18.36', '$18.15',\n",
       "       '$19.30', '$18.83', '$19.19', '$18.86', '$19.66', '$19.47',\n",
       "       '$20.18', '$20.35', '$64.50', '$65.53', '$65.91', '$64.20',\n",
       "       '$63.61', '$64.73', '$64.30', '$62.84', '$62.03', '$61.49',\n",
       "       '$60.60', '$60.88', '$28.85', '$28.43', '$28.33', '$27.49',\n",
       "       '$27.97', '$28.47', '$28.57', '$28.13', '$27.92', '$28.46',\n",
       "       '$27.94', '$53.33', '$54.63', '$55.00', '$55.81', '$57.41',\n",
       "       '$58.99', '$60.92', '$59.60', '$59.18', '$58.88', '$58.06',\n",
       "       '$79.08', '$80.20', '$81.43', '$82.52', '$85.20', '$85.01',\n",
       "       '$83.37', '$82.86', '$81.28', '$80.16', '$83.52', '$35.93',\n",
       "       '$35.46', '$34.95', '$35.63', '$36.31', '$36.39', '$36.62',\n",
       "       '$35.97', '$36.08', '$35.85', '$35.84', '$37.29', '$54.08',\n",
       "       '$54.81', '$55.73', '$56.70', '$56.03', '$55.69', '$55.38',\n",
       "       '$51.75', '$52.07', '$52.59', '$51.52', '$52.35', '$75.59',\n",
       "       '$77.84', '$78.98', '$78.99', '$83.28', '$82.82', '$84.50',\n",
       "       '$85.34', '$85.08', '$82.12', '$80.85', '$83.62', '$17.47',\n",
       "       '$17.92', '$16.52', '$16.97', '$17.00', '$17.15', '$17.10',\n",
       "       '$16.26', '$16.48', '$15.92', '$15.28', '$14.72', '$15.23',\n",
       "       '$45.36', '$46.28', '$47.11', '$49.08', '$50.20', '$49.49',\n",
       "       '$51.19', '$51.13', '$49.28', '$47.74', '$48.50', '$48.34',\n",
       "       '$74.01', '$73.47', '$72.60', '$75.44', '$79.78', '$79.31',\n",
       "       '$79.03', '$77.52', '$76.99', '$74.84', '$72.69', '$74.16',\n",
       "       '$71.26', '$13.37', '$13.48', '$12.82', '$12.31', '$12.28',\n",
       "       '$11.93', '$11.58', '$11.69', '$11.28', '$10.80', '$10.68',\n",
       "       '$10.52', '$113.12', '$109.82', '$107.21', '$109.42', '$115.41',\n",
       "       '$110.34', '$106.33', '$104.33', '$104.60', '$101.10', '$96.79',\n",
       "       '$95.95', '$100.01', '$17.04', '$17.65', '$17.03', '$16.94',\n",
       "       '$17.52', '$17.56', '$16.88', '$16.53', '$16.46', '$16.01',\n",
       "       '$15.12', '$14.97', '$14.93', '$108.32', '$109.66', '$106.24',\n",
       "       '$108.13', '$109.44', '$102.88', '$102.39', '$102.57', '$103.21',\n",
       "       '$101.00', '$99.67', '$99.17', '$97.90', '$55.19', '$55.40',\n",
       "       '$54.89', '$55.91', '$56.79', '$52.91', '$52.74', '$52.56',\n",
       "       '$49.78', '$49.57', '$51.96', '$42.85', '$41.76', '$41.52',\n",
       "       '$42.27', '$43.10', '$43.06', '$41.50', '$39.38', '$38.50',\n",
       "       '$38.04', '$37.58', '$20.34', '$20.19', '$20.04', '$19.95',\n",
       "       '$20.45', '$20.01', '$19.89', '$19.62', '$19.44', '$18.32',\n",
       "       '$18.49', '$17.97', '$37.56', '$37.46', '$38.17', '$37.80',\n",
       "       '$37.15', '$36.99', '$37.01', '$37.05', '$34.63', '$33.47',\n",
       "       '$34.53', '$35.08', '$40.98', '$40.70', '$40.26', '$40.99',\n",
       "       '$40.37', '$40.81', '$40.41', '$35.98', '$36.96', '$36.11',\n",
       "       '$35.25', '$35.00', '$34.90', '$164.27', '$164.05', '$166.21',\n",
       "       '$168.28', '$170.58', '$168.89', '$169.92', '$170.16', '$167.50',\n",
       "       '$165.05', '$163.18', '$164.44', '$165.07', '$19.72', '$20.02',\n",
       "       '$23.15', '$23.25', '$23.41', '$23.22', '$22.21', '$21.73',\n",
       "       '$21.38', '$21.19', '$21.20', '$59.49', '$59.46', '$60.56',\n",
       "       '$64.07', '$65.72', '$65.27', '$66.62', '$65.69', '$66.77',\n",
       "       '$66.09', '$66.29', '$65.06', '$46.35', '$46.84', '$44.89',\n",
       "       '$44.68', '$45.63', '$45.04', '$43.15', '$43.13', '$42.79',\n",
       "       '$41.57', '$41.05', '$40.80', '$39.49', '$31.61', '$31.67',\n",
       "       '$33.36', '$33.38', '$33.59', '$34.08', '$34.89', '$35.23',\n",
       "       '$34.75', '$34.10', '$33.79', '$34.48', '$34.60', '$67.22',\n",
       "       '$67.27', '$68.01', '$67.88', '$67.46', '$66.90', '$68.18',\n",
       "       '$68.30', '$66.51', '$65.39', '$65.62', '$64.93', '$75.99',\n",
       "       '$76.04', '$77.38', '$76.91', '$78.31', '$78.70', '$80.74',\n",
       "       '$82.33', '$81.62', '$80.54', '$80.36', '$81.84', '$93.13',\n",
       "       '$93.22', '$92.82', '$93.92', '$97.21', '$95.60', '$96.01',\n",
       "       '$93.56', '$93.47', '$90.70', '$90.73', '$91.78', '$90.89',\n",
       "       '$33.67', '$34.51', '$34.04', '$35.95', '$37.06', '$36.21',\n",
       "       '$35.82', '$35.45', '$35.39', '$34.55', '$25.48', '$26.07',\n",
       "       '$25.37', '$25.52', '$25.92', '$25.87', '$25.03', '$24.49',\n",
       "       '$24.76', '$23.90', '$23.70', '$24.26', '$24.30', '$20.38',\n",
       "       '$20.46', '$20.53', '$19.79', '$20.55', '$20.92', '$20.69',\n",
       "       '$20.84', '$20.11', '$20.26', '$20.08', '$62.08', '$61.90',\n",
       "       '$64.18', '$63.27', '$64.90', '$66.86', '$67.36', '$66.20',\n",
       "       '$65.43', '$64.70', '$64.69', '$62.59', '$30.62', '$30.71',\n",
       "       '$30.65', '$30.68', '$31.12', '$31.41', '$31.32', '$31.29',\n",
       "       '$30.34', '$30.77', '$30.44', '$59.71', '$59.58', '$59.80',\n",
       "       '$61.32', '$63.28', '$63.43', '$62.33', '$62.25', '$61.52',\n",
       "       '$61.18', '$59.21', '$57.92', '$56.68', '$85.32', '$84.81',\n",
       "       '$83.45', '$87.10', '$89.58', '$89.21', '$87.50', '$86.33',\n",
       "       '$83.24', '$82.70', '$84.57', '$84.33', '$38.47', '$37.72',\n",
       "       '$37.85', '$36.91', '$37.78', '$37.28', '$37.26', '$36.67',\n",
       "       '$35.19', '$35.51', '$52.13', '$52.54', '$53.55', '$53.58',\n",
       "       '$54.98', '$55.02', '$55.72', '$55.29', '$54.70', '$53.66',\n",
       "       '$52.72', '$52.82', '$52.41', '$84.68', '$85.95', '$84.29',\n",
       "       '$86.36', '$87.98', '$82.69', '$80.87', '$81.57', '$82.63',\n",
       "       '$81.18', '$79.02', '$76.78'], dtype=object)"
      ]
     },
     "execution_count": 63,
     "metadata": {},
     "output_type": "execute_result"
    }
   ],
   "source": [
    "df['close'].unique()"
   ]
  },
  {
   "cell_type": "code",
   "execution_count": 64,
   "metadata": {},
   "outputs": [],
   "source": [
    "for category in range(len(df['close'].unique())):\n",
    "    df['close'].replace(df['close'].unique()[category],float(df['close'].unique()[category][1:]),inplace=True)"
   ]
  },
  {
   "cell_type": "code",
   "execution_count": 65,
   "metadata": {},
   "outputs": [
    {
     "data": {
      "text/plain": [
       "0      16.42\n",
       "1      15.97\n",
       "2      15.79\n",
       "3      16.13\n",
       "4      17.14\n",
       "       ...  \n",
       "745    82.63\n",
       "746    81.18\n",
       "747    79.78\n",
       "748    79.02\n",
       "749    76.78\n",
       "Name: close, Length: 750, dtype: float64"
      ]
     },
     "execution_count": 65,
     "metadata": {},
     "output_type": "execute_result"
    }
   ],
   "source": [
    "df['close']"
   ]
  },
  {
   "cell_type": "markdown",
   "metadata": {},
   "source": [
    "## 'next_weeks_open'"
   ]
  },
  {
   "cell_type": "code",
   "execution_count": 66,
   "metadata": {},
   "outputs": [
    {
     "data": {
      "text/plain": [
       "array(['$16.71', '$16.19', '$15.87', '$16.18', '$17.33', '$17.39',\n",
       "       '$16.98', '$16.81', '$16.58', '$15.95', '$16.38', '$17.13',\n",
       "       '$44.20', '$46.03', '$46.05', '$44.13', '$43.96', '$46.42',\n",
       "       '$44.94', '$43.73', '$43.86', '$44.75', '$45.54', '$69.42',\n",
       "       '$70.86', '$71.52', '$69.26', '$71.43', '$72.70', '$72.35',\n",
       "       '$72.47', '$71.60', '$71.17', '$70.29', '$73.50', '$14.17',\n",
       "       '$15.08', '$14.25', '$13.71', '$14.51', '$14.77', '$14.38',\n",
       "       '$14.27', '$14.18', '$14.26', '$14.20', '$13.42', '$93.21',\n",
       "       '$94.16', '$92.71', '$96.13', '$99.62', '$103.56', '$104.86',\n",
       "       '$102.72', '$103.42', '$102.59', '$106.90', '$109.54', '$20.94',\n",
       "       '$21.22', '$20.84', '$20.93', '$22.11', '$18.84', '$18.73',\n",
       "       '$18.62', '$18.36', '$17.81', '$17.34', '$17.36', '$90.95',\n",
       "       '$92.94', '$93.89', '$93.85', '$97.28', '$95.50', '$99.23',\n",
       "       '$102.28', '$104.12', '$99.16', '$103.86', '$106.40', '$48.30',\n",
       "       '$49.53', '$48.44', '$50.15', '$52.62', '$54.44', '$54.95',\n",
       "       '$54.22', '$54.10', '$53.18', '$53.80', '$54.11', '$39.01',\n",
       "       '$39.07', '$39.64', '$39.04', '$40.80', '$43.19', '$42.83',\n",
       "       '$43.02', '$43.53', '$42.64', '$41.46', '$18.61', '$18.98',\n",
       "       '$19.93', '$20.13', '$20.77', '$21.51', '$20.88', '$20.95',\n",
       "       '$20.40', '$19.96', '$19.68', '$19.81', '$34.16', '$35.97',\n",
       "       '$36.46', '$37.13', '$36.80', '$37.47', '$39.30', '$37.15',\n",
       "       '$37.26', '$36.92', '$36.29', '$37.46', '$44.86', '$46.14',\n",
       "       '$46.69', '$45.41', '$47.71', '$48.45', '$47.57', '$43.06',\n",
       "       '$42.90', '$41.31', '$41.85', '$42.42', '$147.00', '$149.82',\n",
       "       '$155.42', '$159.18', '$164.08', '$164.18', '$163.57', '$162.36',\n",
       "       '$161.60', '$161.16', '$157.64', '$161.54', '$20.71', '$21.03',\n",
       "       '$21.55', '$21.74', '$21.63', '$21.95', '$21.75', '$21.69',\n",
       "       '$20.66', '$19.90', '$20.44', '$62.29', '$62.21', '$62.56',\n",
       "       '$60.16', '$60.88', '$60.69', '$60.68', '$59.93', '$61.09',\n",
       "       '$59.49', '$58.67', '$58.98', '$43.27', '$45.02', '$45.21',\n",
       "       '$44.41', '$46.00', '$47.20', '$46.81', '$45.62', '$45.42',\n",
       "       '$46.28', '$46.10', '$30.91', '$31.41', '$31.39', '$30.53',\n",
       "       '$31.18', '$30.67', '$30.72', '$31.82', '$31.56', '$31.51',\n",
       "       '$30.78', '$31.35', '$62.70', '$63.21', '$62.87', '$62.32',\n",
       "       '$62.67', '$63.67', '$63.36', '$64.17', '$65.32', '$64.34',\n",
       "       '$63.13', '$65.20', '$74.25', '$74.65', '$73.80', '$74.13',\n",
       "       '$76.07', '$75.95', '$74.51', '$76.38', '$76.10', '$75.55',\n",
       "       '$85.70', '$87.84', '$89.21', '$87.93', '$88.17', '$91.72',\n",
       "       '$92.73', '$91.90', '$92.58', '$91.21', '$90.27', '$92.42',\n",
       "       '$34.07', '$33.99', '$33.29', '$32.94', '$32.97', '$32.75',\n",
       "       '$32.20', '$33.00', '$32.50', '$32.09', '$32.54', '$28.20',\n",
       "       '$28.16', '$28.02', '$27.77', '$27.80', '$27.20', '$26.78',\n",
       "       '$26.69', '$26.13', '$25.49', '$25.18', '$25.66', '$18.22',\n",
       "       '$18.35', '$18.33', '$18.19', '$19.27', '$18.82', '$18.88',\n",
       "       '$18.95', '$19.64', '$19.45', '$20.32', '$20.42', '$64.40',\n",
       "       '$65.65', '$65.90', '$64.35', '$63.95', '$64.80', '$63.73',\n",
       "       '$62.80', '$62.00', '$61.04', '$60.96', '$61.08', '$28.54',\n",
       "       '$28.55', '$28.46', '$27.42', '$27.97', '$28.40', '$28.32',\n",
       "       '$28.25', '$27.95', '$28.77', '$29.02', '$53.12', '$54.62',\n",
       "       '$55.14', '$55.81', '$57.32', '$58.84', '$60.60', '$59.60',\n",
       "       '$59.26', '$58.47', '$58.44', '$59.09', '$78.27', '$79.28',\n",
       "       '$80.26', '$81.80', '$82.85', '$85.07', '$84.54', '$83.58',\n",
       "       '$83.03', '$80.74', '$81.30', '$83.75', '$36.55', '$35.38',\n",
       "       '$34.88', '$35.64', '$36.30', '$36.31', '$36.24', '$36.06',\n",
       "       '$36.13', '$35.74', '$36.66', '$37.44', '$53.65', '$55.11',\n",
       "       '$55.39', '$56.45', '$56.07', '$55.26', '$53.81', '$51.75',\n",
       "       '$52.26', '$52.35', '$51.73', '$52.31', '$75.13', '$77.79',\n",
       "       '$78.85', '$79.92', '$83.45', '$82.00', '$84.97', '$85.87',\n",
       "       '$85.84', '$81.67', '$81.87', '$83.86', '$17.42', '$18.06',\n",
       "       '$16.36', '$16.94', '$17.27', '$17.16', '$17.00', '$15.96',\n",
       "       '$16.73', '$15.92', '$15.29', '$14.67', '$15.22', '$45.61',\n",
       "       '$46.36', '$45.85', '$47.19', '$49.37', '$50.06', '$49.42',\n",
       "       '$50.74', '$51.39', '$49.13', '$47.96', '$48.35', '$48.49',\n",
       "       '$73.38', '$73.65', '$72.72', '$75.51', '$80.35', '$79.31',\n",
       "       '$78.66', '$76.55', '$77.80', '$74.76', '$73.06', '$73.96',\n",
       "       '$71.44', '$13.40', '$13.50', '$12.59', '$12.32', '$12.36',\n",
       "       '$12.28', '$11.89', '$11.47', '$11.87', '$11.18', '$10.89',\n",
       "       '$10.59', '$10.52', '$113.75', '$110.02', '$105.58', '$109.24',\n",
       "       '$116.24', '$110.80', '$105.87', '$101.30', '$106.41', '$100.25',\n",
       "       '$96.93', '$96.49', '$99.96', '$17.01', '$17.71', '$16.88',\n",
       "       '$16.93', '$17.51', '$17.53', '$16.82', '$16.41', '$16.59',\n",
       "       '$16.04', '$15.14', '$14.94', '$108.52', '$109.74', '$104.95',\n",
       "       '$107.37', '$109.48', '$103.25', '$102.03', '$101.13', '$104.61',\n",
       "       '$100.90', '$100.04', '$98.88', '$97.94', '$55.50', '$55.45',\n",
       "       '$54.28', '$55.69', '$56.42', '$54.94', '$52.74', '$50.30',\n",
       "       '$50.03', '$49.50', '$51.85', '$42.87', '$41.76', '$40.97',\n",
       "       '$42.34', '$43.47', '$43.32', '$41.26', '$41.15', '$41.90',\n",
       "       '$39.18', '$38.63', '$37.85', '$37.62', '$20.73', '$20.24',\n",
       "       '$19.77', '$20.14', '$20.70', '$19.97', '$19.85', '$19.32',\n",
       "       '$18.71', '$18.31', '$18.34', '$18.00', '$37.48', '$37.45',\n",
       "       '$37.70', '$37.61', '$36.93', '$36.69', '$36.00', '$36.18',\n",
       "       '$34.53', '$33.46', '$34.29', '$35.03', '$40.65', '$40.71',\n",
       "       '$39.96', '$41.06', '$40.69', '$40.79', '$40.20', '$35.58',\n",
       "       '$37.28', '$35.99', '$35.13', '$34.79', '$35.05', '$164.42',\n",
       "       '$163.44', '$164.64', '$167.65', '$172.11', '$168.39', '$169.81',\n",
       "       '$168.50', '$168.44', '$164.76', '$164.44', '$163.70', '$165.74',\n",
       "       '$19.79', '$20.07', '$19.53', '$21.37', '$23.02', '$23.13',\n",
       "       '$23.32', '$22.92', '$22.45', '$21.80', '$21.43', '$21.19',\n",
       "       '$21.17', '$59.50', '$59.54', '$60.45', '$63.65', '$65.92',\n",
       "       '$65.11', '$66.41', '$65.19', '$67.31', '$65.87', '$66.32',\n",
       "       '$66.08', '$46.12', '$47.00', '$44.27', '$44.65', '$45.94',\n",
       "       '$42.97', '$42.40', '$43.24', '$41.10', '$41.29', '$40.50',\n",
       "       '$39.40', '$31.71', '$31.73', '$32.72', '$33.45', '$33.60',\n",
       "       '$33.81', '$34.84', '$34.97', '$33.92', '$34.39', '$34.61',\n",
       "       '$67.22', '$67.25', '$67.57', '$67.95', '$67.76', '$66.86',\n",
       "       '$68.10', '$67.59', '$66.94', '$65.51', '$65.10', '$65.37',\n",
       "       '$64.85', '$76.31', '$76.15', '$76.89', '$77.15', '$78.40',\n",
       "       '$79.46', '$80.44', '$81.53', '$82.13', '$80.60', '$80.43',\n",
       "       '$82.32', '$81.51', '$92.68', '$93.59', '$91.94', '$93.91',\n",
       "       '$97.58', '$95.30', '$95.54', '$92.29', '$94.05', '$90.38',\n",
       "       '$91.14', '$91.42', '$91.08', '$33.34', '$33.68', '$34.20',\n",
       "       '$33.70', '$36.44', '$36.11', '$37.06', '$36.67', '$36.39',\n",
       "       '$35.70', '$35.29', '$34.60', '$25.45', '$26.19', '$25.10',\n",
       "       '$25.56', '$25.94', '$25.80', '$24.96', '$24.21', '$23.90',\n",
       "       '$23.79', '$24.17', '$24.23', '$20.55', '$19.95', '$21.14',\n",
       "       '$20.53', '$20.49', '$21.00', '$20.82', '$20.08', '$20.09',\n",
       "       '$20.10', '$62.17', '$62.02', '$63.08', '$65.24', '$64.93',\n",
       "       '$66.66', '$66.80', '$66.33', '$65.36', '$64.65', '$64.51',\n",
       "       '$62.76', '$30.74', '$30.75', '$30.42', '$31.60', '$31.20',\n",
       "       '$31.32', '$31.00', '$31.48', '$30.55', '$30.28', '$30.66',\n",
       "       '$30.65', '$59.83', '$59.85', '$59.32', '$61.32', '$63.56',\n",
       "       '$63.23', '$62.52', '$61.74', '$61.95', '$61.35', '$59.12',\n",
       "       '$57.57', '$56.83', '$85.66', '$85.00', '$82.60', '$87.00',\n",
       "       '$90.03', '$88.88', '$88.46', '$86.41', '$82.93', '$82.92',\n",
       "       '$84.36', '$84.01', '$38.53', '$37.75', '$37.60', '$37.07',\n",
       "       '$38.33', '$36.75', '$36.91', '$35.57', '$35.23', '$35.35',\n",
       "       '$52.54', '$53.08', '$53.60', '$55.08', '$54.97', '$55.61',\n",
       "       '$54.90', '$54.88', '$53.86', '$52.91', '$52.70', '$52.32',\n",
       "       '$84.26', '$85.95', '$83.11', '$86.29', '$88.10', '$83.01',\n",
       "       '$80.22', '$83.28', '$80.93', '$80.00', '$78.65', '$76.88'],\n",
       "      dtype=object)"
      ]
     },
     "execution_count": 66,
     "metadata": {},
     "output_type": "execute_result"
    }
   ],
   "source": [
    "df['next_weeks_open'].unique()"
   ]
  },
  {
   "cell_type": "code",
   "execution_count": 67,
   "metadata": {},
   "outputs": [],
   "source": [
    "for category in range(len(df['next_weeks_open'].unique())):\n",
    "    df['next_weeks_open'].replace(df['next_weeks_open'].unique()[category],float(df['next_weeks_open'].unique()[category][1:]),inplace=True)"
   ]
  },
  {
   "cell_type": "code",
   "execution_count": 68,
   "metadata": {},
   "outputs": [
    {
     "data": {
      "text/plain": [
       "0      16.71\n",
       "1      16.19\n",
       "2      15.87\n",
       "3      16.18\n",
       "4      17.33\n",
       "       ...  \n",
       "745    83.28\n",
       "746    80.93\n",
       "747    80.00\n",
       "748    78.65\n",
       "749    76.88\n",
       "Name: next_weeks_open, Length: 750, dtype: float64"
      ]
     },
     "execution_count": 68,
     "metadata": {},
     "output_type": "execute_result"
    }
   ],
   "source": [
    "df['next_weeks_open']"
   ]
  },
  {
   "cell_type": "code",
   "execution_count": 69,
   "metadata": {},
   "outputs": [],
   "source": [
    "# 'next_weeks_close'"
   ]
  },
  {
   "cell_type": "code",
   "execution_count": 70,
   "metadata": {},
   "outputs": [
    {
     "data": {
      "text/plain": [
       "array(['$15.97', '$15.79', '$16.13', '$17.14', '$17.37', '$17.28',\n",
       "       '$16.68', '$16.58', '$16.03', '$16.11', '$17.09', '$17.47',\n",
       "       '$46.25', '$46.00', '$43.86', '$43.82', '$46.75', '$45.53',\n",
       "       '$43.53', '$43.72', '$44.28', '$44.17', '$45.59', '$45.36',\n",
       "       '$70.07', '$71.68', '$69.23', '$71.38', '$72.14', '$73.04',\n",
       "       '$72.30', '$71.80', '$71.64', '$69.10', '$73.34', '$74.01',\n",
       "       '$15.25', '$14.25', '$13.60', '$14.29', '$14.77', '$14.75',\n",
       "       '$14.20', '$14.12', '$14.38', '$14.04', '$13.34', '$13.37',\n",
       "       '$94.01', '$92.75', '$95.68', '$99.59', '$103.54', '$105.86',\n",
       "       '$102.00', '$103.04', '$100.02', '$105.06', '$109.09', '$113.12',\n",
       "       '$21.21', '$20.72', '$20.93', '$22.05', '$18.70', '$18.85',\n",
       "       '$18.64', '$18.40', '$17.95', '$17.04', '$92.83', '$93.78',\n",
       "       '$93.37', '$97.11', '$96.45', '$98.72', '$102.10', '$103.75',\n",
       "       '$99.93', '$102.80', '$106.78', '$108.32', '$49.80', '$48.35',\n",
       "       '$50.29', '$52.53', '$54.58', '$55.98', '$54.07', '$53.87',\n",
       "       '$52.90', '$52.99', '$54.10', '$55.19', '$39.29', '$39.74',\n",
       "       '$38.85', '$40.71', '$43.41', '$43.56', '$42.95', '$43.55',\n",
       "       '$42.93', '$41.23', '$42.97', '$42.85', '$18.82', '$19.74',\n",
       "       '$20.20', '$20.56', '$21.33', '$21.44', '$20.82', '$20.37',\n",
       "       '$20.36', '$19.25', '$19.75', '$20.34', '$35.89', '$36.51',\n",
       "       '$36.70', '$36.80', '$37.48', '$38.48', '$37.08', '$37.22',\n",
       "       '$37.14', '$36.00', '$37.42', '$37.56', '$47.23', '$45.51',\n",
       "       '$47.43', '$48.64', '$48.67', '$42.68', '$42.61', '$41.73',\n",
       "       '$41.32', '$42.53', '$40.98', '$150.00', '$155.50', '$159.21',\n",
       "       '$164.00', '$163.85', '$164.84', '$162.28', '$161.83', '$162.43',\n",
       "       '$155.89', '$162.18', '$164.27', '$21.08', '$21.46', '$21.68',\n",
       "       '$21.76', '$22.14', '$21.86', '$21.56', '$20.87', '$19.93',\n",
       "       '$19.72', '$62.55', '$62.66', '$60.01', '$60.84', '$60.70',\n",
       "       '$61.11', '$59.64', '$61.06', '$59.69', '$58.57', '$58.98',\n",
       "       '$59.49', '$44.91', '$45.29', '$44.54', '$44.59', '$46.57',\n",
       "       '$48.00', '$46.68', '$45.52', '$45.74', '$45.86', '$46.35',\n",
       "       '$31.34', '$31.35', '$30.53', '$31.19', '$30.66', '$30.91',\n",
       "       '$31.71', '$31.58', '$31.70', '$30.99', '$31.26', '$31.61',\n",
       "       '$63.13', '$62.77', '$62.21', '$62.56', '$63.57', '$64.55',\n",
       "       '$64.31', '$65.21', '$64.81', '$62.70', '$65.22', '$67.22',\n",
       "       '$74.06', '$75.01', '$73.28', '$74.05', '$76.14', '$76.13',\n",
       "       '$74.44', '$76.03', '$76.73', '$72.99', '$75.25', '$75.99',\n",
       "       '$88.10', '$89.29', '$87.44', '$88.29', '$91.80', '$92.96',\n",
       "       '$90.25', '$92.19', '$91.61', '$88.98', '$92.27', '$93.13',\n",
       "       '$34.23', '$33.90', '$33.07', '$32.89', '$32.85', '$32.19',\n",
       "       '$33.06', '$32.73', '$31.91', '$32.57', '$28.30', '$28.02',\n",
       "       '$27.75', '$27.77', '$27.25', '$27.06', '$26.55', '$25.95',\n",
       "       '$25.68', '$24.80', '$25.62', '$25.48', '$18.34', '$18.36',\n",
       "       '$18.15', '$19.30', '$18.83', '$19.19', '$18.86', '$19.66',\n",
       "       '$19.47', '$20.18', '$20.35', '$20.38', '$65.53', '$65.91',\n",
       "       '$64.20', '$63.61', '$64.73', '$64.30', '$62.84', '$62.03',\n",
       "       '$61.49', '$60.60', '$60.88', '$62.08', '$28.43', '$28.33',\n",
       "       '$27.49', '$27.97', '$28.47', '$28.57', '$28.13', '$27.92',\n",
       "       '$28.46', '$27.94', '$28.85', '$30.62', '$54.63', '$55.00',\n",
       "       '$55.81', '$57.41', '$58.99', '$60.92', '$59.60', '$59.18',\n",
       "       '$58.88', '$58.06', '$59.71', '$79.08', '$80.20', '$81.43',\n",
       "       '$82.52', '$85.20', '$85.01', '$83.37', '$82.86', '$81.28',\n",
       "       '$80.16', '$83.52', '$85.32', '$35.46', '$34.95', '$35.63',\n",
       "       '$36.31', '$36.39', '$36.62', '$35.97', '$36.08', '$35.85',\n",
       "       '$35.84', '$37.29', '$38.47', '$54.81', '$55.73', '$56.70',\n",
       "       '$56.03', '$55.69', '$55.38', '$51.75', '$52.07', '$52.59',\n",
       "       '$51.52', '$52.35', '$52.13', '$77.84', '$78.98', '$78.99',\n",
       "       '$83.28', '$82.82', '$84.50', '$85.34', '$85.08', '$82.12',\n",
       "       '$80.85', '$83.62', '$84.68', '$17.92', '$16.52', '$16.97',\n",
       "       '$17.00', '$17.15', '$17.10', '$16.26', '$16.48', '$15.92',\n",
       "       '$15.28', '$14.72', '$15.23', '$16.31', '$46.28', '$47.11',\n",
       "       '$49.08', '$50.20', '$49.49', '$51.19', '$51.13', '$49.28',\n",
       "       '$47.74', '$48.50', '$48.34', '$52.34', '$73.47', '$72.60',\n",
       "       '$75.44', '$79.78', '$79.31', '$79.03', '$77.52', '$76.99',\n",
       "       '$74.84', '$72.69', '$74.16', '$71.26', '$74.27', '$13.48',\n",
       "       '$12.82', '$12.31', '$12.28', '$11.93', '$11.58', '$11.69',\n",
       "       '$11.28', '$10.80', '$10.68', '$10.52', '$11.09', '$109.82',\n",
       "       '$107.21', '$109.42', '$115.41', '$110.34', '$106.33', '$104.33',\n",
       "       '$104.60', '$101.10', '$96.79', '$95.95', '$100.01', '$108.62',\n",
       "       '$17.65', '$17.03', '$16.94', '$17.52', '$17.56', '$16.88',\n",
       "       '$16.53', '$16.46', '$16.01', '$15.12', '$14.97', '$14.93',\n",
       "       '$15.86', '$109.66', '$106.24', '$108.13', '$109.44', '$102.88',\n",
       "       '$102.39', '$102.57', '$103.21', '$101.00', '$99.67', '$99.17',\n",
       "       '$97.90', '$104.09', '$55.40', '$54.89', '$55.91', '$56.79',\n",
       "       '$52.91', '$52.74', '$52.56', '$49.78', '$49.57', '$51.96',\n",
       "       '$54.47', '$41.76', '$41.52', '$42.27', '$43.10', '$43.06',\n",
       "       '$41.50', '$39.38', '$38.50', '$38.04', '$37.58', '$39.72',\n",
       "       '$20.19', '$20.04', '$19.95', '$20.45', '$20.01', '$19.89',\n",
       "       '$19.62', '$19.44', '$18.32', '$18.49', '$17.97', '$19.20',\n",
       "       '$37.46', '$38.17', '$37.80', '$37.15', '$36.99', '$37.01',\n",
       "       '$37.05', '$34.63', '$33.47', '$34.53', '$35.08', '$36.73',\n",
       "       '$40.70', '$40.26', '$40.99', '$40.37', '$40.81', '$40.41',\n",
       "       '$35.98', '$36.96', '$36.11', '$35.25', '$35.00', '$34.90',\n",
       "       '$164.05', '$166.21', '$168.28', '$170.58', '$168.89', '$169.92',\n",
       "       '$170.16', '$167.50', '$165.05', '$163.18', '$164.44', '$165.07',\n",
       "       '$174.54', '$20.02', '$23.15', '$23.25', '$23.41', '$23.22',\n",
       "       '$22.21', '$21.73', '$21.38', '$21.19', '$21.20', '$22.53',\n",
       "       '$59.46', '$60.56', '$64.07', '$65.72', '$65.27', '$66.62',\n",
       "       '$65.69', '$66.77', '$66.09', '$66.29', '$65.06', '$67.30',\n",
       "       '$46.84', '$44.89', '$44.68', '$45.63', '$45.04', '$43.15',\n",
       "       '$43.13', '$42.79', '$41.57', '$41.05', '$40.80', '$39.49',\n",
       "       '$41.58', '$31.67', '$33.36', '$33.38', '$33.59', '$34.08',\n",
       "       '$34.89', '$35.23', '$34.75', '$34.10', '$33.79', '$34.48',\n",
       "       '$34.60', '$35.47', '$67.27', '$68.01', '$67.88', '$67.46',\n",
       "       '$66.90', '$68.18', '$68.30', '$66.51', '$65.39', '$65.62',\n",
       "       '$64.93', '$68.09', '$76.04', '$77.38', '$76.91', '$78.31',\n",
       "       '$78.70', '$80.74', '$82.33', '$81.62', '$80.54', '$80.36',\n",
       "       '$81.84', '$85.65', '$93.22', '$92.82', '$93.92', '$97.21',\n",
       "       '$95.60', '$96.01', '$93.56', '$93.47', '$90.70', '$90.73',\n",
       "       '$91.78', '$90.89', '$96.67', '$33.67', '$34.51', '$34.04',\n",
       "       '$35.95', '$37.06', '$36.21', '$35.82', '$35.45', '$35.39',\n",
       "       '$34.55', '$35.60', '$26.07', '$25.37', '$25.52', '$25.92',\n",
       "       '$25.87', '$25.03', '$24.49', '$24.76', '$23.90', '$23.70',\n",
       "       '$24.26', '$24.30', '$26.02', '$20.46', '$20.53', '$19.79',\n",
       "       '$20.97', '$20.55', '$20.92', '$20.69', '$20.84', '$20.11',\n",
       "       '$20.26', '$20.08', '$20.75', '$61.90', '$64.18', '$63.27',\n",
       "       '$64.90', '$66.86', '$67.36', '$66.20', '$65.43', '$64.70',\n",
       "       '$64.69', '$62.59', '$64.27', '$30.71', '$30.65', '$30.68',\n",
       "       '$31.12', '$31.41', '$31.32', '$31.29', '$30.34', '$30.77',\n",
       "       '$30.44', '$31.68', '$59.58', '$59.80', '$61.32', '$63.28',\n",
       "       '$63.43', '$62.33', '$62.25', '$61.52', '$61.18', '$59.21',\n",
       "       '$57.92', '$56.68', '$59.11', '$84.81', '$83.45', '$87.10',\n",
       "       '$89.58', '$89.21', '$87.50', '$86.33', '$83.24', '$82.70',\n",
       "       '$84.57', '$84.33', '$90.13', '$37.72', '$37.85', '$36.91',\n",
       "       '$37.78', '$37.28', '$37.26', '$36.67', '$35.19', '$35.51',\n",
       "       '$52.54', '$53.55', '$53.58', '$54.98', '$55.02', '$55.72',\n",
       "       '$55.29', '$54.70', '$53.66', '$52.72', '$52.82', '$52.41',\n",
       "       '$53.51', '$85.95', '$84.29', '$86.36', '$87.98', '$82.69',\n",
       "       '$80.87', '$81.57', '$82.63', '$81.18', '$79.02', '$76.78',\n",
       "       '$82.01'], dtype=object)"
      ]
     },
     "execution_count": 70,
     "metadata": {},
     "output_type": "execute_result"
    }
   ],
   "source": [
    "df['next_weeks_close'].unique()"
   ]
  },
  {
   "cell_type": "code",
   "execution_count": 71,
   "metadata": {},
   "outputs": [],
   "source": [
    "for category in range(len(df['next_weeks_close'].unique())):\n",
    "    df['next_weeks_close'].replace(df['next_weeks_close'].unique()[category],float(df['next_weeks_close'].unique()[category][1:]),inplace=True)"
   ]
  },
  {
   "cell_type": "code",
   "execution_count": 72,
   "metadata": {},
   "outputs": [
    {
     "data": {
      "text/plain": [
       "0      15.97\n",
       "1      15.79\n",
       "2      16.13\n",
       "3      17.14\n",
       "4      17.37\n",
       "       ...  \n",
       "745    81.18\n",
       "746    79.78\n",
       "747    79.02\n",
       "748    76.78\n",
       "749    82.01\n",
       "Name: next_weeks_close, Length: 750, dtype: float64"
      ]
     },
     "execution_count": 72,
     "metadata": {},
     "output_type": "execute_result"
    }
   ],
   "source": [
    "df['next_weeks_close']"
   ]
  },
  {
   "cell_type": "code",
   "execution_count": 73,
   "metadata": {},
   "outputs": [
    {
     "data": {
      "text/html": [
       "<div>\n",
       "<style scoped>\n",
       "    .dataframe tbody tr th:only-of-type {\n",
       "        vertical-align: middle;\n",
       "    }\n",
       "\n",
       "    .dataframe tbody tr th {\n",
       "        vertical-align: top;\n",
       "    }\n",
       "\n",
       "    .dataframe thead th {\n",
       "        text-align: right;\n",
       "    }\n",
       "</style>\n",
       "<table border=\"1\" class=\"dataframe\">\n",
       "  <thead>\n",
       "    <tr style=\"text-align: right;\">\n",
       "      <th></th>\n",
       "      <th>stock</th>\n",
       "      <th>date</th>\n",
       "      <th>open</th>\n",
       "      <th>high</th>\n",
       "      <th>low</th>\n",
       "      <th>close</th>\n",
       "      <th>next_weeks_open</th>\n",
       "      <th>next_weeks_close</th>\n",
       "    </tr>\n",
       "  </thead>\n",
       "  <tbody>\n",
       "    <tr>\n",
       "      <th>0</th>\n",
       "      <td>25</td>\n",
       "      <td>30</td>\n",
       "      <td>15.82</td>\n",
       "      <td>16.72</td>\n",
       "      <td>15.78</td>\n",
       "      <td>16.42</td>\n",
       "      <td>16.71</td>\n",
       "      <td>15.97</td>\n",
       "    </tr>\n",
       "    <tr>\n",
       "      <th>1</th>\n",
       "      <td>25</td>\n",
       "      <td>30</td>\n",
       "      <td>16.71</td>\n",
       "      <td>16.71</td>\n",
       "      <td>15.64</td>\n",
       "      <td>15.97</td>\n",
       "      <td>16.19</td>\n",
       "      <td>15.79</td>\n",
       "    </tr>\n",
       "    <tr>\n",
       "      <th>2</th>\n",
       "      <td>25</td>\n",
       "      <td>30</td>\n",
       "      <td>16.19</td>\n",
       "      <td>16.38</td>\n",
       "      <td>15.60</td>\n",
       "      <td>15.79</td>\n",
       "      <td>15.87</td>\n",
       "      <td>16.13</td>\n",
       "    </tr>\n",
       "    <tr>\n",
       "      <th>3</th>\n",
       "      <td>25</td>\n",
       "      <td>30</td>\n",
       "      <td>15.87</td>\n",
       "      <td>16.63</td>\n",
       "      <td>15.82</td>\n",
       "      <td>16.13</td>\n",
       "      <td>16.18</td>\n",
       "      <td>17.14</td>\n",
       "    </tr>\n",
       "    <tr>\n",
       "      <th>4</th>\n",
       "      <td>25</td>\n",
       "      <td>30</td>\n",
       "      <td>16.18</td>\n",
       "      <td>17.39</td>\n",
       "      <td>16.18</td>\n",
       "      <td>17.14</td>\n",
       "      <td>17.33</td>\n",
       "      <td>17.37</td>\n",
       "    </tr>\n",
       "  </tbody>\n",
       "</table>\n",
       "</div>"
      ],
      "text/plain": [
       "   stock  date   open   high    low  close  next_weeks_open  next_weeks_close\n",
       "0     25    30  15.82  16.72  15.78  16.42            16.71             15.97\n",
       "1     25    30  16.71  16.71  15.64  15.97            16.19             15.79\n",
       "2     25    30  16.19  16.38  15.60  15.79            15.87             16.13\n",
       "3     25    30  15.87  16.63  15.82  16.13            16.18             17.14\n",
       "4     25    30  16.18  17.39  16.18  17.14            17.33             17.37"
      ]
     },
     "execution_count": 73,
     "metadata": {},
     "output_type": "execute_result"
    }
   ],
   "source": [
    "df[catagorical_features].head()"
   ]
  },
  {
   "cell_type": "code",
   "execution_count": 74,
   "metadata": {},
   "outputs": [
    {
     "name": "stdout",
     "output_type": "stream",
     "text": [
      "<class 'pandas.core.frame.DataFrame'>\n",
      "RangeIndex: 750 entries, 0 to 749\n",
      "Data columns (total 18 columns):\n",
      " #   Column                                  Non-Null Count  Dtype  \n",
      "---  ------                                  --------------  -----  \n",
      " 0   quarter                                 750 non-null    int64  \n",
      " 1   stock                                   750 non-null    int64  \n",
      " 2   date                                    750 non-null    int64  \n",
      " 3   open                                    750 non-null    float64\n",
      " 4   high                                    750 non-null    float64\n",
      " 5   low                                     750 non-null    float64\n",
      " 6   close                                   750 non-null    float64\n",
      " 7   volume                                  750 non-null    int64  \n",
      " 8   percent_change_price                    750 non-null    float64\n",
      " 9   percent_change_volume_over_last_wk      750 non-null    float64\n",
      " 10  previous_weeks_volume                   750 non-null    float64\n",
      " 11  next_weeks_open                         750 non-null    float64\n",
      " 12  next_weeks_close                        750 non-null    float64\n",
      " 13  percent_change_next_weeks_price         750 non-null    float64\n",
      " 14  days_to_next_dividend                   750 non-null    int64  \n",
      " 15  percent_return_next_dividend            750 non-null    float64\n",
      " 16  percent_change_volume_over_last_wk_Nan  750 non-null    int32  \n",
      " 17  previous_weeks_volume_nan               750 non-null    int32  \n",
      "dtypes: float64(11), int32(2), int64(5)\n",
      "memory usage: 99.7 KB\n"
     ]
    }
   ],
   "source": [
    "df.info()"
   ]
  },
  {
   "cell_type": "markdown",
   "metadata": {},
   "source": [
    "## FOR SELECTING THE K VALUES"
   ]
  },
  {
   "cell_type": "code",
   "execution_count": 75,
   "metadata": {},
   "outputs": [
    {
     "name": "stdout",
     "output_type": "stream",
     "text": [
      "3.7151643478668165e+19\n",
      "1.490616343918674e+19\n",
      "7.284836552541775e+18\n",
      "5.833915602333785e+18\n",
      "4.625414376124216e+18\n",
      "3.8480984391348475e+18\n",
      "3.2544585274381307e+18\n",
      "2.746865741349479e+18\n",
      "2.427636601180183e+18\n",
      "2.0779093517878062e+18\n",
      "1.8845554631817608e+18\n",
      "1.7349578105943007e+18\n",
      "1.611591208517568e+18\n",
      "1.4773547124307766e+18\n",
      "1.2673307204042696e+18\n",
      "1.1354120390546883e+18\n",
      "1.0573477709268886e+18\n",
      "9.91788539017464e+17\n",
      "9.238996815756214e+17\n"
     ]
    }
   ],
   "source": [
    "wcss=[]\n",
    "for i in range(1,20):\n",
    "    clusterer=KMeans(n_clusters=i,init='k-means++',random_state=0)\n",
    "    clusterer.fit(df)\n",
    "    print(clusterer.inertia_)\n",
    "    wcss.append(clusterer.inertia_)"
   ]
  },
  {
   "cell_type": "code",
   "execution_count": 76,
   "metadata": {},
   "outputs": [
    {
     "data": {
      "text/plain": [
       "[3.7151643478668165e+19,\n",
       " 1.490616343918674e+19,\n",
       " 7.284836552541775e+18,\n",
       " 5.833915602333785e+18,\n",
       " 4.625414376124216e+18,\n",
       " 3.8480984391348475e+18,\n",
       " 3.2544585274381307e+18,\n",
       " 2.746865741349479e+18,\n",
       " 2.427636601180183e+18,\n",
       " 2.0779093517878062e+18,\n",
       " 1.8845554631817608e+18,\n",
       " 1.7349578105943007e+18,\n",
       " 1.611591208517568e+18,\n",
       " 1.4773547124307766e+18,\n",
       " 1.2673307204042696e+18,\n",
       " 1.1354120390546883e+18,\n",
       " 1.0573477709268886e+18,\n",
       " 9.91788539017464e+17,\n",
       " 9.238996815756214e+17]"
      ]
     },
     "execution_count": 76,
     "metadata": {},
     "output_type": "execute_result"
    }
   ],
   "source": [
    "wcss"
   ]
  },
  {
   "cell_type": "code",
   "execution_count": 77,
   "metadata": {},
   "outputs": [
    {
     "data": {
      "image/png": "[encoded data removed]",
      "text/plain": [
       "<Figure size 432x288 with 1 Axes>"
      ]
     },
     "metadata": {
      "needs_background": "light"
     },
     "output_type": "display_data"
    }
   ],
   "source": [
    "plt.plot([i for i in range(1,20)],[wcss[i-1] for i in range(1,20)])\n",
    "plt.show()"
   ]
  },
  {
   "cell_type": "code",
   "execution_count": 78,
   "metadata": {},
   "outputs": [],
   "source": [
    "clf=KMeans(n_clusters=5,init='k-means++',random_state=0)"
   ]
  },
  {
   "cell_type": "code",
   "execution_count": 79,
   "metadata": {},
   "outputs": [
    {
     "data": {
      "text/plain": [
       "KMeans(n_clusters=5, random_state=0)"
      ]
     },
     "execution_count": 79,
     "metadata": {},
     "output_type": "execute_result"
    }
   ],
   "source": [
    "clf.fit(df)"
   ]
  },
  {
   "cell_type": "code",
   "execution_count": 80,
   "metadata": {},
   "outputs": [],
   "source": [
    "labels=clf.labels_"
   ]
  },
  {
   "cell_type": "code",
   "execution_count": 81,
   "metadata": {},
   "outputs": [
    {
     "data": {
      "text/plain": [
       "array([3, 1, 3, 3, 3, 3, 0, 3, 3, 3, 3, 3, 0, 0, 0, 0, 0, 0, 0, 0, 0, 0,\n",
       "       0, 0, 0, 0, 0, 0, 0, 0, 0, 0, 0, 0, 0, 0, 4, 2, 2, 2, 2, 2, 2, 2,\n",
       "       2, 2, 2, 2, 0, 0, 0, 0, 0, 0, 0, 0, 0, 0, 0, 0, 3, 3, 3, 3, 1, 4,\n",
       "       2, 1, 1, 1, 1, 1, 0, 0, 0, 0, 0, 0, 0, 0, 0, 0, 0, 0, 0, 0, 0, 0,\n",
       "       0, 0, 0, 0, 0, 0, 0, 0, 0, 0, 0, 0, 0, 0, 0, 0, 0, 0, 0, 0, 3, 1,\n",
       "       1, 1, 1, 1, 3, 3, 1, 1, 1, 1, 0, 0, 0, 0, 0, 0, 0, 0, 0, 0, 0, 0,\n",
       "       0, 0, 0, 0, 0, 0, 0, 3, 3, 0, 3, 0, 0, 0, 0, 0, 0, 0, 0, 0, 0, 0,\n",
       "       0, 0, 3, 1, 1, 1, 1, 1, 3, 3, 1, 1, 1, 1, 0, 0, 0, 0, 0, 0, 0, 0,\n",
       "       0, 0, 0, 0, 3, 3, 3, 3, 3, 3, 3, 3, 3, 3, 3, 3, 0, 0, 0, 0, 0, 0,\n",
       "       0, 0, 0, 0, 0, 0, 0, 0, 0, 0, 0, 0, 0, 0, 0, 0, 0, 0, 0, 0, 0, 0,\n",
       "       0, 0, 0, 0, 0, 0, 0, 0, 0, 0, 0, 0, 0, 0, 0, 0, 0, 0, 0, 0, 0, 0,\n",
       "       3, 3, 3, 0, 0, 0, 0, 3, 0, 0, 3, 1, 3, 1, 1, 1, 1, 3, 1, 1, 1, 1,\n",
       "       3, 1, 3, 3, 1, 1, 3, 3, 3, 3, 1, 1, 0, 0, 0, 0, 0, 0, 0, 0, 0, 0,\n",
       "       0, 0, 3, 3, 3, 3, 3, 3, 3, 0, 3, 3, 3, 3, 0, 0, 0, 0, 0, 0, 0, 0,\n",
       "       0, 0, 0, 0, 0, 0, 0, 0, 0, 0, 0, 0, 0, 0, 0, 0, 0, 3, 3, 3, 0, 0,\n",
       "       0, 0, 0, 0, 0, 0, 0, 0, 0, 0, 0, 0, 0, 0, 0, 0, 0, 0, 0, 0, 0, 3,\n",
       "       3, 3, 0, 3, 3, 0, 3, 0, 0, 3, 3, 3, 0, 3, 3, 3, 0, 0, 0, 3, 3, 0,\n",
       "       0, 0, 0, 0, 0, 0, 0, 0, 0, 0, 0, 0, 0, 0, 0, 0, 0, 0, 0, 0, 0, 0,\n",
       "       0, 0, 0, 2, 1, 2, 2, 2, 2, 2, 2, 2, 2, 2, 2, 2, 0, 0, 0, 0, 0, 0,\n",
       "       0, 0, 0, 0, 0, 0, 0, 1, 1, 1, 1, 1, 1, 1, 1, 1, 1, 1, 1, 1, 0, 0,\n",
       "       0, 0, 0, 0, 0, 0, 0, 0, 0, 0, 0, 0, 0, 0, 0, 0, 0, 0, 0, 0, 0, 0,\n",
       "       0, 0, 0, 0, 0, 0, 0, 0, 0, 0, 0, 0, 0, 0, 0, 3, 3, 3, 3, 3, 1, 3,\n",
       "       3, 3, 3, 3, 1, 1, 0, 0, 0, 0, 0, 0, 0, 0, 0, 0, 0, 0, 0, 0, 0, 0,\n",
       "       0, 0, 0, 0, 3, 3, 0, 0, 3, 3, 0, 0, 0, 0, 0, 0, 0, 0, 0, 0, 0, 0,\n",
       "       0, 1, 1, 1, 1, 1, 1, 1, 1, 1, 3, 3, 1, 1, 0, 0, 0, 0, 0, 0, 0, 0,\n",
       "       0, 0, 0, 0, 0, 3, 3, 3, 3, 3, 3, 3, 3, 3, 3, 3, 3, 3, 0, 0, 0, 0,\n",
       "       0, 0, 0, 0, 0, 0, 0, 0, 0, 0, 0, 0, 0, 0, 0, 0, 0, 0, 0, 0, 0, 0,\n",
       "       0, 0, 0, 0, 0, 0, 0, 0, 0, 0, 0, 0, 0, 0, 0, 0, 0, 0, 0, 0, 0, 0,\n",
       "       0, 0, 0, 0, 0, 0, 0, 0, 0, 0, 0, 0, 0, 0, 0, 0, 0, 3, 1, 1, 3, 1,\n",
       "       1, 1, 1, 1, 3, 3, 1, 1, 3, 3, 3, 3, 3, 3, 3, 3, 3, 3, 3, 3, 1, 0,\n",
       "       0, 0, 0, 0, 0, 0, 0, 0, 0, 0, 0, 0, 1, 1, 3, 0, 0, 3, 3, 0, 0, 0,\n",
       "       0, 3, 3, 0, 0, 0, 0, 0, 0, 0, 0, 0, 0, 0, 0, 0, 0, 0, 0, 0, 0, 0,\n",
       "       0, 0, 0, 0, 0, 0, 0, 0, 0, 0, 0, 0, 0, 0, 0, 0, 0, 0, 0, 0, 0, 0,\n",
       "       0, 0, 0, 0, 0, 0, 0, 0, 0, 0, 0, 0, 0, 0, 0, 0, 0, 3, 0, 0, 0, 0,\n",
       "       0, 3])"
      ]
     },
     "execution_count": 81,
     "metadata": {},
     "output_type": "execute_result"
    }
   ],
   "source": [
    "labels"
   ]
  },
  {
   "cell_type": "markdown",
   "metadata": {},
   "source": [
    "## VALIDATION"
   ]
  },
  {
   "cell_type": "code",
   "execution_count": 87,
   "metadata": {},
   "outputs": [
    {
     "name": "stdout",
     "output_type": "stream",
     "text": [
      "[2, 4, 5, 9, 10, 15]\n",
      "For n_clusters = 2 The average silhouette_score is : 0.7417467125529403\n",
      "For n_clusters = 4 The average silhouette_score is : 0.6254438051504059\n",
      "For n_clusters = 5 The average silhouette_score is : 0.6285318889812226\n",
      "For n_clusters = 9 The average silhouette_score is : 0.5970896429203001\n",
      "For n_clusters = 10 The average silhouette_score is : 0.5223464192174282\n",
      "For n_clusters = 15 The average silhouette_score is : 0.43941009598772873\n"
     ]
    },
    {
     "data": {
      "image/png": "[encoded data removed]",
      "text/plain": [
       "<Figure size 1296x504 with 2 Axes>"
      ]
     },
     "metadata": {
      "needs_background": "light"
     },
     "output_type": "display_data"
    },
    {
     "data": {
      "image/png": "[encoded data removed]",
      "text/plain": [
       "<Figure size 1296x504 with 2 Axes>"
      ]
     },
     "metadata": {
      "needs_background": "light"
     },
     "output_type": "display_data"
    },
    {
     "data": {
      "image/png": "[encoded data removed]",
      "text/plain": [
       "<Figure size 1296x504 with 2 Axes>"
      ]
     },
     "metadata": {
      "needs_background": "light"
     },
     "output_type": "display_data"
    },
    {
     "data": {
      "image/png": "[encoded data removed]",
      "text/plain": [
       "<Figure size 1296x504 with 2 Axes>"
      ]
     },
     "metadata": {
      "needs_background": "light"
     },
     "output_type": "display_data"
    },
    {
     "data": {
      "image/png": "[encoded data removed]",
      "text/plain": [
       "<Figure size 1296x504 with 2 Axes>"
      ]
     },
     "metadata": {
      "needs_background": "light"
     },
     "output_type": "display_data"
    },
    {
     "data": {
      "image/png": "[encoded data removed]",
      "text/plain": [
       "<Figure size 1296x504 with 2 Axes>"
      ]
     },
     "metadata": {
      "needs_background": "light"
     },
     "output_type": "display_data"
    }
   ],
   "source": [
    "range_n_clusters=[2,4,5,9,10,15]\n",
    "print(range_n_clusters)\n",
    "for n_clusters in range_n_clusters:\n",
    "    # Create a subplot with 1 row and 2 columns\n",
    "    fig, (ax1, ax2) = plt.subplots(1, 2)\n",
    "    fig.set_size_inches(18, 7)\n",
    "\n",
    "    # The 1st subplot is the silhouette plot\n",
    "    # The silhouette coefficient can range from -1, 1 but in this example all\n",
    "    # lie within [-0.1, 1]\n",
    "    ax1.set_xlim([-0.1, 1])\n",
    "    # The (n_clusters+1)*10 is for inserting blank space between silhouette\n",
    "    # plots of individual clusters, to demarcate them clearly.\n",
    "    ax1.set_ylim([0, len(df) + (n_clusters + 1) * 10])\n",
    "\n",
    "    # Initialize the clusterer with n_clusters value and a random generator\n",
    "    # seed of 10 for reproducibility.\n",
    "    clusterer = KMeans(n_clusters=n_clusters, random_state=10)\n",
    "    cluster_labels = clusterer.fit_predict(df)\n",
    "\n",
    "    # The silhouette_score gives the average value for all the samples.\n",
    "    # This gives a perspective into the density and separation of the formed\n",
    "    # clusters\n",
    "    silhouette_avg = silhouette_score(df, cluster_labels)\n",
    "    print(\"For n_clusters =\", n_clusters,\n",
    "          \"The average silhouette_score is :\", silhouette_avg)\n",
    "\n",
    "    # Compute the silhouette scores for each sample\n",
    "    sample_silhouette_values = silhouette_samples(df, cluster_labels)\n",
    "\n",
    "    y_lower = 10\n",
    "    for i in range(n_clusters):\n",
    "        # Aggregate the silhouette scores for samples belonging to\n",
    "        # cluster i, and sort them\n",
    "        ith_cluster_silhouette_values = \\\n",
    "            sample_silhouette_values[cluster_labels == i]\n",
    "\n",
    "        ith_cluster_silhouette_values.sort()\n",
    "\n",
    "        size_cluster_i = ith_cluster_silhouette_values.shape[0]\n",
    "        y_upper = y_lower + size_cluster_i\n",
    "\n",
    "        color = cm.nipy_spectral(float(i) / n_clusters)\n",
    "        ax1.fill_betweenx(np.arange(y_lower, y_upper),\n",
    "                          0, ith_cluster_silhouette_values,\n",
    "                          facecolor=color, edgecolor=color, alpha=0.7)\n",
    "\n",
    "        # Label the silhouette plots with their cluster numbers at the middle\n",
    "        ax1.text(-0.05, y_lower + 0.5 * size_cluster_i, str(i))\n",
    "\n",
    "        # Compute the new y_lower for next plot\n",
    "        y_lower = y_upper + 10  # 10 for the 0 samples\n",
    "\n",
    "    ax1.set_title(\"The silhouette plot for the various clusters.\")\n",
    "    ax1.set_xlabel(\"The silhouette coefficient values\")\n",
    "    ax1.set_ylabel(\"Cluster label\")\n",
    "\n",
    "    # The vertical line for average silhouette score of all the values\n",
    "    ax1.axvline(x=silhouette_avg, color=\"red\", linestyle=\"--\")\n",
    "\n",
    "    ax1.set_yticks([])  # Clear the yaxis labels / ticks\n",
    "    ax1.set_xticks([-0.1, 0, 0.2, 0.4, 0.6, 0.8, 1])\n",
    "    '''\n",
    "    # 2nd Plot showing the actual clusters formed\n",
    "    colors = cm.nipy_spectral(cluster_labels.astype(float) / n_clusters)\n",
    "    ax2.scatter(df[:, 0], df[:, 1], marker='.', s=30, lw=0, alpha=0.7,\n",
    "                c=colors, edgecolor='k')\n",
    "\n",
    "    # Labeling the clusters\n",
    "    centers = clusterer.cluster_centers_\n",
    "    # Draw white circles at cluster centers\n",
    "    ax2.scatter(centers[:, 0], centers[:, 1], marker='o',\n",
    "                c=\"white\", alpha=1, s=200, edgecolor='k')\n",
    "\n",
    "    for i, c in enumerate(centers):\n",
    "        ax2.scatter(c[0], c[1], marker='$%d$' % i, alpha=1,\n",
    "                    s=50, edgecolor='k')\n",
    "\n",
    "    ax2.set_title(\"The visualization of the clustered data.\")\n",
    "    ax2.set_xlabel(\"Feature space for the 1st feature\")\n",
    "    ax2.set_ylabel(\"Feature space for the 2nd feature\")\n",
    "\n",
    "    plt.suptitle((\"Silhouette analysis for KMeans clustering on sample data \"\n",
    "                  \"with n_clusters = %d\" % n_clusters),\n",
    "                 fontsize=14, fontweight='bold')\n",
    "\n",
    "plt.show()\n",
    "  '''"
   ]
  },
  {
   "cell_type": "code",
   "execution_count": null,
   "metadata": {},
   "outputs": [],
   "source": []
  }
 ],
 "metadata": {
  "kernelspec": {
   "display_name": "Python 3",
   "language": "python",
   "name": "python3"
  },
  "language_info": {
   "codemirror_mode": {
    "name": "ipython",
    "version": 3
   },
   "file_extension": ".py",
   "mimetype": "text/x-python",
   "name": "python",
   "nbconvert_exporter": "python",
   "pygments_lexer": "ipython3",
   "version": "3.8.1"
  }
 },
 "nbformat": 4,
 "nbformat_minor": 4
}
