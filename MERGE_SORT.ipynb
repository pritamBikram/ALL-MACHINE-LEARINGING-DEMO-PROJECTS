{
 "cells": [
  {
   "cell_type": "code",
   "execution_count": 1,
   "metadata": {},
   "outputs": [],
   "source": [
    "def merge_sort(arr,beg,end,brr):\n",
    "    if(beg<end):\n",
    "        mid=int((beg+end)/2)\n",
    "        merge_sort(arr,beg,mid,brr)\n",
    "        merge_sort(arr,mid+1,end,brr)\n",
    "        merge(arr,beg,end,brr)\n",
    "        "
   ]
  },
  {
   "cell_type": "code",
   "execution_count": 2,
   "metadata": {},
   "outputs": [],
   "source": [
    "def merge(arr,beg,end,brr):\n",
    "    mid=int((beg+end)/2)\n",
    "    i=beg\n",
    "    j=mid+1\n",
    "    k=0\n",
    "    while(i<(mid+1) and j<end):\n",
    "        if(arr[i]<arr[j]):\n",
    "            brr[k]=arr[i]\n",
    "            print(brr[k])\n",
    "            i=i+1\n",
    "            k=k+1\n",
    "        else:\n",
    "            brr[k]=arr[j]\n",
    "            print(brr[k])\n",
    "            j=j+1\n",
    "            k=k+1\n",
    "    while(i<(mid+1) and j>=end):\n",
    "        brr[k]=arr[i]\n",
    "        print(brr[k])\n",
    "        i=i+1\n",
    "        k=k+1\n",
    "    while(j<end and i>=(mid+1)):\n",
    "        brr[k]=arr[j]\n",
    "        print(brr[k])\n",
    "        j=j+1\n",
    "        k=k+1\n",
    "    \n",
    " "
   ]
  },
  {
   "cell_type": "code",
   "execution_count": 3,
   "metadata": {},
   "outputs": [
    {
     "name": "stdout",
     "output_type": "stream",
     "text": [
      "[1 7 8 4 2 5]\n",
      "1\n",
      "8\n",
      "1\n",
      "7\n",
      "8\n",
      "2\n",
      "2\n",
      "5\n",
      "1\n",
      "2\n",
      "5\n",
      "7\n",
      "8\n",
      "4\n",
      "[1 2 5 7 8 4]\n"
     ]
    }
   ],
   "source": [
    "\n",
    "import numpy as np\n",
    "list=[1,7,8,4,2,5]\n",
    "arr=np.array(list)\n",
    "print(arr)\n",
    "brr=np.ndarray(shape=(6),dtype=int)\n",
    "merge_sort(arr,0,6,brr)\n",
    "#merge(arr,0,5,brr)\n",
    "print(brr)\n"
   ]
  },
  {
   "cell_type": "code",
   "execution_count": 4,
   "metadata": {},
   "outputs": [
    {
     "name": "stdout",
     "output_type": "stream",
     "text": [
      "Given array is\n",
      "[12, 11, 13, 5, 6]\n",
      "12\n",
      "12\n",
      "11\n",
      "5\n",
      "5\n",
      "6\n",
      "5\n",
      "6\n",
      "12\n",
      "11\n",
      "13\n",
      "Sorted array is: \n",
      "[ 5  6 12 11 13]\n"
     ]
    }
   ],
   "source": [
    "if __name__ == '__main__': \n",
    "    import numpy as np\n",
    "    brr=np.ndarray(shape=(5),dtype=int)\n",
    "    arr = [12, 11, 13, 5, 6]  \n",
    "    print (\"Given array is\", end =\"\\n\")  \n",
    "    print(arr)\n",
    "    merge_sort(arr,0,5,brr)\n",
    "    print(\"Sorted array is: \", end =\"\\n\") \n",
    "    print(brr)"
   ]
  },
  {
   "cell_type": "code",
   "execution_count": 5,
   "metadata": {},
   "outputs": [
    {
     "name": "stdout",
     "output_type": "stream",
     "text": [
      "[17, 20, 26, 31, 44, 54, 55, 77, 93]\n"
     ]
    }
   ],
   "source": [
    "def mergeSort(myList):\n",
    "    if len(myList) > 1:\n",
    "        mid = len(myList) // 2\n",
    "        left = myList[:mid]\n",
    "        right = myList[mid:]\n",
    "\n",
    "        # Recursive call on each half\n",
    "        mergeSort(left)\n",
    "        mergeSort(right)\n",
    "\n",
    "        # Two iterators for traversing the two halves\n",
    "        i = 0\n",
    "        j = 0\n",
    "        \n",
    "        # Iterator for the main list\n",
    "        k = 0\n",
    "        \n",
    "        while i < len(left) and j < len(right):\n",
    "            if left[i] < right[j]:\n",
    "              # The value from the left half has been used\n",
    "              myList[k] = left[i]\n",
    "              # Move the iterator forward\n",
    "              i += 1\n",
    "            else:\n",
    "                myList[k] = right[j]\n",
    "                j += 1\n",
    "            # Move to the next slot\n",
    "            k += 1\n",
    "\n",
    "        # For all the remaining values\n",
    "        while i < len(left):\n",
    "            myList[k] = left[i]\n",
    "            i += 1\n",
    "            k += 1\n",
    "\n",
    "        while j < len(right):\n",
    "            myList[k]=right[j]\n",
    "            j += 1\n",
    "            k += 1\n",
    "\n",
    "myList = [54,26,93,17,77,31,44,55,20]\n",
    "mergeSort(myList)\n",
    "print(myList)\n"
   ]
  },
  {
   "cell_type": "code",
   "execution_count": 6,
   "metadata": {},
   "outputs": [],
   "source": [
    "b=5//2"
   ]
  },
  {
   "cell_type": "code",
   "execution_count": 7,
   "metadata": {},
   "outputs": [
    {
     "data": {
      "text/plain": [
       "2"
      ]
     },
     "execution_count": 7,
     "metadata": {},
     "output_type": "execute_result"
    }
   ],
   "source": [
    "b"
   ]
  }
 ],
 "metadata": {
  "kernelspec": {
   "display_name": "Python 3",
   "language": "python",
   "name": "python3"
  },
  "language_info": {
   "codemirror_mode": {
    "name": "ipython",
    "version": 3
   },
   "file_extension": ".py",
   "mimetype": "text/x-python",
   "name": "python",
   "nbconvert_exporter": "python",
   "pygments_lexer": "ipython3",
   "version": "3.8.1"
  }
 },
 "nbformat": 4,
 "nbformat_minor": 4
}
