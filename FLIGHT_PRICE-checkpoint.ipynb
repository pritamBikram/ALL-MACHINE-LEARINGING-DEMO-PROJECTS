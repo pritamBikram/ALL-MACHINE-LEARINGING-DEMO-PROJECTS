{
 "cells": [
  {
   "cell_type": "code",
   "execution_count": 1,
   "metadata": {},
   "outputs": [],
   "source": [
    "import pandas as pd\n",
    "import matplotlib.pyplot as plt\n",
    "%matplotlib inline\n",
    "import numpy as np\n",
    "from sklearn.model_selection import train_test_split\n",
    "from sklearn.preprocessing import scale\n",
    "from sklearn.ensemble import RandomForestRegressor\n",
    "from sklearn.metrics import mean_squared_error"
   ]
  },
  {
   "cell_type": "code",
   "execution_count": 2,
   "metadata": {},
   "outputs": [],
   "source": [
    "df=pd.read_excel('flight_fare.xlsx')"
   ]
  },
  {
   "cell_type": "code",
   "execution_count": 3,
   "metadata": {},
   "outputs": [
    {
     "name": "stdout",
     "output_type": "stream",
     "text": [
      "       Airline Date_of_Journey    Source Destination                  Route  \\\n",
      "0       IndiGo      24/03/2019  Banglore   New Delhi              BLR → DEL   \n",
      "1    Air India       1/05/2019   Kolkata    Banglore  CCU → IXR → BBI → BLR   \n",
      "2  Jet Airways       9/06/2019     Delhi      Cochin  DEL → LKO → BOM → COK   \n",
      "3       IndiGo      12/05/2019   Kolkata    Banglore        CCU → NAG → BLR   \n",
      "4       IndiGo      01/03/2019  Banglore   New Delhi        BLR → NAG → DEL   \n",
      "\n",
      "  Dep_Time  Arrival_Time Duration Total_Stops Additional_Info  Price  \n",
      "0    22:20  01:10 22 Mar   2h 50m    non-stop         No info   3897  \n",
      "1    05:50         13:15   7h 25m     2 stops         No info   7662  \n",
      "2    09:25  04:25 10 Jun      19h     2 stops         No info  13882  \n",
      "3    18:05         23:30   5h 25m      1 stop         No info   6218  \n",
      "4    16:50         21:35   4h 45m      1 stop         No info  13302  \n"
     ]
    }
   ],
   "source": [
    "print(df.head())"
   ]
  },
  {
   "cell_type": "markdown",
   "metadata": {},
   "source": [
    "## INFORMATION ABOUR DATAFRAME"
   ]
  },
  {
   "cell_type": "code",
   "execution_count": 4,
   "metadata": {},
   "outputs": [
    {
     "name": "stdout",
     "output_type": "stream",
     "text": [
      "<class 'pandas.core.frame.DataFrame'>\n",
      "RangeIndex: 10683 entries, 0 to 10682\n",
      "Data columns (total 11 columns):\n",
      " #   Column           Non-Null Count  Dtype \n",
      "---  ------           --------------  ----- \n",
      " 0   Airline          10683 non-null  object\n",
      " 1   Date_of_Journey  10683 non-null  object\n",
      " 2   Source           10683 non-null  object\n",
      " 3   Destination      10683 non-null  object\n",
      " 4   Route            10682 non-null  object\n",
      " 5   Dep_Time         10683 non-null  object\n",
      " 6   Arrival_Time     10683 non-null  object\n",
      " 7   Duration         10683 non-null  object\n",
      " 8   Total_Stops      10682 non-null  object\n",
      " 9   Additional_Info  10683 non-null  object\n",
      " 10  Price            10683 non-null  int64 \n",
      "dtypes: int64(1), object(10)\n",
      "memory usage: 500.8+ KB\n"
     ]
    }
   ],
   "source": [
    "df.info()"
   ]
  },
  {
   "cell_type": "markdown",
   "metadata": {},
   "source": [
    "## EDA"
   ]
  },
  {
   "cell_type": "markdown",
   "metadata": {},
   "source": [
    "#### MISSING VALUES"
   ]
  },
  {
   "cell_type": "code",
   "execution_count": 5,
   "metadata": {},
   "outputs": [
    {
     "name": "stdout",
     "output_type": "stream",
     "text": [
      "Airline:0\n",
      "Date_of_Journey:0\n",
      "Source:0\n",
      "Destination:0\n",
      "Route:1\n",
      "Dep_Time:0\n",
      "Arrival_Time:0\n",
      "Duration:0\n",
      "Total_Stops:1\n",
      "Additional_Info:0\n",
      "Price:0\n"
     ]
    }
   ],
   "source": [
    "for features in df.columns:\n",
    "    print(f\"{features}:{df[features].isnull().sum()}\")"
   ]
  },
  {
   "cell_type": "code",
   "execution_count": 6,
   "metadata": {},
   "outputs": [],
   "source": [
    "## storing nan valued features"
   ]
  },
  {
   "cell_type": "code",
   "execution_count": 7,
   "metadata": {},
   "outputs": [],
   "source": [
    "feature_with_nan=[features for features in df.columns if df[features].isnull().sum()>0]"
   ]
  },
  {
   "cell_type": "code",
   "execution_count": 8,
   "metadata": {},
   "outputs": [
    {
     "data": {
      "text/plain": [
       "['Route', 'Total_Stops']"
      ]
     },
     "execution_count": 8,
     "metadata": {},
     "output_type": "execute_result"
    }
   ],
   "source": [
    "feature_with_nan"
   ]
  },
  {
   "cell_type": "markdown",
   "metadata": {},
   "source": [
    "### PERCENTAGE OF NAN VALUE PRESENT"
   ]
  },
  {
   "cell_type": "code",
   "execution_count": 9,
   "metadata": {},
   "outputs": [
    {
     "name": "stdout",
     "output_type": "stream",
     "text": [
      "Route:9.360666479453337e-05\n",
      "Total_Stops:9.360666479453337e-05\n"
     ]
    }
   ],
   "source": [
    "for features in feature_with_nan:\n",
    "    print(f\"{features}:{df[features].isnull().sum()/df.shape[0]}\")"
   ]
  },
  {
   "cell_type": "code",
   "execution_count": 10,
   "metadata": {},
   "outputs": [],
   "source": [
    "## here the missing value is very less"
   ]
  },
  {
   "cell_type": "markdown",
   "metadata": {},
   "source": [
    "## NUMERICAL VARIABLES"
   ]
  },
  {
   "cell_type": "code",
   "execution_count": 11,
   "metadata": {},
   "outputs": [],
   "source": [
    "numerical_features=[features for features in df.columns if(df[features].dtypes!='O')]"
   ]
  },
  {
   "cell_type": "code",
   "execution_count": 12,
   "metadata": {},
   "outputs": [
    {
     "data": {
      "text/plain": [
       "['Price']"
      ]
     },
     "execution_count": 12,
     "metadata": {},
     "output_type": "execute_result"
    }
   ],
   "source": [
    "numerical_features"
   ]
  },
  {
   "cell_type": "code",
   "execution_count": 13,
   "metadata": {},
   "outputs": [
    {
     "data": {
      "text/plain": [
       "array([ 3897,  7662, 13882, ...,  9790, 12352, 12648], dtype=int64)"
      ]
     },
     "execution_count": 13,
     "metadata": {},
     "output_type": "execute_result"
    }
   ],
   "source": [
    "df['Price'].unique()"
   ]
  },
  {
   "cell_type": "code",
   "execution_count": 14,
   "metadata": {},
   "outputs": [],
   "source": [
    "## THE NO OF UNIQUE VALUE PRESENT"
   ]
  },
  {
   "cell_type": "code",
   "execution_count": 15,
   "metadata": {},
   "outputs": [
    {
     "data": {
      "text/plain": [
       "1870"
      ]
     },
     "execution_count": 15,
     "metadata": {},
     "output_type": "execute_result"
    }
   ],
   "source": [
    "len(df['Price'].unique())"
   ]
  },
  {
   "cell_type": "code",
   "execution_count": 16,
   "metadata": {},
   "outputs": [],
   "source": [
    "## TO SEE THE DISTRIBUTION OF THE Price"
   ]
  },
  {
   "cell_type": "code",
   "execution_count": 17,
   "metadata": {},
   "outputs": [
    {
     "data": {
      "image/png": "[encoded data removed]",
      "text/plain": [
       "<Figure size 432x288 with 1 Axes>"
      ]
     },
     "metadata": {
      "needs_background": "light"
     },
     "output_type": "display_data"
    }
   ],
   "source": [
    "df['Price'].hist(bins=50)\n",
    "plt.show()"
   ]
  },
  {
   "cell_type": "code",
   "execution_count": null,
   "metadata": {},
   "outputs": [],
   "source": [
    "df['Price']=np.log(df['Price']+1)"
   ]
  },
  {
   "cell_type": "markdown",
   "metadata": {},
   "source": [
    "## CATEGORICAL VARIABLES"
   ]
  },
  {
   "cell_type": "code",
   "execution_count": 18,
   "metadata": {},
   "outputs": [],
   "source": [
    "categorical_features=[features for features in df.columns if(df[features].dtypes=='O')]"
   ]
  },
  {
   "cell_type": "code",
   "execution_count": 19,
   "metadata": {},
   "outputs": [
    {
     "data": {
      "text/plain": [
       "['Airline',\n",
       " 'Date_of_Journey',\n",
       " 'Source',\n",
       " 'Destination',\n",
       " 'Route',\n",
       " 'Dep_Time',\n",
       " 'Arrival_Time',\n",
       " 'Duration',\n",
       " 'Total_Stops',\n",
       " 'Additional_Info']"
      ]
     },
     "execution_count": 19,
     "metadata": {},
     "output_type": "execute_result"
    }
   ],
   "source": [
    "categorical_features"
   ]
  },
  {
   "cell_type": "markdown",
   "metadata": {},
   "source": [
    "## NO OF CATEGORICAL FEATURES ARE"
   ]
  },
  {
   "cell_type": "code",
   "execution_count": 20,
   "metadata": {},
   "outputs": [
    {
     "name": "stdout",
     "output_type": "stream",
     "text": [
      "no of categorical features are :10\n"
     ]
    }
   ],
   "source": [
    "print(f\"no of categorical features are :{len(categorical_features)}\")"
   ]
  },
  {
   "cell_type": "code",
   "execution_count": 21,
   "metadata": {},
   "outputs": [
    {
     "data": {
      "text/html": [
       "<div>\n",
       "<style scoped>\n",
       "    .dataframe tbody tr th:only-of-type {\n",
       "        vertical-align: middle;\n",
       "    }\n",
       "\n",
       "    .dataframe tbody tr th {\n",
       "        vertical-align: top;\n",
       "    }\n",
       "\n",
       "    .dataframe thead th {\n",
       "        text-align: right;\n",
       "    }\n",
       "</style>\n",
       "<table border=\"1\" class=\"dataframe\">\n",
       "  <thead>\n",
       "    <tr style=\"text-align: right;\">\n",
       "      <th></th>\n",
       "      <th>Airline</th>\n",
       "      <th>Date_of_Journey</th>\n",
       "      <th>Source</th>\n",
       "      <th>Destination</th>\n",
       "      <th>Route</th>\n",
       "      <th>Dep_Time</th>\n",
       "      <th>Arrival_Time</th>\n",
       "      <th>Duration</th>\n",
       "      <th>Total_Stops</th>\n",
       "      <th>Additional_Info</th>\n",
       "    </tr>\n",
       "  </thead>\n",
       "  <tbody>\n",
       "    <tr>\n",
       "      <th>0</th>\n",
       "      <td>IndiGo</td>\n",
       "      <td>24/03/2019</td>\n",
       "      <td>Banglore</td>\n",
       "      <td>New Delhi</td>\n",
       "      <td>BLR → DEL</td>\n",
       "      <td>22:20</td>\n",
       "      <td>01:10 22 Mar</td>\n",
       "      <td>2h 50m</td>\n",
       "      <td>non-stop</td>\n",
       "      <td>No info</td>\n",
       "    </tr>\n",
       "    <tr>\n",
       "      <th>1</th>\n",
       "      <td>Air India</td>\n",
       "      <td>1/05/2019</td>\n",
       "      <td>Kolkata</td>\n",
       "      <td>Banglore</td>\n",
       "      <td>CCU → IXR → BBI → BLR</td>\n",
       "      <td>05:50</td>\n",
       "      <td>13:15</td>\n",
       "      <td>7h 25m</td>\n",
       "      <td>2 stops</td>\n",
       "      <td>No info</td>\n",
       "    </tr>\n",
       "    <tr>\n",
       "      <th>2</th>\n",
       "      <td>Jet Airways</td>\n",
       "      <td>9/06/2019</td>\n",
       "      <td>Delhi</td>\n",
       "      <td>Cochin</td>\n",
       "      <td>DEL → LKO → BOM → COK</td>\n",
       "      <td>09:25</td>\n",
       "      <td>04:25 10 Jun</td>\n",
       "      <td>19h</td>\n",
       "      <td>2 stops</td>\n",
       "      <td>No info</td>\n",
       "    </tr>\n",
       "    <tr>\n",
       "      <th>3</th>\n",
       "      <td>IndiGo</td>\n",
       "      <td>12/05/2019</td>\n",
       "      <td>Kolkata</td>\n",
       "      <td>Banglore</td>\n",
       "      <td>CCU → NAG → BLR</td>\n",
       "      <td>18:05</td>\n",
       "      <td>23:30</td>\n",
       "      <td>5h 25m</td>\n",
       "      <td>1 stop</td>\n",
       "      <td>No info</td>\n",
       "    </tr>\n",
       "    <tr>\n",
       "      <th>4</th>\n",
       "      <td>IndiGo</td>\n",
       "      <td>01/03/2019</td>\n",
       "      <td>Banglore</td>\n",
       "      <td>New Delhi</td>\n",
       "      <td>BLR → NAG → DEL</td>\n",
       "      <td>16:50</td>\n",
       "      <td>21:35</td>\n",
       "      <td>4h 45m</td>\n",
       "      <td>1 stop</td>\n",
       "      <td>No info</td>\n",
       "    </tr>\n",
       "  </tbody>\n",
       "</table>\n",
       "</div>"
      ],
      "text/plain": [
       "       Airline Date_of_Journey    Source Destination                  Route  \\\n",
       "0       IndiGo      24/03/2019  Banglore   New Delhi              BLR → DEL   \n",
       "1    Air India       1/05/2019   Kolkata    Banglore  CCU → IXR → BBI → BLR   \n",
       "2  Jet Airways       9/06/2019     Delhi      Cochin  DEL → LKO → BOM → COK   \n",
       "3       IndiGo      12/05/2019   Kolkata    Banglore        CCU → NAG → BLR   \n",
       "4       IndiGo      01/03/2019  Banglore   New Delhi        BLR → NAG → DEL   \n",
       "\n",
       "  Dep_Time  Arrival_Time Duration Total_Stops Additional_Info  \n",
       "0    22:20  01:10 22 Mar   2h 50m    non-stop         No info  \n",
       "1    05:50         13:15   7h 25m     2 stops         No info  \n",
       "2    09:25  04:25 10 Jun      19h     2 stops         No info  \n",
       "3    18:05         23:30   5h 25m      1 stop         No info  \n",
       "4    16:50         21:35   4h 45m      1 stop         No info  "
      ]
     },
     "execution_count": 21,
     "metadata": {},
     "output_type": "execute_result"
    }
   ],
   "source": [
    "df[categorical_features].head()"
   ]
  },
  {
   "cell_type": "markdown",
   "metadata": {},
   "source": [
    "## CARDINALITY OF CATEGORICALS FEATURES ARE "
   ]
  },
  {
   "cell_type": "code",
   "execution_count": 22,
   "metadata": {},
   "outputs": [
    {
     "name": "stdout",
     "output_type": "stream",
     "text": [
      "Airline:12\n",
      "Date_of_Journey:44\n",
      "Source:5\n",
      "Destination:6\n",
      "Route:129\n",
      "Dep_Time:222\n",
      "Arrival_Time:1343\n",
      "Duration:368\n",
      "Total_Stops:6\n",
      "Additional_Info:10\n"
     ]
    }
   ],
   "source": [
    "for features in categorical_features:\n",
    "    print(f\"{features}:{len(df[features].unique())}\")"
   ]
  },
  {
   "cell_type": "markdown",
   "metadata": {},
   "source": [
    "## relationship between the categorical features and dependent features "
   ]
  },
  {
   "cell_type": "code",
   "execution_count": 23,
   "metadata": {},
   "outputs": [
    {
     "data": {
      "image/png": "[encoded data removed]",
      "text/plain": [
       "<Figure size 432x288 with 1 Axes>"
      ]
     },
     "metadata": {
      "needs_background": "light"
     },
     "output_type": "display_data"
    },
    {
     "data": {
      "image/png": "[encoded data removed]",
      "text/plain": [
       "<Figure size 432x288 with 1 Axes>"
      ]
     },
     "metadata": {
      "needs_background": "light"
     },
     "output_type": "display_data"
    },
    {
     "data": {
      "image/png": "[encoded data removed]",
      "text/plain": [
       "<Figure size 432x288 with 1 Axes>"
      ]
     },
     "metadata": {
      "needs_background": "light"
     },
     "output_type": "display_data"
    },
    {
     "data": {
      "image/png": "[encoded data removed]",
      "text/plain": [
       "<Figure size 432x288 with 1 Axes>"
      ]
     },
     "metadata": {
      "needs_background": "light"
     },
     "output_type": "display_data"
    },
    {
     "data": {
      "image/png": "[encoded data removed]",
      "text/plain": [
       "<Figure size 432x288 with 1 Axes>"
      ]
     },
     "metadata": {
      "needs_background": "light"
     },
     "output_type": "display_data"
    },
    {
     "data": {
      "image/png": "[encoded data removed]",
      "text/plain": [
       "<Figure size 432x288 with 1 Axes>"
      ]
     },
     "metadata": {
      "needs_background": "light"
     },
     "output_type": "display_data"
    },
    {
     "data": {
      "image/png": "[encoded data removed]",
      "text/plain": [
       "<Figure size 432x288 with 1 Axes>"
      ]
     },
     "metadata": {
      "needs_background": "light"
     },
     "output_type": "display_data"
    },
    {
     "data": {
      "image/png": "[encoded data removed]",
      "text/plain": [
       "<Figure size 432x288 with 1 Axes>"
      ]
     },
     "metadata": {
      "needs_background": "light"
     },
     "output_type": "display_data"
    },
    {
     "data": {
      "image/png": "[encoded data removed]",
      "text/plain": [
       "<Figure size 432x288 with 1 Axes>"
      ]
     },
     "metadata": {
      "needs_background": "light"
     },
     "output_type": "display_data"
    },
    {
     "data": {
      "image/png": "[encoded data removed]",
      "text/plain": [
       "<Figure size 432x288 with 1 Axes>"
      ]
     },
     "metadata": {
      "needs_background": "light"
     },
     "output_type": "display_data"
    }
   ],
   "source": [
    "for features in categorical_features:\n",
    "    df.groupby(features)['Price'].median().plot.bar()\n",
    "    plt.xlabel(features)\n",
    "    plt.ylabel('Price')\n",
    "    plt.title(features)\n",
    "    plt.show()"
   ]
  },
  {
   "cell_type": "markdown",
   "metadata": {},
   "source": [
    "## FEATURE ENGINEERING"
   ]
  },
  {
   "cell_type": "markdown",
   "metadata": {},
   "source": [
    "#### handling missing values"
   ]
  },
  {
   "cell_type": "code",
   "execution_count": 24,
   "metadata": {},
   "outputs": [],
   "source": [
    "# let us capture all the nan values \n",
    "## first lets handle categorical which are missing\n",
    "feature_nan=[features for features in df.columns if(df[features].dtypes=='O' and df[features].isnull().sum()>0)]"
   ]
  },
  {
   "cell_type": "code",
   "execution_count": 25,
   "metadata": {},
   "outputs": [
    {
     "data": {
      "text/plain": [
       "['Route', 'Total_Stops']"
      ]
     },
     "execution_count": 25,
     "metadata": {},
     "output_type": "execute_result"
    }
   ],
   "source": [
    "feature_nan"
   ]
  },
  {
   "cell_type": "code",
   "execution_count": 26,
   "metadata": {},
   "outputs": [
    {
     "data": {
      "text/plain": [
       "array(['BLR → DEL', 'CCU → IXR → BBI → BLR', 'DEL → LKO → BOM → COK',\n",
       "       'CCU → NAG → BLR', 'BLR → NAG → DEL', 'CCU → BLR',\n",
       "       'BLR → BOM → DEL', 'DEL → BOM → COK', 'DEL → BLR → COK',\n",
       "       'MAA → CCU', 'CCU → BOM → BLR', 'DEL → AMD → BOM → COK',\n",
       "       'DEL → PNQ → COK', 'DEL → CCU → BOM → COK', 'BLR → COK → DEL',\n",
       "       'DEL → IDR → BOM → COK', 'DEL → LKO → COK',\n",
       "       'CCU → GAU → DEL → BLR', 'DEL → NAG → BOM → COK',\n",
       "       'CCU → MAA → BLR', 'DEL → HYD → COK', 'CCU → HYD → BLR',\n",
       "       'DEL → COK', 'CCU → DEL → BLR', 'BLR → BOM → AMD → DEL',\n",
       "       'BOM → DEL → HYD', 'DEL → MAA → COK', 'BOM → HYD',\n",
       "       'DEL → BHO → BOM → COK', 'DEL → JAI → BOM → COK',\n",
       "       'DEL → ATQ → BOM → COK', 'DEL → JDH → BOM → COK',\n",
       "       'CCU → BBI → BOM → BLR', 'BLR → MAA → DEL',\n",
       "       'DEL → GOI → BOM → COK', 'DEL → BDQ → BOM → COK',\n",
       "       'CCU → JAI → BOM → BLR', 'CCU → BBI → BLR', 'BLR → HYD → DEL',\n",
       "       'DEL → TRV → COK', 'CCU → IXR → DEL → BLR',\n",
       "       'DEL → IXU → BOM → COK', 'CCU → IXB → BLR',\n",
       "       'BLR → BOM → JDH → DEL', 'DEL → UDR → BOM → COK',\n",
       "       'DEL → HYD → MAA → COK', 'CCU → BOM → COK → BLR',\n",
       "       'BLR → CCU → DEL', 'CCU → BOM → GOI → BLR',\n",
       "       'DEL → RPR → NAG → BOM → COK', 'DEL → HYD → BOM → COK',\n",
       "       'CCU → DEL → AMD → BLR', 'CCU → PNQ → BLR',\n",
       "       'BLR → CCU → GAU → DEL', 'CCU → DEL → COK → BLR',\n",
       "       'BLR → PNQ → DEL', 'BOM → JDH → DEL → HYD',\n",
       "       'BLR → BOM → BHO → DEL', 'DEL → AMD → COK', 'BLR → LKO → DEL',\n",
       "       'CCU → GAU → BLR', 'BOM → GOI → HYD', 'CCU → BOM → AMD → BLR',\n",
       "       'CCU → BBI → IXR → DEL → BLR', 'DEL → DED → BOM → COK',\n",
       "       'DEL → MAA → BOM → COK', 'BLR → AMD → DEL', 'BLR → VGA → DEL',\n",
       "       'CCU → JAI → DEL → BLR', 'CCU → AMD → BLR',\n",
       "       'CCU → VNS → DEL → BLR', 'BLR → BOM → IDR → DEL',\n",
       "       'BLR → BBI → DEL', 'BLR → GOI → DEL', 'BOM → AMD → ISK → HYD',\n",
       "       'BOM → DED → DEL → HYD', 'DEL → IXC → BOM → COK',\n",
       "       'CCU → PAT → BLR', 'BLR → CCU → BBI → DEL',\n",
       "       'CCU → BBI → HYD → BLR', 'BLR → BOM → NAG → DEL',\n",
       "       'BLR → CCU → BBI → HYD → DEL', 'BLR → GAU → DEL',\n",
       "       'BOM → BHO → DEL → HYD', 'BOM → JLR → HYD',\n",
       "       'BLR → HYD → VGA → DEL', 'CCU → KNU → BLR',\n",
       "       'CCU → BOM → PNQ → BLR', 'DEL → BBI → COK',\n",
       "       'BLR → VGA → HYD → DEL', 'BOM → JDH → JAI → DEL → HYD',\n",
       "       'DEL → GWL → IDR → BOM → COK', 'CCU → RPR → HYD → BLR',\n",
       "       'CCU → VTZ → BLR', 'CCU → DEL → VGA → BLR',\n",
       "       'BLR → BOM → IDR → GWL → DEL', 'CCU → DEL → COK → TRV → BLR',\n",
       "       'BOM → COK → MAA → HYD', 'BOM → NDC → HYD', 'BLR → BDQ → DEL',\n",
       "       'CCU → BOM → TRV → BLR', 'CCU → BOM → HBX → BLR',\n",
       "       'BOM → BDQ → DEL → HYD', 'BOM → CCU → HYD',\n",
       "       'BLR → TRV → COK → DEL', 'BLR → IDR → DEL',\n",
       "       'CCU → IXZ → MAA → BLR', 'CCU → GAU → IMF → DEL → BLR',\n",
       "       'BOM → GOI → PNQ → HYD', 'BOM → BLR → CCU → BBI → HYD',\n",
       "       'BOM → MAA → HYD', 'BLR → BOM → UDR → DEL',\n",
       "       'BOM → UDR → DEL → HYD', 'BLR → VGA → VTZ → DEL',\n",
       "       'BLR → HBX → BOM → BHO → DEL', 'CCU → IXA → BLR',\n",
       "       'BOM → RPR → VTZ → HYD', 'BLR → HBX → BOM → AMD → DEL',\n",
       "       'BOM → IDR → DEL → HYD', 'BOM → BLR → HYD', 'BLR → STV → DEL',\n",
       "       'CCU → IXB → DEL → BLR', 'BOM → JAI → DEL → HYD',\n",
       "       'BOM → VNS → DEL → HYD', 'BLR → HBX → BOM → NAG → DEL', nan,\n",
       "       'BLR → BOM → IXC → DEL', 'BLR → CCU → BBI → HYD → VGA → DEL',\n",
       "       'BOM → BBI → HYD'], dtype=object)"
      ]
     },
     "execution_count": 26,
     "metadata": {},
     "output_type": "execute_result"
    }
   ],
   "source": [
    "df['Route'].unique()"
   ]
  },
  {
   "cell_type": "code",
   "execution_count": 27,
   "metadata": {},
   "outputs": [],
   "source": [
    "df['Route'].fillna(df['Route'].mode().values[0],inplace=True)"
   ]
  },
  {
   "cell_type": "code",
   "execution_count": 28,
   "metadata": {},
   "outputs": [],
   "source": [
    "df['Total_Stops'].fillna(df['Total_Stops'].mode().values[0],inplace=True)"
   ]
  },
  {
   "cell_type": "code",
   "execution_count": 29,
   "metadata": {},
   "outputs": [
    {
     "data": {
      "text/plain": [
       "Route          0\n",
       "Total_Stops    0\n",
       "dtype: int64"
      ]
     },
     "execution_count": 29,
     "metadata": {},
     "output_type": "execute_result"
    }
   ],
   "source": [
    "df[feature_nan].isnull().sum()"
   ]
  },
  {
   "cell_type": "markdown",
   "metadata": {},
   "source": [
    "## Handling Rare categorical features"
   ]
  },
  {
   "cell_type": "code",
   "execution_count": 30,
   "metadata": {},
   "outputs": [
    {
     "data": {
      "text/plain": [
       "['Airline',\n",
       " 'Date_of_Journey',\n",
       " 'Source',\n",
       " 'Destination',\n",
       " 'Route',\n",
       " 'Dep_Time',\n",
       " 'Arrival_Time',\n",
       " 'Duration',\n",
       " 'Total_Stops',\n",
       " 'Additional_Info']"
      ]
     },
     "execution_count": 30,
     "metadata": {},
     "output_type": "execute_result"
    }
   ],
   "source": [
    "categorical_features"
   ]
  },
  {
   "cell_type": "code",
   "execution_count": 31,
   "metadata": {},
   "outputs": [],
   "source": [
    "for feature in categorical_features:\n",
    "    temp=df.groupby(feature)['Price'].count()/len(df)\n",
    "    temp_df=temp[temp>0.01].index\n",
    "    df[feature]=np.where(df[feature].isin(temp_df),df[feature],'Rare_var')"
   ]
  },
  {
   "cell_type": "code",
   "execution_count": 32,
   "metadata": {},
   "outputs": [
    {
     "data": {
      "text/html": [
       "<div>\n",
       "<style scoped>\n",
       "    .dataframe tbody tr th:only-of-type {\n",
       "        vertical-align: middle;\n",
       "    }\n",
       "\n",
       "    .dataframe tbody tr th {\n",
       "        vertical-align: top;\n",
       "    }\n",
       "\n",
       "    .dataframe thead th {\n",
       "        text-align: right;\n",
       "    }\n",
       "</style>\n",
       "<table border=\"1\" class=\"dataframe\">\n",
       "  <thead>\n",
       "    <tr style=\"text-align: right;\">\n",
       "      <th></th>\n",
       "      <th>Airline</th>\n",
       "      <th>Date_of_Journey</th>\n",
       "      <th>Source</th>\n",
       "      <th>Destination</th>\n",
       "      <th>Route</th>\n",
       "      <th>Dep_Time</th>\n",
       "      <th>Arrival_Time</th>\n",
       "      <th>Duration</th>\n",
       "      <th>Total_Stops</th>\n",
       "      <th>Additional_Info</th>\n",
       "    </tr>\n",
       "  </thead>\n",
       "  <tbody>\n",
       "    <tr>\n",
       "      <th>0</th>\n",
       "      <td>IndiGo</td>\n",
       "      <td>24/03/2019</td>\n",
       "      <td>Banglore</td>\n",
       "      <td>New Delhi</td>\n",
       "      <td>BLR → DEL</td>\n",
       "      <td>Rare_var</td>\n",
       "      <td>Rare_var</td>\n",
       "      <td>2h 50m</td>\n",
       "      <td>non-stop</td>\n",
       "      <td>No info</td>\n",
       "    </tr>\n",
       "    <tr>\n",
       "      <th>1</th>\n",
       "      <td>Air India</td>\n",
       "      <td>1/05/2019</td>\n",
       "      <td>Kolkata</td>\n",
       "      <td>Banglore</td>\n",
       "      <td>Rare_var</td>\n",
       "      <td>Rare_var</td>\n",
       "      <td>Rare_var</td>\n",
       "      <td>Rare_var</td>\n",
       "      <td>2 stops</td>\n",
       "      <td>No info</td>\n",
       "    </tr>\n",
       "    <tr>\n",
       "      <th>2</th>\n",
       "      <td>Jet Airways</td>\n",
       "      <td>9/06/2019</td>\n",
       "      <td>Delhi</td>\n",
       "      <td>Cochin</td>\n",
       "      <td>Rare_var</td>\n",
       "      <td>Rare_var</td>\n",
       "      <td>Rare_var</td>\n",
       "      <td>Rare_var</td>\n",
       "      <td>2 stops</td>\n",
       "      <td>No info</td>\n",
       "    </tr>\n",
       "    <tr>\n",
       "      <th>3</th>\n",
       "      <td>IndiGo</td>\n",
       "      <td>12/05/2019</td>\n",
       "      <td>Kolkata</td>\n",
       "      <td>Banglore</td>\n",
       "      <td>Rare_var</td>\n",
       "      <td>Rare_var</td>\n",
       "      <td>Rare_var</td>\n",
       "      <td>Rare_var</td>\n",
       "      <td>1 stop</td>\n",
       "      <td>No info</td>\n",
       "    </tr>\n",
       "    <tr>\n",
       "      <th>4</th>\n",
       "      <td>IndiGo</td>\n",
       "      <td>01/03/2019</td>\n",
       "      <td>Banglore</td>\n",
       "      <td>New Delhi</td>\n",
       "      <td>Rare_var</td>\n",
       "      <td>Rare_var</td>\n",
       "      <td>Rare_var</td>\n",
       "      <td>Rare_var</td>\n",
       "      <td>1 stop</td>\n",
       "      <td>No info</td>\n",
       "    </tr>\n",
       "  </tbody>\n",
       "</table>\n",
       "</div>"
      ],
      "text/plain": [
       "       Airline Date_of_Journey    Source Destination      Route  Dep_Time  \\\n",
       "0       IndiGo      24/03/2019  Banglore   New Delhi  BLR → DEL  Rare_var   \n",
       "1    Air India       1/05/2019   Kolkata    Banglore   Rare_var  Rare_var   \n",
       "2  Jet Airways       9/06/2019     Delhi      Cochin   Rare_var  Rare_var   \n",
       "3       IndiGo      12/05/2019   Kolkata    Banglore   Rare_var  Rare_var   \n",
       "4       IndiGo      01/03/2019  Banglore   New Delhi   Rare_var  Rare_var   \n",
       "\n",
       "  Arrival_Time  Duration Total_Stops Additional_Info  \n",
       "0     Rare_var    2h 50m    non-stop         No info  \n",
       "1     Rare_var  Rare_var     2 stops         No info  \n",
       "2     Rare_var  Rare_var     2 stops         No info  \n",
       "3     Rare_var  Rare_var      1 stop         No info  \n",
       "4     Rare_var  Rare_var      1 stop         No info  "
      ]
     },
     "execution_count": 32,
     "metadata": {},
     "output_type": "execute_result"
    }
   ],
   "source": [
    "df[categorical_features].head()"
   ]
  },
  {
   "cell_type": "code",
   "execution_count": 33,
   "metadata": {},
   "outputs": [
    {
     "name": "stdout",
     "output_type": "stream",
     "text": [
      "Airline:9\n",
      "Date_of_Journey:32\n",
      "Source:5\n",
      "Destination:6\n",
      "Route:15\n",
      "Dep_Time:29\n",
      "Arrival_Time:9\n",
      "Duration:12\n",
      "Total_Stops:4\n",
      "Additional_Info:4\n"
     ]
    }
   ],
   "source": [
    "for features in categorical_features:\n",
    "    print(f\"{features}:{len(df[features].unique())}\")"
   ]
  },
  {
   "cell_type": "markdown",
   "metadata": {},
   "source": [
    "## ENCODING TECHNIQUES"
   ]
  },
  {
   "cell_type": "markdown",
   "metadata": {},
   "source": [
    "## Airline"
   ]
  },
  {
   "cell_type": "code",
   "execution_count": 34,
   "metadata": {},
   "outputs": [
    {
     "data": {
      "text/plain": [
       "array(['IndiGo', 'Air India', 'Jet Airways', 'SpiceJet',\n",
       "       'Multiple carriers', 'GoAir', 'Vistara', 'Air Asia', 'Rare_var'],\n",
       "      dtype=object)"
      ]
     },
     "execution_count": 34,
     "metadata": {},
     "output_type": "execute_result"
    }
   ],
   "source": [
    "df['Airline'].unique()"
   ]
  },
  {
   "cell_type": "code",
   "execution_count": 35,
   "metadata": {},
   "outputs": [],
   "source": [
    "A=pd.get_dummies(df['Airline'],drop_first=True)"
   ]
  },
  {
   "cell_type": "code",
   "execution_count": 36,
   "metadata": {},
   "outputs": [],
   "source": [
    "df=pd.concat([df,A],axis=1)"
   ]
  },
  {
   "cell_type": "code",
   "execution_count": 37,
   "metadata": {},
   "outputs": [],
   "source": [
    "df.drop(['Airline'],axis=1,inplace=True)"
   ]
  },
  {
   "cell_type": "code",
   "execution_count": 38,
   "metadata": {},
   "outputs": [
    {
     "name": "stdout",
     "output_type": "stream",
     "text": [
      "<class 'pandas.core.frame.DataFrame'>\n",
      "RangeIndex: 10683 entries, 0 to 10682\n",
      "Data columns (total 18 columns):\n",
      " #   Column             Non-Null Count  Dtype \n",
      "---  ------             --------------  ----- \n",
      " 0   Date_of_Journey    10683 non-null  object\n",
      " 1   Source             10683 non-null  object\n",
      " 2   Destination        10683 non-null  object\n",
      " 3   Route              10683 non-null  object\n",
      " 4   Dep_Time           10683 non-null  object\n",
      " 5   Arrival_Time       10683 non-null  object\n",
      " 6   Duration           10683 non-null  object\n",
      " 7   Total_Stops        10683 non-null  object\n",
      " 8   Additional_Info    10683 non-null  object\n",
      " 9   Price              10683 non-null  int64 \n",
      " 10  Air India          10683 non-null  uint8 \n",
      " 11  GoAir              10683 non-null  uint8 \n",
      " 12  IndiGo             10683 non-null  uint8 \n",
      " 13  Jet Airways        10683 non-null  uint8 \n",
      " 14  Multiple carriers  10683 non-null  uint8 \n",
      " 15  Rare_var           10683 non-null  uint8 \n",
      " 16  SpiceJet           10683 non-null  uint8 \n",
      " 17  Vistara            10683 non-null  uint8 \n",
      "dtypes: int64(1), object(9), uint8(8)\n",
      "memory usage: 542.6+ KB\n"
     ]
    }
   ],
   "source": [
    "df.info()"
   ]
  },
  {
   "cell_type": "code",
   "execution_count": 39,
   "metadata": {},
   "outputs": [],
   "source": [
    "df.drop(['Date_of_Journey'],axis=1,inplace=True)"
   ]
  },
  {
   "cell_type": "code",
   "execution_count": 40,
   "metadata": {},
   "outputs": [
    {
     "name": "stdout",
     "output_type": "stream",
     "text": [
      "<class 'pandas.core.frame.DataFrame'>\n",
      "RangeIndex: 10683 entries, 0 to 10682\n",
      "Data columns (total 17 columns):\n",
      " #   Column             Non-Null Count  Dtype \n",
      "---  ------             --------------  ----- \n",
      " 0   Source             10683 non-null  object\n",
      " 1   Destination        10683 non-null  object\n",
      " 2   Route              10683 non-null  object\n",
      " 3   Dep_Time           10683 non-null  object\n",
      " 4   Arrival_Time       10683 non-null  object\n",
      " 5   Duration           10683 non-null  object\n",
      " 6   Total_Stops        10683 non-null  object\n",
      " 7   Additional_Info    10683 non-null  object\n",
      " 8   Price              10683 non-null  int64 \n",
      " 9   Air India          10683 non-null  uint8 \n",
      " 10  GoAir              10683 non-null  uint8 \n",
      " 11  IndiGo             10683 non-null  uint8 \n",
      " 12  Jet Airways        10683 non-null  uint8 \n",
      " 13  Multiple carriers  10683 non-null  uint8 \n",
      " 14  Rare_var           10683 non-null  uint8 \n",
      " 15  SpiceJet           10683 non-null  uint8 \n",
      " 16  Vistara            10683 non-null  uint8 \n",
      "dtypes: int64(1), object(8), uint8(8)\n",
      "memory usage: 500.8+ KB\n"
     ]
    }
   ],
   "source": [
    "df.info()"
   ]
  },
  {
   "cell_type": "markdown",
   "metadata": {},
   "source": [
    "## SOURCE"
   ]
  },
  {
   "cell_type": "code",
   "execution_count": 41,
   "metadata": {},
   "outputs": [
    {
     "data": {
      "text/plain": [
       "array(['Banglore', 'Kolkata', 'Delhi', 'Chennai', 'Mumbai'], dtype=object)"
      ]
     },
     "execution_count": 41,
     "metadata": {},
     "output_type": "execute_result"
    }
   ],
   "source": [
    "df['Source'].unique()"
   ]
  },
  {
   "cell_type": "code",
   "execution_count": 42,
   "metadata": {},
   "outputs": [],
   "source": [
    "S=pd.get_dummies(df['Source'],drop_first=True)"
   ]
  },
  {
   "cell_type": "code",
   "execution_count": 43,
   "metadata": {},
   "outputs": [],
   "source": [
    "df=pd.concat([df,S],axis=1)"
   ]
  },
  {
   "cell_type": "code",
   "execution_count": 44,
   "metadata": {},
   "outputs": [],
   "source": [
    "df.drop(['Source'],axis=1,inplace=True)"
   ]
  },
  {
   "cell_type": "code",
   "execution_count": 45,
   "metadata": {},
   "outputs": [
    {
     "name": "stdout",
     "output_type": "stream",
     "text": [
      "<class 'pandas.core.frame.DataFrame'>\n",
      "RangeIndex: 10683 entries, 0 to 10682\n",
      "Data columns (total 20 columns):\n",
      " #   Column             Non-Null Count  Dtype \n",
      "---  ------             --------------  ----- \n",
      " 0   Destination        10683 non-null  object\n",
      " 1   Route              10683 non-null  object\n",
      " 2   Dep_Time           10683 non-null  object\n",
      " 3   Arrival_Time       10683 non-null  object\n",
      " 4   Duration           10683 non-null  object\n",
      " 5   Total_Stops        10683 non-null  object\n",
      " 6   Additional_Info    10683 non-null  object\n",
      " 7   Price              10683 non-null  int64 \n",
      " 8   Air India          10683 non-null  uint8 \n",
      " 9   GoAir              10683 non-null  uint8 \n",
      " 10  IndiGo             10683 non-null  uint8 \n",
      " 11  Jet Airways        10683 non-null  uint8 \n",
      " 12  Multiple carriers  10683 non-null  uint8 \n",
      " 13  Rare_var           10683 non-null  uint8 \n",
      " 14  SpiceJet           10683 non-null  uint8 \n",
      " 15  Vistara            10683 non-null  uint8 \n",
      " 16  Chennai            10683 non-null  uint8 \n",
      " 17  Delhi              10683 non-null  uint8 \n",
      " 18  Kolkata            10683 non-null  uint8 \n",
      " 19  Mumbai             10683 non-null  uint8 \n",
      "dtypes: int64(1), object(7), uint8(12)\n",
      "memory usage: 500.8+ KB\n"
     ]
    }
   ],
   "source": [
    "df.info()"
   ]
  },
  {
   "cell_type": "markdown",
   "metadata": {},
   "source": [
    "## Destinations"
   ]
  },
  {
   "cell_type": "code",
   "execution_count": 46,
   "metadata": {},
   "outputs": [],
   "source": [
    "D=pd.get_dummies(df['Destination'],drop_first=True)"
   ]
  },
  {
   "cell_type": "code",
   "execution_count": 47,
   "metadata": {},
   "outputs": [],
   "source": [
    "df=pd.concat([df,D],axis=1)"
   ]
  },
  {
   "cell_type": "code",
   "execution_count": 48,
   "metadata": {},
   "outputs": [],
   "source": [
    "df.drop(['Destination'],axis=1,inplace=True)"
   ]
  },
  {
   "cell_type": "code",
   "execution_count": 49,
   "metadata": {},
   "outputs": [
    {
     "name": "stdout",
     "output_type": "stream",
     "text": [
      "<class 'pandas.core.frame.DataFrame'>\n",
      "RangeIndex: 10683 entries, 0 to 10682\n",
      "Data columns (total 24 columns):\n",
      " #   Column             Non-Null Count  Dtype \n",
      "---  ------             --------------  ----- \n",
      " 0   Route              10683 non-null  object\n",
      " 1   Dep_Time           10683 non-null  object\n",
      " 2   Arrival_Time       10683 non-null  object\n",
      " 3   Duration           10683 non-null  object\n",
      " 4   Total_Stops        10683 non-null  object\n",
      " 5   Additional_Info    10683 non-null  object\n",
      " 6   Price              10683 non-null  int64 \n",
      " 7   Air India          10683 non-null  uint8 \n",
      " 8   GoAir              10683 non-null  uint8 \n",
      " 9   IndiGo             10683 non-null  uint8 \n",
      " 10  Jet Airways        10683 non-null  uint8 \n",
      " 11  Multiple carriers  10683 non-null  uint8 \n",
      " 12  Rare_var           10683 non-null  uint8 \n",
      " 13  SpiceJet           10683 non-null  uint8 \n",
      " 14  Vistara            10683 non-null  uint8 \n",
      " 15  Chennai            10683 non-null  uint8 \n",
      " 16  Delhi              10683 non-null  uint8 \n",
      " 17  Kolkata            10683 non-null  uint8 \n",
      " 18  Mumbai             10683 non-null  uint8 \n",
      " 19  Cochin             10683 non-null  uint8 \n",
      " 20  Delhi              10683 non-null  uint8 \n",
      " 21  Hyderabad          10683 non-null  uint8 \n",
      " 22  Kolkata            10683 non-null  uint8 \n",
      " 23  New Delhi          10683 non-null  uint8 \n",
      "dtypes: int64(1), object(6), uint8(17)\n",
      "memory usage: 511.3+ KB\n"
     ]
    }
   ],
   "source": [
    "df.info()"
   ]
  },
  {
   "cell_type": "markdown",
   "metadata": {},
   "source": [
    "## Route"
   ]
  },
  {
   "cell_type": "code",
   "execution_count": 50,
   "metadata": {},
   "outputs": [
    {
     "data": {
      "text/plain": [
       "array(['BLR → DEL', 'Rare_var', 'CCU → BLR', 'BLR → BOM → DEL',\n",
       "       'DEL → BOM → COK', 'DEL → BLR → COK', 'MAA → CCU',\n",
       "       'CCU → BOM → BLR', 'DEL → AMD → BOM → COK', 'DEL → HYD → COK',\n",
       "       'DEL → COK', 'CCU → DEL → BLR', 'DEL → MAA → COK', 'BOM → HYD',\n",
       "       'DEL → JAI → BOM → COK'], dtype=object)"
      ]
     },
     "execution_count": 50,
     "metadata": {},
     "output_type": "execute_result"
    }
   ],
   "source": [
    "df['Route'].unique()"
   ]
  },
  {
   "cell_type": "code",
   "execution_count": 51,
   "metadata": {},
   "outputs": [],
   "source": [
    "new_df=df.groupby('Route')['Price'].mean().sort_values(ascending=False).index\n"
   ]
  },
  {
   "cell_type": "code",
   "execution_count": 52,
   "metadata": {},
   "outputs": [],
   "source": [
    "for i,j in enumerate(new_df):\n",
    "    df.replace(j,i,inplace=True)"
   ]
  },
  {
   "cell_type": "code",
   "execution_count": 53,
   "metadata": {},
   "outputs": [
    {
     "name": "stdout",
     "output_type": "stream",
     "text": [
      "<class 'pandas.core.frame.DataFrame'>\n",
      "RangeIndex: 10683 entries, 0 to 10682\n",
      "Data columns (total 24 columns):\n",
      " #   Column             Non-Null Count  Dtype \n",
      "---  ------             --------------  ----- \n",
      " 0   Route              10683 non-null  int64 \n",
      " 1   Dep_Time           10683 non-null  object\n",
      " 2   Arrival_Time       10683 non-null  object\n",
      " 3   Duration           10683 non-null  object\n",
      " 4   Total_Stops        10683 non-null  object\n",
      " 5   Additional_Info    10683 non-null  object\n",
      " 6   Price              10683 non-null  int64 \n",
      " 7   Air India          10683 non-null  uint8 \n",
      " 8   GoAir              10683 non-null  uint8 \n",
      " 9   IndiGo             10683 non-null  uint8 \n",
      " 10  Jet Airways        10683 non-null  uint8 \n",
      " 11  Multiple carriers  10683 non-null  uint8 \n",
      " 12  Rare_var           10683 non-null  uint8 \n",
      " 13  SpiceJet           10683 non-null  uint8 \n",
      " 14  Vistara            10683 non-null  uint8 \n",
      " 15  Chennai            10683 non-null  uint8 \n",
      " 16  Delhi              10683 non-null  uint8 \n",
      " 17  Kolkata            10683 non-null  uint8 \n",
      " 18  Mumbai             10683 non-null  uint8 \n",
      " 19  Cochin             10683 non-null  uint8 \n",
      " 20  Delhi              10683 non-null  uint8 \n",
      " 21  Hyderabad          10683 non-null  uint8 \n",
      " 22  Kolkata            10683 non-null  uint8 \n",
      " 23  New Delhi          10683 non-null  uint8 \n",
      "dtypes: int64(2), object(5), uint8(17)\n",
      "memory usage: 553.0+ KB\n"
     ]
    }
   ],
   "source": [
    "df.info()"
   ]
  },
  {
   "cell_type": "markdown",
   "metadata": {},
   "source": [
    "## Dep_Time"
   ]
  },
  {
   "cell_type": "code",
   "execution_count": 54,
   "metadata": {},
   "outputs": [
    {
     "data": {
      "text/plain": [
       "array([4, '09:00', '18:55', '08:00', '09:45', '11:40', '21:10', '07:00',\n",
       "       '07:05', '05:45', '09:35', '08:20', '06:30', '14:05', '08:25',\n",
       "       '20:25', '16:55', '20:00', '11:30', '06:00', '16:30', '13:00',\n",
       "       '17:00', '10:00', '07:10', '05:30', '10:20', '17:45', '22:50'],\n",
       "      dtype=object)"
      ]
     },
     "execution_count": 54,
     "metadata": {},
     "output_type": "execute_result"
    }
   ],
   "source": [
    "df['Dep_Time'].unique()"
   ]
  },
  {
   "cell_type": "code",
   "execution_count": 55,
   "metadata": {},
   "outputs": [],
   "source": [
    "def encoding(df,variable):\n",
    "    l=df.groupby(variable)['Price'].mean().sort_values(ascending=False).index\n",
    "    for i,j in enumerate(l):\n",
    "        df.replace(j,i,inplace=True)"
   ]
  },
  {
   "cell_type": "code",
   "execution_count": 56,
   "metadata": {},
   "outputs": [],
   "source": [
    "encoding(df,'Dep_Time')"
   ]
  },
  {
   "cell_type": "code",
   "execution_count": 57,
   "metadata": {},
   "outputs": [
    {
     "name": "stdout",
     "output_type": "stream",
     "text": [
      "<class 'pandas.core.frame.DataFrame'>\n",
      "RangeIndex: 10683 entries, 0 to 10682\n",
      "Data columns (total 24 columns):\n",
      " #   Column             Non-Null Count  Dtype \n",
      "---  ------             --------------  ----- \n",
      " 0   Route              10683 non-null  int64 \n",
      " 1   Dep_Time           10683 non-null  int64 \n",
      " 2   Arrival_Time       10683 non-null  object\n",
      " 3   Duration           10683 non-null  object\n",
      " 4   Total_Stops        10683 non-null  object\n",
      " 5   Additional_Info    10683 non-null  object\n",
      " 6   Price              10683 non-null  int64 \n",
      " 7   Air India          10683 non-null  uint8 \n",
      " 8   GoAir              10683 non-null  uint8 \n",
      " 9   IndiGo             10683 non-null  uint8 \n",
      " 10  Jet Airways        10683 non-null  uint8 \n",
      " 11  Multiple carriers  10683 non-null  uint8 \n",
      " 12  Rare_var           10683 non-null  uint8 \n",
      " 13  SpiceJet           10683 non-null  uint8 \n",
      " 14  Vistara            10683 non-null  uint8 \n",
      " 15  Chennai            10683 non-null  uint8 \n",
      " 16  Delhi              10683 non-null  uint8 \n",
      " 17  Kolkata            10683 non-null  uint8 \n",
      " 18  Mumbai             10683 non-null  uint8 \n",
      " 19  Cochin             10683 non-null  uint8 \n",
      " 20  Delhi              10683 non-null  uint8 \n",
      " 21  Hyderabad          10683 non-null  uint8 \n",
      " 22  Kolkata            10683 non-null  uint8 \n",
      " 23  New Delhi          10683 non-null  uint8 \n",
      "dtypes: int64(3), object(4), uint8(17)\n",
      "memory usage: 594.7+ KB\n"
     ]
    }
   ],
   "source": [
    "df.info()"
   ]
  },
  {
   "cell_type": "markdown",
   "metadata": {},
   "source": [
    "## Arrival_Time"
   ]
  },
  {
   "cell_type": "code",
   "execution_count": 58,
   "metadata": {},
   "outputs": [
    {
     "data": {
      "text/plain": [
       "array([22, '19:15', '12:35', '21:00', '19:00', '20:45', '22:30', '18:50',\n",
       "       '16:10'], dtype=object)"
      ]
     },
     "execution_count": 58,
     "metadata": {},
     "output_type": "execute_result"
    }
   ],
   "source": [
    "df['Arrival_Time'].unique()"
   ]
  },
  {
   "cell_type": "code",
   "execution_count": 59,
   "metadata": {},
   "outputs": [],
   "source": [
    "encoding(df,'Arrival_Time')"
   ]
  },
  {
   "cell_type": "code",
   "execution_count": 60,
   "metadata": {},
   "outputs": [
    {
     "name": "stdout",
     "output_type": "stream",
     "text": [
      "<class 'pandas.core.frame.DataFrame'>\n",
      "RangeIndex: 10683 entries, 0 to 10682\n",
      "Data columns (total 24 columns):\n",
      " #   Column             Non-Null Count  Dtype \n",
      "---  ------             --------------  ----- \n",
      " 0   Route              10683 non-null  int64 \n",
      " 1   Dep_Time           10683 non-null  int64 \n",
      " 2   Arrival_Time       10683 non-null  int64 \n",
      " 3   Duration           10683 non-null  object\n",
      " 4   Total_Stops        10683 non-null  object\n",
      " 5   Additional_Info    10683 non-null  object\n",
      " 6   Price              10683 non-null  int64 \n",
      " 7   Air India          10683 non-null  uint8 \n",
      " 8   GoAir              10683 non-null  uint8 \n",
      " 9   IndiGo             10683 non-null  uint8 \n",
      " 10  Jet Airways        10683 non-null  uint8 \n",
      " 11  Multiple carriers  10683 non-null  uint8 \n",
      " 12  Rare_var           10683 non-null  uint8 \n",
      " 13  SpiceJet           10683 non-null  uint8 \n",
      " 14  Vistara            10683 non-null  uint8 \n",
      " 15  Chennai            10683 non-null  uint8 \n",
      " 16  Delhi              10683 non-null  uint8 \n",
      " 17  Kolkata            10683 non-null  uint8 \n",
      " 18  Mumbai             10683 non-null  uint8 \n",
      " 19  Cochin             10683 non-null  uint8 \n",
      " 20  Delhi              10683 non-null  uint8 \n",
      " 21  Hyderabad          10683 non-null  uint8 \n",
      " 22  Kolkata            10683 non-null  uint8 \n",
      " 23  New Delhi          10683 non-null  uint8 \n",
      "dtypes: int64(4), object(3), uint8(17)\n",
      "memory usage: 636.5+ KB\n"
     ]
    }
   ],
   "source": [
    "df.info()"
   ]
  },
  {
   "cell_type": "markdown",
   "metadata": {},
   "source": [
    "## Duration"
   ]
  },
  {
   "cell_type": "code",
   "execution_count": 61,
   "metadata": {},
   "outputs": [
    {
     "data": {
      "text/plain": [
       "array(['2h 50m', 5, '2h 35m', '2h 15m', '2h 55m', '2h 30m', '2h 45m',\n",
       "       '3h', '1h 30m', '1h 25m', '2h 40m', '2h 20m'], dtype=object)"
      ]
     },
     "execution_count": 61,
     "metadata": {},
     "output_type": "execute_result"
    }
   ],
   "source": [
    "df['Duration'].unique()"
   ]
  },
  {
   "cell_type": "code",
   "execution_count": 62,
   "metadata": {},
   "outputs": [],
   "source": [
    "encoding(df,'Duration')"
   ]
  },
  {
   "cell_type": "code",
   "execution_count": 63,
   "metadata": {},
   "outputs": [
    {
     "name": "stdout",
     "output_type": "stream",
     "text": [
      "<class 'pandas.core.frame.DataFrame'>\n",
      "RangeIndex: 10683 entries, 0 to 10682\n",
      "Data columns (total 24 columns):\n",
      " #   Column             Non-Null Count  Dtype \n",
      "---  ------             --------------  ----- \n",
      " 0   Route              10683 non-null  int64 \n",
      " 1   Dep_Time           10683 non-null  int64 \n",
      " 2   Arrival_Time       10683 non-null  int64 \n",
      " 3   Duration           10683 non-null  int64 \n",
      " 4   Total_Stops        10683 non-null  object\n",
      " 5   Additional_Info    10683 non-null  object\n",
      " 6   Price              10683 non-null  int64 \n",
      " 7   Air India          10683 non-null  uint8 \n",
      " 8   GoAir              10683 non-null  uint8 \n",
      " 9   IndiGo             10683 non-null  uint8 \n",
      " 10  Jet Airways        10683 non-null  uint8 \n",
      " 11  Multiple carriers  10683 non-null  uint8 \n",
      " 12  Rare_var           10683 non-null  uint8 \n",
      " 13  SpiceJet           10683 non-null  uint8 \n",
      " 14  Vistara            10683 non-null  uint8 \n",
      " 15  Chennai            10683 non-null  uint8 \n",
      " 16  Delhi              10683 non-null  uint8 \n",
      " 17  Kolkata            10683 non-null  uint8 \n",
      " 18  Mumbai             10683 non-null  uint8 \n",
      " 19  Cochin             10683 non-null  uint8 \n",
      " 20  Delhi              10683 non-null  uint8 \n",
      " 21  Hyderabad          10683 non-null  uint8 \n",
      " 22  Kolkata            10683 non-null  uint8 \n",
      " 23  New Delhi          10683 non-null  uint8 \n",
      "dtypes: int64(5), object(2), uint8(17)\n",
      "memory usage: 678.2+ KB\n"
     ]
    }
   ],
   "source": [
    "df.info()"
   ]
  },
  {
   "cell_type": "markdown",
   "metadata": {},
   "source": [
    "## Total_Stops"
   ]
  },
  {
   "cell_type": "code",
   "execution_count": 64,
   "metadata": {},
   "outputs": [
    {
     "data": {
      "text/plain": [
       "array(['non-stop', '2 stops', '1 stop', 0], dtype=object)"
      ]
     },
     "execution_count": 64,
     "metadata": {},
     "output_type": "execute_result"
    }
   ],
   "source": [
    "df['Total_Stops'].unique()"
   ]
  },
  {
   "cell_type": "code",
   "execution_count": 65,
   "metadata": {},
   "outputs": [],
   "source": [
    "T=pd.get_dummies(df['Total_Stops'],drop_first=True)"
   ]
  },
  {
   "cell_type": "code",
   "execution_count": 66,
   "metadata": {},
   "outputs": [],
   "source": [
    "df=pd.concat([df,T],axis=1)"
   ]
  },
  {
   "cell_type": "code",
   "execution_count": 67,
   "metadata": {},
   "outputs": [],
   "source": [
    "df.drop(['Total_Stops'],axis=1,inplace=True)"
   ]
  },
  {
   "cell_type": "code",
   "execution_count": 68,
   "metadata": {},
   "outputs": [
    {
     "name": "stdout",
     "output_type": "stream",
     "text": [
      "<class 'pandas.core.frame.DataFrame'>\n",
      "RangeIndex: 10683 entries, 0 to 10682\n",
      "Data columns (total 26 columns):\n",
      " #   Column             Non-Null Count  Dtype \n",
      "---  ------             --------------  ----- \n",
      " 0   Route              10683 non-null  int64 \n",
      " 1   Dep_Time           10683 non-null  int64 \n",
      " 2   Arrival_Time       10683 non-null  int64 \n",
      " 3   Duration           10683 non-null  int64 \n",
      " 4   Additional_Info    10683 non-null  object\n",
      " 5   Price              10683 non-null  int64 \n",
      " 6   Air India          10683 non-null  uint8 \n",
      " 7   GoAir              10683 non-null  uint8 \n",
      " 8   IndiGo             10683 non-null  uint8 \n",
      " 9   Jet Airways        10683 non-null  uint8 \n",
      " 10  Multiple carriers  10683 non-null  uint8 \n",
      " 11  Rare_var           10683 non-null  uint8 \n",
      " 12  SpiceJet           10683 non-null  uint8 \n",
      " 13  Vistara            10683 non-null  uint8 \n",
      " 14  Chennai            10683 non-null  uint8 \n",
      " 15  Delhi              10683 non-null  uint8 \n",
      " 16  Kolkata            10683 non-null  uint8 \n",
      " 17  Mumbai             10683 non-null  uint8 \n",
      " 18  Cochin             10683 non-null  uint8 \n",
      " 19  Delhi              10683 non-null  uint8 \n",
      " 20  Hyderabad          10683 non-null  uint8 \n",
      " 21  Kolkata            10683 non-null  uint8 \n",
      " 22  New Delhi          10683 non-null  uint8 \n",
      " 23  1 stop             10683 non-null  uint8 \n",
      " 24  2 stops            10683 non-null  uint8 \n",
      " 25  non-stop           10683 non-null  uint8 \n",
      "dtypes: int64(5), object(1), uint8(20)\n",
      "memory usage: 667.8+ KB\n"
     ]
    }
   ],
   "source": [
    "df.info()"
   ]
  },
  {
   "cell_type": "markdown",
   "metadata": {},
   "source": [
    "## Additional_Info"
   ]
  },
  {
   "cell_type": "code",
   "execution_count": 69,
   "metadata": {},
   "outputs": [
    {
     "data": {
      "text/plain": [
       "array(['No info', 'In-flight meal not included',\n",
       "       'No check-in baggage included', 0], dtype=object)"
      ]
     },
     "execution_count": 69,
     "metadata": {},
     "output_type": "execute_result"
    }
   ],
   "source": [
    "df['Additional_Info'].unique()"
   ]
  },
  {
   "cell_type": "code",
   "execution_count": 70,
   "metadata": {},
   "outputs": [],
   "source": [
    "A=pd.get_dummies(df['Additional_Info'],drop_first=True)"
   ]
  },
  {
   "cell_type": "code",
   "execution_count": 71,
   "metadata": {},
   "outputs": [],
   "source": [
    "df=pd.concat([df,A],axis=1)"
   ]
  },
  {
   "cell_type": "code",
   "execution_count": 72,
   "metadata": {},
   "outputs": [],
   "source": [
    "df.drop(['Additional_Info'],axis=1,inplace=True)"
   ]
  },
  {
   "cell_type": "code",
   "execution_count": 73,
   "metadata": {},
   "outputs": [
    {
     "name": "stdout",
     "output_type": "stream",
     "text": [
      "<class 'pandas.core.frame.DataFrame'>\n",
      "RangeIndex: 10683 entries, 0 to 10682\n",
      "Data columns (total 28 columns):\n",
      " #   Column                        Non-Null Count  Dtype\n",
      "---  ------                        --------------  -----\n",
      " 0   Route                         10683 non-null  int64\n",
      " 1   Dep_Time                      10683 non-null  int64\n",
      " 2   Arrival_Time                  10683 non-null  int64\n",
      " 3   Duration                      10683 non-null  int64\n",
      " 4   Price                         10683 non-null  int64\n",
      " 5   Air India                     10683 non-null  uint8\n",
      " 6   GoAir                         10683 non-null  uint8\n",
      " 7   IndiGo                        10683 non-null  uint8\n",
      " 8   Jet Airways                   10683 non-null  uint8\n",
      " 9   Multiple carriers             10683 non-null  uint8\n",
      " 10  Rare_var                      10683 non-null  uint8\n",
      " 11  SpiceJet                      10683 non-null  uint8\n",
      " 12  Vistara                       10683 non-null  uint8\n",
      " 13  Chennai                       10683 non-null  uint8\n",
      " 14  Delhi                         10683 non-null  uint8\n",
      " 15  Kolkata                       10683 non-null  uint8\n",
      " 16  Mumbai                        10683 non-null  uint8\n",
      " 17  Cochin                        10683 non-null  uint8\n",
      " 18  Delhi                         10683 non-null  uint8\n",
      " 19  Hyderabad                     10683 non-null  uint8\n",
      " 20  Kolkata                       10683 non-null  uint8\n",
      " 21  New Delhi                     10683 non-null  uint8\n",
      " 22  1 stop                        10683 non-null  uint8\n",
      " 23  2 stops                       10683 non-null  uint8\n",
      " 24  non-stop                      10683 non-null  uint8\n",
      " 25  In-flight meal not included   10683 non-null  uint8\n",
      " 26  No check-in baggage included  10683 non-null  uint8\n",
      " 27  No info                       10683 non-null  uint8\n",
      "dtypes: int64(5), uint8(23)\n",
      "memory usage: 657.3 KB\n"
     ]
    }
   ],
   "source": [
    "df.info()"
   ]
  },
  {
   "cell_type": "markdown",
   "metadata": {},
   "source": [
    "## differentiate the features AND LABELS"
   ]
  },
  {
   "cell_type": "code",
   "execution_count": 74,
   "metadata": {},
   "outputs": [],
   "source": [
    "x=df.drop(['Price'],axis=1)"
   ]
  },
  {
   "cell_type": "code",
   "execution_count": 75,
   "metadata": {},
   "outputs": [],
   "source": [
    "y=df['Price']"
   ]
  },
  {
   "cell_type": "markdown",
   "metadata": {},
   "source": [
    "## train test split"
   ]
  },
  {
   "cell_type": "code",
   "execution_count": 76,
   "metadata": {},
   "outputs": [],
   "source": [
    "X_train,X_test,Y_train,Y_test=train_test_split(x,y,test_size=0.2,random_state=42)"
   ]
  },
  {
   "cell_type": "code",
   "execution_count": 77,
   "metadata": {},
   "outputs": [
    {
     "name": "stdout",
     "output_type": "stream",
     "text": [
      "(8546, 27)\n"
     ]
    }
   ],
   "source": [
    "print(X_train.shape)"
   ]
  },
  {
   "cell_type": "code",
   "execution_count": 78,
   "metadata": {},
   "outputs": [
    {
     "name": "stdout",
     "output_type": "stream",
     "text": [
      "(8546,)\n"
     ]
    }
   ],
   "source": [
    "print(Y_train.shape)"
   ]
  },
  {
   "cell_type": "markdown",
   "metadata": {},
   "source": [
    "## sclaing the features "
   ]
  },
  {
   "cell_type": "code",
   "execution_count": 79,
   "metadata": {},
   "outputs": [],
   "source": [
    "X_train=scale(X_train)"
   ]
  },
  {
   "cell_type": "code",
   "execution_count": 80,
   "metadata": {},
   "outputs": [],
   "source": [
    "X_test=scale(X_test)"
   ]
  },
  {
   "cell_type": "markdown",
   "metadata": {},
   "source": [
    "##  select a model"
   ]
  },
  {
   "cell_type": "code",
   "execution_count": 81,
   "metadata": {},
   "outputs": [],
   "source": [
    "model=RandomForestRegressor()"
   ]
  },
  {
   "cell_type": "code",
   "execution_count": 82,
   "metadata": {},
   "outputs": [
    {
     "data": {
      "text/plain": [
       "RandomForestRegressor()"
      ]
     },
     "execution_count": 82,
     "metadata": {},
     "output_type": "execute_result"
    }
   ],
   "source": [
    "model.fit(X_train,Y_train)"
   ]
  },
  {
   "cell_type": "code",
   "execution_count": 83,
   "metadata": {},
   "outputs": [],
   "source": [
    "some_data1=X_train[0:5,:]"
   ]
  },
  {
   "cell_type": "code",
   "execution_count": 84,
   "metadata": {},
   "outputs": [],
   "source": [
    "some_data2=Y_train.iloc[0:5]"
   ]
  },
  {
   "cell_type": "code",
   "execution_count": 85,
   "metadata": {},
   "outputs": [
    {
     "name": "stdout",
     "output_type": "stream",
     "text": [
      "[23528 12373  5583  7695 11972]\n"
     ]
    }
   ],
   "source": [
    "print(some_data2.values)"
   ]
  },
  {
   "cell_type": "code",
   "execution_count": 86,
   "metadata": {},
   "outputs": [],
   "source": [
    "predictions=model.predict(some_data1)"
   ]
  },
  {
   "cell_type": "code",
   "execution_count": 87,
   "metadata": {},
   "outputs": [
    {
     "data": {
      "text/plain": [
       "array([22667.38742924, 10675.46660681,  6515.08996884, 11477.61885248,\n",
       "       12011.53145947])"
      ]
     },
     "execution_count": 87,
     "metadata": {},
     "output_type": "execute_result"
    }
   ],
   "source": [
    "predictions"
   ]
  },
  {
   "cell_type": "code",
   "execution_count": 88,
   "metadata": {},
   "outputs": [],
   "source": [
    "mse=mean_squared_error(some_data2,predictions)"
   ]
  },
  {
   "cell_type": "code",
   "execution_count": 89,
   "metadata": {},
   "outputs": [],
   "source": [
    "rmse=np.sqrt(mse)"
   ]
  },
  {
   "cell_type": "code",
   "execution_count": 90,
   "metadata": {},
   "outputs": [
    {
     "data": {
      "text/plain": [
       "1939.1149242572412"
      ]
     },
     "execution_count": 90,
     "metadata": {},
     "output_type": "execute_result"
    }
   ],
   "source": [
    "rmse"
   ]
  },
  {
   "cell_type": "code",
   "execution_count": null,
   "metadata": {},
   "outputs": [],
   "source": []
  }
 ],
 "metadata": {
  "kernelspec": {
   "display_name": "Python 3",
   "language": "python",
   "name": "python3"
  },
  "language_info": {
   "codemirror_mode": {
    "name": "ipython",
    "version": 3
   },
   "file_extension": ".py",
   "mimetype": "text/x-python",
   "name": "python",
   "nbconvert_exporter": "python",
   "pygments_lexer": "ipython3",
   "version": "3.8.1"
  }
 },
 "nbformat": 4,
 "nbformat_minor": 4
}
