{
 "cells": [
  {
   "cell_type": "code",
   "execution_count": 1,
   "metadata": {},
   "outputs": [],
   "source": [
    "import pandas as pd\n",
    "import numpy as np\n",
    "from sklearn.model_selection import train_test_split\n",
    "from sklearn.preprocessing import scale\n",
    "from sklearn.ensemble import RandomForestRegressor\n",
    "from sklearn.metrics import mean_squared_error\n",
    "from sklearn.linear_model import LinearRegression\n",
    "from sklearn.cluster import "
   ]
  },
  {
   "cell_type": "code",
   "execution_count": 2,
   "metadata": {},
   "outputs": [],
   "source": [
    "df=pd.read_csv('datasets_761595_1314449_msft.csv',sep=\",\")"
   ]
  },
  {
   "cell_type": "code",
   "execution_count": 3,
   "metadata": {},
   "outputs": [
    {
     "name": "stdout",
     "output_type": "stream",
     "text": [
      "                                                Name  Rating  \\\n",
      "0                                     Dynamic Reader     3.5   \n",
      "1  Chemistry, Organic Chemistry and Biochemistry-...     3.0   \n",
      "2                                         BookViewer     3.5   \n",
      "3                                 Brick Instructions     3.5   \n",
      "4  Introduction to Python Programming by GoLearni...     2.0   \n",
      "\n",
      "   No of people Rated Category        Date Price  \n",
      "0                 268    Books  07-01-2014  Free  \n",
      "1                 627    Books  08-01-2014  Free  \n",
      "2                 593    Books  29-02-2016  Free  \n",
      "3                 684    Books  30-01-2018  Free  \n",
      "4                 634    Books  30-01-2018  Free  \n"
     ]
    }
   ],
   "source": [
    "print(df.head())"
   ]
  },
  {
   "cell_type": "code",
   "execution_count": 4,
   "metadata": {},
   "outputs": [
    {
     "name": "stdout",
     "output_type": "stream",
     "text": [
      "<class 'pandas.core.frame.DataFrame'>\n",
      "RangeIndex: 5322 entries, 0 to 5321\n",
      "Data columns (total 6 columns):\n",
      " #   Column              Non-Null Count  Dtype  \n",
      "---  ------              --------------  -----  \n",
      " 0   Name                5321 non-null   object \n",
      " 1   Rating              5321 non-null   float64\n",
      " 2   No of people Rated  5322 non-null   int64  \n",
      " 3   Category            5321 non-null   object \n",
      " 4   Date                5321 non-null   object \n",
      " 5   Price               5321 non-null   object \n",
      "dtypes: float64(1), int64(1), object(4)\n",
      "memory usage: 166.4+ KB\n",
      "None\n"
     ]
    }
   ],
   "source": [
    "print(df.info())"
   ]
  },
  {
   "cell_type": "markdown",
   "metadata": {},
   "source": [
    "## CHECKING THE NULL"
   ]
  },
  {
   "cell_type": "code",
   "execution_count": 5,
   "metadata": {},
   "outputs": [
    {
     "name": "stdout",
     "output_type": "stream",
     "text": [
      "Name:1\n",
      "Rating:1\n",
      "No of people Rated:0\n",
      "Category:1\n",
      "Date:1\n",
      "Price:1\n"
     ]
    }
   ],
   "source": [
    "for i in df.columns:\n",
    "    print(f\"{i}:{df[i].isnull().sum()}\")"
   ]
  },
  {
   "cell_type": "markdown",
   "metadata": {},
   "source": [
    "### CHECKING THE UNIQUE variables"
   ]
  },
  {
   "cell_type": "code",
   "execution_count": 6,
   "metadata": {},
   "outputs": [
    {
     "name": "stdout",
     "output_type": "stream",
     "text": [
      "Name:5318\n",
      "Rating:10\n",
      "No of people Rated:899\n",
      "Category:14\n",
      "Date:2125\n",
      "Price:45\n"
     ]
    }
   ],
   "source": [
    "for i in df.columns:\n",
    "    print(f\"{i}:{len(df[i].unique())}\")"
   ]
  },
  {
   "cell_type": "code",
   "execution_count": 7,
   "metadata": {},
   "outputs": [
    {
     "name": "stdout",
     "output_type": "stream",
     "text": [
      "                               Name  Rating  No of people Rated  \\\n",
      "5317                        JS King     1.0                 720   \n",
      "5318                    MQTTSniffer     2.5                 500   \n",
      "5319  Dev Utils - JSON, CSV and XML     4.0                 862   \n",
      "5320                    Simply Text     4.0                 386   \n",
      "5321                            NaN     NaN                 948   \n",
      "\n",
      "             Category        Date     Price  \n",
      "5317  Developer Tools  19-07-2018  ₹ 269.00  \n",
      "5318  Developer Tools  10-04-2017   ₹ 64.00  \n",
      "5319  Developer Tools  18-11-2019  ₹ 269.00  \n",
      "5320  Developer Tools  23-01-2014  ₹ 219.00  \n",
      "5321              NaN         NaN       NaN  \n"
     ]
    }
   ],
   "source": [
    "print(df.tail())"
   ]
  },
  {
   "cell_type": "markdown",
   "metadata": {},
   "source": [
    "# DROP THE LAST ROWS"
   ]
  },
  {
   "cell_type": "code",
   "execution_count": 8,
   "metadata": {},
   "outputs": [],
   "source": [
    "df.drop([5321],inplace=True)"
   ]
  },
  {
   "cell_type": "code",
   "execution_count": 9,
   "metadata": {},
   "outputs": [
    {
     "name": "stdout",
     "output_type": "stream",
     "text": [
      "                               Name  Rating  No of people Rated  \\\n",
      "5316                      Get Color     3.0                 785   \n",
      "5317                        JS King     1.0                 720   \n",
      "5318                    MQTTSniffer     2.5                 500   \n",
      "5319  Dev Utils - JSON, CSV and XML     4.0                 862   \n",
      "5320                    Simply Text     4.0                 386   \n",
      "\n",
      "             Category        Date     Price  \n",
      "5316  Developer Tools  08-08-2019   ₹ 54.50  \n",
      "5317  Developer Tools  19-07-2018  ₹ 269.00  \n",
      "5318  Developer Tools  10-04-2017   ₹ 64.00  \n",
      "5319  Developer Tools  18-11-2019  ₹ 269.00  \n",
      "5320  Developer Tools  23-01-2014  ₹ 219.00  \n"
     ]
    }
   ],
   "source": [
    "print(df.tail())"
   ]
  },
  {
   "cell_type": "code",
   "execution_count": 10,
   "metadata": {},
   "outputs": [
    {
     "name": "stdout",
     "output_type": "stream",
     "text": [
      "Name:0\n",
      "Rating:0\n",
      "No of people Rated:0\n",
      "Category:0\n",
      "Date:0\n",
      "Price:0\n"
     ]
    }
   ],
   "source": [
    "for i in df.columns:\n",
    "    print(f\"{i}:{df[i].isnull().sum()}\")"
   ]
  },
  {
   "cell_type": "markdown",
   "metadata": {},
   "source": [
    "### DROP THE UNIQUE COLUMN"
   ]
  },
  {
   "cell_type": "code",
   "execution_count": 11,
   "metadata": {},
   "outputs": [],
   "source": [
    "df.drop(['Name'],axis=1,inplace=True)"
   ]
  },
  {
   "cell_type": "code",
   "execution_count": 12,
   "metadata": {},
   "outputs": [
    {
     "name": "stdout",
     "output_type": "stream",
     "text": [
      "<class 'pandas.core.frame.DataFrame'>\n",
      "Int64Index: 5321 entries, 0 to 5320\n",
      "Data columns (total 5 columns):\n",
      " #   Column              Non-Null Count  Dtype  \n",
      "---  ------              --------------  -----  \n",
      " 0   Rating              5321 non-null   float64\n",
      " 1   No of people Rated  5321 non-null   int64  \n",
      " 2   Category            5321 non-null   object \n",
      " 3   Date                5321 non-null   object \n",
      " 4   Price               5321 non-null   object \n",
      "dtypes: float64(1), int64(1), object(3)\n",
      "memory usage: 187.1+ KB\n",
      "None\n"
     ]
    }
   ],
   "source": [
    "print(df.info())"
   ]
  },
  {
   "cell_type": "markdown",
   "metadata": {},
   "source": [
    "### ENCODING TECHNIQUE"
   ]
  },
  {
   "cell_type": "markdown",
   "metadata": {},
   "source": [
    "### PRICE"
   ]
  },
  {
   "cell_type": "code",
   "execution_count": 13,
   "metadata": {},
   "outputs": [
    {
     "data": {
      "text/plain": [
       "array(['Free', '₹ 144.00', '₹ 54.00', '₹ 99.00', '₹ 219.00', '₹ 269.00',\n",
       "       '₹ 134.00', '₹ 164.00', '₹ 109.00', '₹ 1,624.00', '₹ 1,099.00',\n",
       "       '₹ 1,349.00', '₹ 59.00', '₹ 154.00', '₹ 119.00', '₹ 94.00',\n",
       "       '₹ 69.00', '₹ 139.00', '₹ 189.00', '₹ 549.00', '₹ 79.00',\n",
       "       '₹ 2,599.00', '₹ 299.00', '₹ 574.00', '₹ 329.40', '₹ 1,521.80',\n",
       "       '₹ 324.00', '₹ 824.00', '₹ 5,449.00', '₹ 89.50', '₹ 114.00',\n",
       "       '₹ 194.00', '₹ 319.00', '₹ 624.00', '₹ 2,149.00', '₹ 1,149.00',\n",
       "       '₹ 434.00', '₹ 279.00', '₹ 209.00', '₹ 699.00', '₹ 1,899.00',\n",
       "       '₹ 489.00', '₹ 54.50', '₹ 64.00'], dtype=object)"
      ]
     },
     "execution_count": 13,
     "metadata": {},
     "output_type": "execute_result"
    }
   ],
   "source": [
    "df['Price'].unique()"
   ]
  },
  {
   "cell_type": "code",
   "execution_count": 14,
   "metadata": {},
   "outputs": [],
   "source": [
    "l=(df['Price'].values[5315])"
   ]
  },
  {
   "cell_type": "code",
   "execution_count": 15,
   "metadata": {},
   "outputs": [
    {
     "data": {
      "text/plain": [
       "'₹ 54.00'"
      ]
     },
     "execution_count": 15,
     "metadata": {},
     "output_type": "execute_result"
    }
   ],
   "source": [
    "l"
   ]
  },
  {
   "cell_type": "code",
   "execution_count": 16,
   "metadata": {},
   "outputs": [],
   "source": [
    "b=l[2:8]"
   ]
  },
  {
   "cell_type": "code",
   "execution_count": 17,
   "metadata": {},
   "outputs": [
    {
     "data": {
      "text/plain": [
       "'54.00'"
      ]
     },
     "execution_count": 17,
     "metadata": {},
     "output_type": "execute_result"
    }
   ],
   "source": [
    "b"
   ]
  },
  {
   "cell_type": "code",
   "execution_count": 18,
   "metadata": {},
   "outputs": [],
   "source": [
    "df['Price'].replace('Free',0,inplace=True)"
   ]
  },
  {
   "cell_type": "code",
   "execution_count": 19,
   "metadata": {},
   "outputs": [
    {
     "data": {
      "text/plain": [
       "array([0, '₹ 144.00', '₹ 54.00', '₹ 99.00', '₹ 219.00', '₹ 269.00',\n",
       "       '₹ 134.00', '₹ 164.00', '₹ 109.00', '₹ 1,624.00', '₹ 1,099.00',\n",
       "       '₹ 1,349.00', '₹ 59.00', '₹ 154.00', '₹ 119.00', '₹ 94.00',\n",
       "       '₹ 69.00', '₹ 139.00', '₹ 189.00', '₹ 549.00', '₹ 79.00',\n",
       "       '₹ 2,599.00', '₹ 299.00', '₹ 574.00', '₹ 329.40', '₹ 1,521.80',\n",
       "       '₹ 324.00', '₹ 824.00', '₹ 5,449.00', '₹ 89.50', '₹ 114.00',\n",
       "       '₹ 194.00', '₹ 319.00', '₹ 624.00', '₹ 2,149.00', '₹ 1,149.00',\n",
       "       '₹ 434.00', '₹ 279.00', '₹ 209.00', '₹ 699.00', '₹ 1,899.00',\n",
       "       '₹ 489.00', '₹ 54.50', '₹ 64.00'], dtype=object)"
      ]
     },
     "execution_count": 19,
     "metadata": {},
     "output_type": "execute_result"
    }
   ],
   "source": [
    "df['Price'].unique()"
   ]
  },
  {
   "cell_type": "code",
   "execution_count": 20,
   "metadata": {},
   "outputs": [],
   "source": [
    "for i in df['Price'].values:\n",
    "    if(i!=0):\n",
    "        l=len(i)\n",
    "        b=i[2:l+1]\n",
    "        \n",
    "        df.replace(i,b,inplace=True)\n",
    "            \n",
    "            "
   ]
  },
  {
   "cell_type": "code",
   "execution_count": 21,
   "metadata": {},
   "outputs": [
    {
     "data": {
      "text/plain": [
       "array([0, '4.00', '54.00', '99.00', '219.00', '269.00', '134.00',\n",
       "       '164.00', '109.00', '1,624.00', '1,099.00', '1,349.00', '59.00',\n",
       "       '154.00', '119.00', '94.00', '69.00', '139.00', '189.00', '549.00',\n",
       "       '79.00', '2,599.00', '299.00', '574.00', '329.40', '1,521.80',\n",
       "       '324.00', '824.00', '5,449.00', '89.50', '114.00', '194.00',\n",
       "       '319.00', '624.00', '2,149.00', '1,149.00', '434.00', '279.00',\n",
       "       '209.00', '699.00', '1,899.00', '489.00', '54.50', '64.00'],\n",
       "      dtype=object)"
      ]
     },
     "execution_count": 21,
     "metadata": {},
     "output_type": "execute_result"
    }
   ],
   "source": [
    "df['Price'].unique()"
   ]
  },
  {
   "cell_type": "code",
   "execution_count": 22,
   "metadata": {},
   "outputs": [],
   "source": [
    "l='1,234.00'"
   ]
  },
  {
   "cell_type": "code",
   "execution_count": 23,
   "metadata": {},
   "outputs": [],
   "source": [
    "j=float(l.replace(',',''))"
   ]
  },
  {
   "cell_type": "code",
   "execution_count": 24,
   "metadata": {},
   "outputs": [
    {
     "data": {
      "text/plain": [
       "1234.0"
      ]
     },
     "execution_count": 24,
     "metadata": {},
     "output_type": "execute_result"
    }
   ],
   "source": [
    "j"
   ]
  },
  {
   "cell_type": "code",
   "execution_count": 25,
   "metadata": {},
   "outputs": [],
   "source": [
    "for i in df['Price'].unique():\n",
    "    if(i!=0):\n",
    "        flag=0\n",
    "        for ii in i:\n",
    "            if(ii==','):\n",
    "                flag=1\n",
    "                break\n",
    "        if(flag==1):\n",
    "            df.replace(i,float(l.replace(',','')),inplace=True)\n",
    "        else:\n",
    "            df.replace(i,float(i),inplace=True)\n",
    "            \n",
    "    \n",
    "\n",
    "        \n",
    "            \n",
    "        \n",
    "    "
   ]
  },
  {
   "cell_type": "code",
   "execution_count": 26,
   "metadata": {},
   "outputs": [
    {
     "name": "stdout",
     "output_type": "stream",
     "text": [
      "<class 'pandas.core.frame.DataFrame'>\n",
      "Int64Index: 5321 entries, 0 to 5320\n",
      "Data columns (total 5 columns):\n",
      " #   Column              Non-Null Count  Dtype  \n",
      "---  ------              --------------  -----  \n",
      " 0   Rating              5321 non-null   float64\n",
      " 1   No of people Rated  5321 non-null   int64  \n",
      " 2   Category            5321 non-null   object \n",
      " 3   Date                5321 non-null   object \n",
      " 4   Price               5321 non-null   float64\n",
      "dtypes: float64(2), int64(1), object(2)\n",
      "memory usage: 207.9+ KB\n",
      "None\n"
     ]
    }
   ],
   "source": [
    "print(df.info())"
   ]
  },
  {
   "cell_type": "markdown",
   "metadata": {},
   "source": [
    "### Date "
   ]
  },
  {
   "cell_type": "code",
   "execution_count": 27,
   "metadata": {},
   "outputs": [
    {
     "name": "stdout",
     "output_type": "stream",
     "text": [
      "2124\n"
     ]
    }
   ],
   "source": [
    "print(len(df['Date'].unique()))"
   ]
  },
  {
   "cell_type": "code",
   "execution_count": 28,
   "metadata": {},
   "outputs": [],
   "source": [
    "new_df=df['Date'].value_counts().head(10).index"
   ]
  },
  {
   "cell_type": "code",
   "execution_count": 29,
   "metadata": {},
   "outputs": [],
   "source": [
    "for categories in new_df:\n",
    "    df[categories]=np.where(df['Date']==categories,1,0)\n",
    "    "
   ]
  },
  {
   "cell_type": "code",
   "execution_count": 30,
   "metadata": {},
   "outputs": [],
   "source": [
    "df.drop(['Date'],axis=1,inplace=True)"
   ]
  },
  {
   "cell_type": "code",
   "execution_count": 31,
   "metadata": {},
   "outputs": [
    {
     "name": "stdout",
     "output_type": "stream",
     "text": [
      "<class 'pandas.core.frame.DataFrame'>\n",
      "Int64Index: 5321 entries, 0 to 5320\n",
      "Data columns (total 14 columns):\n",
      " #   Column              Non-Null Count  Dtype  \n",
      "---  ------              --------------  -----  \n",
      " 0   Rating              5321 non-null   float64\n",
      " 1   No of people Rated  5321 non-null   int64  \n",
      " 2   Category            5321 non-null   object \n",
      " 3   Price               5321 non-null   float64\n",
      " 4   30-01-2018          5321 non-null   int32  \n",
      " 5   09-08-2014          5321 non-null   int32  \n",
      " 6   29-01-2018          5321 non-null   int32  \n",
      " 7   29-08-2016          5321 non-null   int32  \n",
      " 8   08-09-2018          5321 non-null   int32  \n",
      " 9   22-02-2018          5321 non-null   int32  \n",
      " 10  10-03-2014          5321 non-null   int32  \n",
      " 11  10-01-2013          5321 non-null   int32  \n",
      " 12  06-03-2017          5321 non-null   int32  \n",
      " 13  16-04-2018          5321 non-null   int32  \n",
      "dtypes: float64(2), int32(10), int64(1), object(1)\n",
      "memory usage: 394.9+ KB\n"
     ]
    }
   ],
   "source": [
    "df.info()"
   ]
  },
  {
   "cell_type": "markdown",
   "metadata": {},
   "source": [
    "### Category "
   ]
  },
  {
   "cell_type": "code",
   "execution_count": 32,
   "metadata": {},
   "outputs": [
    {
     "data": {
      "text/plain": [
       "13"
      ]
     },
     "execution_count": 32,
     "metadata": {},
     "output_type": "execute_result"
    }
   ],
   "source": [
    "len(df['Category'].unique())"
   ]
  },
  {
   "cell_type": "code",
   "execution_count": 33,
   "metadata": {},
   "outputs": [],
   "source": [
    "C=pd.get_dummies(df['Category'],drop_first=True)"
   ]
  },
  {
   "cell_type": "code",
   "execution_count": 34,
   "metadata": {},
   "outputs": [],
   "source": [
    "df=pd.concat([C,df],axis=1)"
   ]
  },
  {
   "cell_type": "code",
   "execution_count": 35,
   "metadata": {},
   "outputs": [],
   "source": [
    "df.drop(['Category'],axis=1,inplace=True)"
   ]
  },
  {
   "cell_type": "code",
   "execution_count": 36,
   "metadata": {},
   "outputs": [
    {
     "name": "stdout",
     "output_type": "stream",
     "text": [
      "<class 'pandas.core.frame.DataFrame'>\n",
      "Int64Index: 5321 entries, 0 to 5320\n",
      "Data columns (total 25 columns):\n",
      " #   Column                   Non-Null Count  Dtype  \n",
      "---  ------                   --------------  -----  \n",
      " 0   Business                 5321 non-null   uint8  \n",
      " 1   Developer Tools          5321 non-null   uint8  \n",
      " 2   Food and Dining          5321 non-null   uint8  \n",
      " 3   Government and Politics  5321 non-null   uint8  \n",
      " 4   Health and Fitness       5321 non-null   uint8  \n",
      " 5   Kids and Family          5321 non-null   uint8  \n",
      " 6   Lifestyle                5321 non-null   uint8  \n",
      " 7   Multimedia Design        5321 non-null   uint8  \n",
      " 8   Music                    5321 non-null   uint8  \n",
      " 9   Navigation and Maps      5321 non-null   uint8  \n",
      " 10  News and Weather         5321 non-null   uint8  \n",
      " 11  Social                   5321 non-null   uint8  \n",
      " 12  Rating                   5321 non-null   float64\n",
      " 13  No of people Rated       5321 non-null   int64  \n",
      " 14  Price                    5321 non-null   float64\n",
      " 15  30-01-2018               5321 non-null   int32  \n",
      " 16  09-08-2014               5321 non-null   int32  \n",
      " 17  29-01-2018               5321 non-null   int32  \n",
      " 18  29-08-2016               5321 non-null   int32  \n",
      " 19  08-09-2018               5321 non-null   int32  \n",
      " 20  22-02-2018               5321 non-null   int32  \n",
      " 21  10-03-2014               5321 non-null   int32  \n",
      " 22  10-01-2013               5321 non-null   int32  \n",
      " 23  06-03-2017               5321 non-null   int32  \n",
      " 24  16-04-2018               5321 non-null   int32  \n",
      "dtypes: float64(2), int32(10), int64(1), uint8(12)\n",
      "memory usage: 436.5 KB\n",
      "None\n"
     ]
    }
   ],
   "source": [
    "print(df.info())"
   ]
  },
  {
   "cell_type": "markdown",
   "metadata": {},
   "source": [
    "### CORRELATION (FEATURE SELECTION)"
   ]
  },
  {
   "cell_type": "code",
   "execution_count": 37,
   "metadata": {},
   "outputs": [],
   "source": [
    "corr_matrix=df.corr()"
   ]
  },
  {
   "cell_type": "code",
   "execution_count": 38,
   "metadata": {},
   "outputs": [
    {
     "data": {
      "text/plain": [
       "Price                      1.000000\n",
       "Developer Tools            0.106706\n",
       "Business                   0.086354\n",
       "22-02-2018                -0.005526\n",
       "10-03-2014                -0.005526\n",
       "06-03-2017                -0.005526\n",
       "16-04-2018                -0.005526\n",
       "10-01-2013                -0.005526\n",
       "08-09-2018                -0.005772\n",
       "29-08-2016                -0.006009\n",
       "29-01-2018                -0.006236\n",
       "09-08-2014                -0.007643\n",
       "Government and Politics   -0.014018\n",
       "30-01-2018                -0.015470\n",
       "Multimedia Design         -0.018205\n",
       "No of people Rated        -0.019661\n",
       "Navigation and Maps       -0.020961\n",
       "Food and Dining           -0.021788\n",
       "Social                    -0.031119\n",
       "Kids and Family           -0.031970\n",
       "News and Weather          -0.038363\n",
       "Lifestyle                 -0.038755\n",
       "Health and Fitness        -0.040256\n",
       "Music                     -0.049295\n",
       "Rating                    -0.132802\n",
       "Name: Price, dtype: float64"
      ]
     },
     "execution_count": 38,
     "metadata": {},
     "output_type": "execute_result"
    }
   ],
   "source": [
    "corr_matrix['Price'].sort_values(ascending=False)"
   ]
  },
  {
   "cell_type": "markdown",
   "metadata": {},
   "source": [
    "### DIFFERENTIATE THE FEATURES AND LABELS"
   ]
  },
  {
   "cell_type": "code",
   "execution_count": 39,
   "metadata": {},
   "outputs": [],
   "source": [
    "x=df.drop(['Price'],axis=1)"
   ]
  },
  {
   "cell_type": "code",
   "execution_count": 40,
   "metadata": {},
   "outputs": [],
   "source": [
    "y=df['Price']"
   ]
  },
  {
   "cell_type": "markdown",
   "metadata": {},
   "source": [
    "## TRAIN_TEST_SPLIT"
   ]
  },
  {
   "cell_type": "code",
   "execution_count": 41,
   "metadata": {},
   "outputs": [],
   "source": [
    "X_train,X_test,Y_train,Y_test=train_test_split(x,y,test_size=0.2,random_state=42)"
   ]
  },
  {
   "cell_type": "code",
   "execution_count": 42,
   "metadata": {},
   "outputs": [
    {
     "name": "stdout",
     "output_type": "stream",
     "text": [
      "(4256, 24)\n"
     ]
    }
   ],
   "source": [
    "print(X_train.shape)"
   ]
  },
  {
   "cell_type": "code",
   "execution_count": 43,
   "metadata": {},
   "outputs": [
    {
     "name": "stdout",
     "output_type": "stream",
     "text": [
      "(4256,)\n"
     ]
    }
   ],
   "source": [
    "print(Y_train.shape)"
   ]
  },
  {
   "cell_type": "markdown",
   "metadata": {},
   "source": [
    "## FEATURES SCALING"
   ]
  },
  {
   "cell_type": "code",
   "execution_count": 44,
   "metadata": {},
   "outputs": [],
   "source": [
    "X_train=scale(X_train)"
   ]
  },
  {
   "cell_type": "code",
   "execution_count": 45,
   "metadata": {},
   "outputs": [],
   "source": [
    "X_test=scale(X_test)"
   ]
  },
  {
   "cell_type": "markdown",
   "metadata": {},
   "source": [
    "## SELECT A MODEL AND TRAIN A MODEL"
   ]
  },
  {
   "cell_type": "code",
   "execution_count": 46,
   "metadata": {},
   "outputs": [],
   "source": [
    "#model=RandomForestRegressor()\n",
    "model=LinearRegression()"
   ]
  },
  {
   "cell_type": "code",
   "execution_count": 47,
   "metadata": {},
   "outputs": [
    {
     "data": {
      "text/plain": [
       "LinearRegression()"
      ]
     },
     "execution_count": 47,
     "metadata": {},
     "output_type": "execute_result"
    }
   ],
   "source": [
    "model.fit(X_train,Y_train)"
   ]
  },
  {
   "cell_type": "code",
   "execution_count": 48,
   "metadata": {},
   "outputs": [],
   "source": [
    "some_data1=X_train[0:5,:]"
   ]
  },
  {
   "cell_type": "code",
   "execution_count": 49,
   "metadata": {},
   "outputs": [],
   "source": [
    "some_data2=Y_train.iloc[0:5]"
   ]
  },
  {
   "cell_type": "code",
   "execution_count": 50,
   "metadata": {},
   "outputs": [
    {
     "name": "stdout",
     "output_type": "stream",
     "text": [
      "[0. 0. 0. 0. 0.]\n"
     ]
    }
   ],
   "source": [
    "print(some_data2.values)"
   ]
  },
  {
   "cell_type": "code",
   "execution_count": 51,
   "metadata": {},
   "outputs": [],
   "source": [
    "predictions=model.predict(some_data1)"
   ]
  },
  {
   "cell_type": "code",
   "execution_count": 52,
   "metadata": {},
   "outputs": [
    {
     "data": {
      "text/plain": [
       "array([  9.40645121,  19.98384107,   5.6503488 , -11.17008448,\n",
       "        60.27794928])"
      ]
     },
     "execution_count": 52,
     "metadata": {},
     "output_type": "execute_result"
    }
   ],
   "source": [
    "predictions"
   ]
  },
  {
   "cell_type": "code",
   "execution_count": 53,
   "metadata": {},
   "outputs": [],
   "source": [
    "mse=mean_squared_error(predictions,some_data2)"
   ]
  },
  {
   "cell_type": "code",
   "execution_count": 54,
   "metadata": {},
   "outputs": [],
   "source": [
    "rmse=np.sqrt(mse)"
   ]
  },
  {
   "cell_type": "code",
   "execution_count": 55,
   "metadata": {},
   "outputs": [
    {
     "data": {
      "text/plain": [
       "29.25051666671691"
      ]
     },
     "execution_count": 55,
     "metadata": {},
     "output_type": "execute_result"
    }
   ],
   "source": [
    "rmse"
   ]
  },
  {
   "cell_type": "markdown",
   "metadata": {},
   "source": [
    "### PERFORMANCE MEASURE ON TEST DATA"
   ]
  },
  {
   "cell_type": "code",
   "execution_count": 56,
   "metadata": {},
   "outputs": [],
   "source": [
    "pred=model.predict(X_test)"
   ]
  },
  {
   "cell_type": "code",
   "execution_count": 57,
   "metadata": {},
   "outputs": [],
   "source": [
    "t_mse=mean_squared_error(pred,Y_test)"
   ]
  },
  {
   "cell_type": "code",
   "execution_count": 58,
   "metadata": {},
   "outputs": [],
   "source": [
    "t_rmse=np.sqrt(t_mse)"
   ]
  },
  {
   "cell_type": "code",
   "execution_count": 59,
   "metadata": {},
   "outputs": [
    {
     "data": {
      "text/plain": [
       "91.84169895216336"
      ]
     },
     "execution_count": 59,
     "metadata": {},
     "output_type": "execute_result"
    }
   ],
   "source": [
    "t_rmse"
   ]
  },
  {
   "cell_type": "code",
   "execution_count": null,
   "metadata": {},
   "outputs": [],
   "source": []
  }
 ],
 "metadata": {
  "kernelspec": {
   "display_name": "Python 3",
   "language": "python",
   "name": "python3"
  },
  "language_info": {
   "codemirror_mode": {
    "name": "ipython",
    "version": 3
   },
   "file_extension": ".py",
   "mimetype": "text/x-python",
   "name": "python",
   "nbconvert_exporter": "python",
   "pygments_lexer": "ipython3",
   "version": "3.8.1"
  }
 },
 "nbformat": 4,
 "nbformat_minor": 4
}
